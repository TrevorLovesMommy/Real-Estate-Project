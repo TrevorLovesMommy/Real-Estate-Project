{
 "cells": [
  {
   "cell_type": "markdown",
   "metadata": {},
   "source": [
    "# Rentals\n",
    "----\n",
    "\n",
    "#### Note\n",
    "* Instructions have been included for each segment. You do not have to follow them exactly, but they are included to help you think through the steps."
   ]
  },
  {
   "cell_type": "code",
   "execution_count": 1,
   "metadata": {
    "scrolled": true
   },
   "outputs": [],
   "source": [
    "# Dependencies and Setup\n",
    "import matplotlib.pyplot as plt\n",
    "\n",
    "import pandas as pd\n",
    "import numpy as np\n",
    "%matplotlib inline\n",
    "import seaborn as sns\n",
    "from pandas import ExcelWriter\n",
    "from pandas import ExcelFile\n",
    "import scipy.stats as stats\n",
    "\n",
    "# Output File (CSV)\n",
    "output_rentaldata_file = \"output_data/rentals4counties.csv\""
   ]
  },
  {
   "cell_type": "markdown",
   "metadata": {},
   "source": [
    "## Reading Data and Creating a DataFrame"
   ]
  },
  {
   "cell_type": "code",
   "execution_count": 4,
   "metadata": {},
   "outputs": [
    {
     "data": {
      "text/html": [
       "<div>\n",
       "<style scoped>\n",
       "    .dataframe tbody tr th:only-of-type {\n",
       "        vertical-align: middle;\n",
       "    }\n",
       "\n",
       "    .dataframe tbody tr th {\n",
       "        vertical-align: top;\n",
       "    }\n",
       "\n",
       "    .dataframe thead th {\n",
       "        text-align: right;\n",
       "    }\n",
       "</style>\n",
       "<table border=\"1\" class=\"dataframe\">\n",
       "  <thead>\n",
       "    <tr style=\"text-align: right;\">\n",
       "      <th></th>\n",
       "      <th>State</th>\n",
       "      <th>Metro</th>\n",
       "      <th>StateCodeFIPS</th>\n",
       "      <th>MunicipalCodeFIPS</th>\n",
       "      <th>SizeRank</th>\n",
       "      <th>2010-01</th>\n",
       "      <th>2010-02</th>\n",
       "      <th>2010-03</th>\n",
       "      <th>2010-04</th>\n",
       "      <th>2010-05</th>\n",
       "      <th>...</th>\n",
       "      <th>2019-02</th>\n",
       "      <th>2019-03</th>\n",
       "      <th>2019-04</th>\n",
       "      <th>2019-05</th>\n",
       "      <th>2019-06</th>\n",
       "      <th>2019-07</th>\n",
       "      <th>2019-08</th>\n",
       "      <th>2019-09</th>\n",
       "      <th>2019-10</th>\n",
       "      <th>2019-11</th>\n",
       "    </tr>\n",
       "    <tr>\n",
       "      <th>RegionName</th>\n",
       "      <th></th>\n",
       "      <th></th>\n",
       "      <th></th>\n",
       "      <th></th>\n",
       "      <th></th>\n",
       "      <th></th>\n",
       "      <th></th>\n",
       "      <th></th>\n",
       "      <th></th>\n",
       "      <th></th>\n",
       "      <th></th>\n",
       "      <th></th>\n",
       "      <th></th>\n",
       "      <th></th>\n",
       "      <th></th>\n",
       "      <th></th>\n",
       "      <th></th>\n",
       "      <th></th>\n",
       "      <th></th>\n",
       "      <th></th>\n",
       "      <th></th>\n",
       "    </tr>\n",
       "  </thead>\n",
       "  <tbody>\n",
       "    <tr>\n",
       "      <td>RegionName</td>\n",
       "      <td>State</td>\n",
       "      <td>Metro</td>\n",
       "      <td>StateCodeFIPS</td>\n",
       "      <td>MunicipalCodeFIPS</td>\n",
       "      <td>SizeRank</td>\n",
       "      <td>2010-01</td>\n",
       "      <td>2010-02</td>\n",
       "      <td>2010-03</td>\n",
       "      <td>2010-04</td>\n",
       "      <td>2010-05</td>\n",
       "      <td>...</td>\n",
       "      <td>2019-02</td>\n",
       "      <td>2019-03</td>\n",
       "      <td>2019-04</td>\n",
       "      <td>2019-05</td>\n",
       "      <td>2019-06</td>\n",
       "      <td>2019-07</td>\n",
       "      <td>2019-08</td>\n",
       "      <td>2019-09</td>\n",
       "      <td>2019-10</td>\n",
       "      <td>2019-11</td>\n",
       "    </tr>\n",
       "    <tr>\n",
       "      <td>Los Angeles County</td>\n",
       "      <td>CA</td>\n",
       "      <td>Los Angeles-Long Beach-Anaheim</td>\n",
       "      <td>6</td>\n",
       "      <td>37</td>\n",
       "      <td>1</td>\n",
       "      <td>NaN</td>\n",
       "      <td>2400</td>\n",
       "      <td>2400</td>\n",
       "      <td>2411</td>\n",
       "      <td>2460</td>\n",
       "      <td>...</td>\n",
       "      <td>3189.5</td>\n",
       "      <td>3145</td>\n",
       "      <td>3200</td>\n",
       "      <td>3206.5</td>\n",
       "      <td>3216.5</td>\n",
       "      <td>3250</td>\n",
       "      <td>3250</td>\n",
       "      <td>3295</td>\n",
       "      <td>3249.5</td>\n",
       "      <td>3225</td>\n",
       "    </tr>\n",
       "    <tr>\n",
       "      <td>Cook County</td>\n",
       "      <td>IL</td>\n",
       "      <td>Chicago-Naperville-Elgin</td>\n",
       "      <td>17</td>\n",
       "      <td>31</td>\n",
       "      <td>2</td>\n",
       "      <td>NaN</td>\n",
       "      <td>1695</td>\n",
       "      <td>1650</td>\n",
       "      <td>1695</td>\n",
       "      <td>1595</td>\n",
       "      <td>...</td>\n",
       "      <td>1900</td>\n",
       "      <td>1995</td>\n",
       "      <td>2100</td>\n",
       "      <td>2200</td>\n",
       "      <td>2200</td>\n",
       "      <td>2100</td>\n",
       "      <td>2000</td>\n",
       "      <td>1950</td>\n",
       "      <td>1895</td>\n",
       "      <td>1850</td>\n",
       "    </tr>\n",
       "    <tr>\n",
       "      <td>Harris County</td>\n",
       "      <td>TX</td>\n",
       "      <td>Houston-The Woodlands-Sugar Land</td>\n",
       "      <td>48</td>\n",
       "      <td>201</td>\n",
       "      <td>3</td>\n",
       "      <td>NaN</td>\n",
       "      <td>NaN</td>\n",
       "      <td>NaN</td>\n",
       "      <td>NaN</td>\n",
       "      <td>NaN</td>\n",
       "      <td>...</td>\n",
       "      <td>1550</td>\n",
       "      <td>1575</td>\n",
       "      <td>1600</td>\n",
       "      <td>1600</td>\n",
       "      <td>1600</td>\n",
       "      <td>1600</td>\n",
       "      <td>1599</td>\n",
       "      <td>1595</td>\n",
       "      <td>1575</td>\n",
       "      <td>1573.5</td>\n",
       "    </tr>\n",
       "    <tr>\n",
       "      <td>Maricopa County</td>\n",
       "      <td>AZ</td>\n",
       "      <td>Phoenix-Mesa-Scottsdale</td>\n",
       "      <td>4</td>\n",
       "      <td>13</td>\n",
       "      <td>4</td>\n",
       "      <td>NaN</td>\n",
       "      <td>NaN</td>\n",
       "      <td>NaN</td>\n",
       "      <td>NaN</td>\n",
       "      <td>NaN</td>\n",
       "      <td>...</td>\n",
       "      <td>1548</td>\n",
       "      <td>1569</td>\n",
       "      <td>1595</td>\n",
       "      <td>1600</td>\n",
       "      <td>1623</td>\n",
       "      <td>1650</td>\n",
       "      <td>1637.5</td>\n",
       "      <td>1635</td>\n",
       "      <td>1627</td>\n",
       "      <td>1609</td>\n",
       "    </tr>\n",
       "  </tbody>\n",
       "</table>\n",
       "<p>5 rows × 124 columns</p>\n",
       "</div>"
      ],
      "text/plain": [
       "0                   State                             Metro  StateCodeFIPS  \\\n",
       "RegionName                                                                   \n",
       "RegionName          State                             Metro  StateCodeFIPS   \n",
       "Los Angeles County     CA    Los Angeles-Long Beach-Anaheim              6   \n",
       "Cook County            IL          Chicago-Naperville-Elgin             17   \n",
       "Harris County          TX  Houston-The Woodlands-Sugar Land             48   \n",
       "Maricopa County        AZ           Phoenix-Mesa-Scottsdale              4   \n",
       "\n",
       "0                   MunicipalCodeFIPS  SizeRank  2010-01  2010-02  2010-03  \\\n",
       "RegionName                                                                   \n",
       "RegionName          MunicipalCodeFIPS  SizeRank  2010-01  2010-02  2010-03   \n",
       "Los Angeles County                 37         1      NaN     2400     2400   \n",
       "Cook County                        31         2      NaN     1695     1650   \n",
       "Harris County                     201         3      NaN      NaN      NaN   \n",
       "Maricopa County                    13         4      NaN      NaN      NaN   \n",
       "\n",
       "0                   2010-04  2010-05  ...  2019-02  2019-03  2019-04  2019-05  \\\n",
       "RegionName                            ...                                       \n",
       "RegionName          2010-04  2010-05  ...  2019-02  2019-03  2019-04  2019-05   \n",
       "Los Angeles County     2411     2460  ...   3189.5     3145     3200   3206.5   \n",
       "Cook County            1695     1595  ...     1900     1995     2100     2200   \n",
       "Harris County           NaN      NaN  ...     1550     1575     1600     1600   \n",
       "Maricopa County         NaN      NaN  ...     1548     1569     1595     1600   \n",
       "\n",
       "0                   2019-06  2019-07  2019-08  2019-09  2019-10  2019-11  \n",
       "RegionName                                                                \n",
       "RegionName          2019-06  2019-07  2019-08  2019-09  2019-10  2019-11  \n",
       "Los Angeles County   3216.5     3250     3250     3295   3249.5     3225  \n",
       "Cook County            2200     2100     2000     1950     1895     1850  \n",
       "Harris County          1600     1600     1599     1595     1575   1573.5  \n",
       "Maricopa County        1623     1650   1637.5     1635     1627     1609  \n",
       "\n",
       "[5 rows x 124 columns]"
      ]
     },
     "execution_count": 4,
     "metadata": {},
     "output_type": "execute_result"
    }
   ],
   "source": [
    "# Reading the rental file\n",
    "rentaldata_df = pd.read_excel('../resources/County_MedianRentalPrice_3Bedroom.xlsx')\n",
    "rentaldata_df.columns = rentaldata_df.iloc[0]\n",
    "rentaldata_df.set_index('RegionName', inplace=True)\n",
    "rentaldata_df.head()"
   ]
  },
  {
   "cell_type": "code",
   "execution_count": 5,
   "metadata": {},
   "outputs": [
    {
     "data": {
      "text/html": [
       "<div>\n",
       "<style scoped>\n",
       "    .dataframe tbody tr th:only-of-type {\n",
       "        vertical-align: middle;\n",
       "    }\n",
       "\n",
       "    .dataframe tbody tr th {\n",
       "        vertical-align: top;\n",
       "    }\n",
       "\n",
       "    .dataframe thead th {\n",
       "        text-align: right;\n",
       "    }\n",
       "</style>\n",
       "<table border=\"1\" class=\"dataframe\">\n",
       "  <thead>\n",
       "    <tr style=\"text-align: right;\">\n",
       "      <th></th>\n",
       "      <th>State</th>\n",
       "      <th>Metro</th>\n",
       "      <th>StateCodeFIPS</th>\n",
       "      <th>MunicipalCodeFIPS</th>\n",
       "      <th>SizeRank</th>\n",
       "      <th>2010-01</th>\n",
       "      <th>2010-02</th>\n",
       "      <th>2010-03</th>\n",
       "      <th>2010-04</th>\n",
       "      <th>2010-05</th>\n",
       "      <th>...</th>\n",
       "      <th>2019-02</th>\n",
       "      <th>2019-03</th>\n",
       "      <th>2019-04</th>\n",
       "      <th>2019-05</th>\n",
       "      <th>2019-06</th>\n",
       "      <th>2019-07</th>\n",
       "      <th>2019-08</th>\n",
       "      <th>2019-09</th>\n",
       "      <th>2019-10</th>\n",
       "      <th>2019-11</th>\n",
       "    </tr>\n",
       "    <tr>\n",
       "      <th>RegionName</th>\n",
       "      <th></th>\n",
       "      <th></th>\n",
       "      <th></th>\n",
       "      <th></th>\n",
       "      <th></th>\n",
       "      <th></th>\n",
       "      <th></th>\n",
       "      <th></th>\n",
       "      <th></th>\n",
       "      <th></th>\n",
       "      <th></th>\n",
       "      <th></th>\n",
       "      <th></th>\n",
       "      <th></th>\n",
       "      <th></th>\n",
       "      <th></th>\n",
       "      <th></th>\n",
       "      <th></th>\n",
       "      <th></th>\n",
       "      <th></th>\n",
       "      <th></th>\n",
       "    </tr>\n",
       "  </thead>\n",
       "  <tbody>\n",
       "    <tr>\n",
       "      <td>Los Angeles County</td>\n",
       "      <td>CA</td>\n",
       "      <td>Los Angeles-Long Beach-Anaheim</td>\n",
       "      <td>6</td>\n",
       "      <td>37</td>\n",
       "      <td>1</td>\n",
       "      <td>NaN</td>\n",
       "      <td>2400</td>\n",
       "      <td>2400</td>\n",
       "      <td>2411</td>\n",
       "      <td>2460</td>\n",
       "      <td>...</td>\n",
       "      <td>3189.5</td>\n",
       "      <td>3145</td>\n",
       "      <td>3200</td>\n",
       "      <td>3206.5</td>\n",
       "      <td>3216.5</td>\n",
       "      <td>3250</td>\n",
       "      <td>3250</td>\n",
       "      <td>3295</td>\n",
       "      <td>3249.5</td>\n",
       "      <td>3225</td>\n",
       "    </tr>\n",
       "    <tr>\n",
       "      <td>San Francisco County</td>\n",
       "      <td>CA</td>\n",
       "      <td>San Francisco-Oakland-Hayward</td>\n",
       "      <td>6</td>\n",
       "      <td>75</td>\n",
       "      <td>65</td>\n",
       "      <td>NaN</td>\n",
       "      <td>NaN</td>\n",
       "      <td>NaN</td>\n",
       "      <td>NaN</td>\n",
       "      <td>NaN</td>\n",
       "      <td>...</td>\n",
       "      <td>5372.5</td>\n",
       "      <td>5300</td>\n",
       "      <td>5350</td>\n",
       "      <td>5400</td>\n",
       "      <td>5600</td>\n",
       "      <td>5800</td>\n",
       "      <td>5800</td>\n",
       "      <td>5744.5</td>\n",
       "      <td>5595</td>\n",
       "      <td>5495</td>\n",
       "    </tr>\n",
       "    <tr>\n",
       "      <td>Fresno County</td>\n",
       "      <td>CA</td>\n",
       "      <td>Fresno</td>\n",
       "      <td>6</td>\n",
       "      <td>19</td>\n",
       "      <td>45</td>\n",
       "      <td>NaN</td>\n",
       "      <td>NaN</td>\n",
       "      <td>NaN</td>\n",
       "      <td>NaN</td>\n",
       "      <td>NaN</td>\n",
       "      <td>...</td>\n",
       "      <td>1495</td>\n",
       "      <td>1450</td>\n",
       "      <td>1495</td>\n",
       "      <td>1500</td>\n",
       "      <td>1500</td>\n",
       "      <td>1500</td>\n",
       "      <td>1500</td>\n",
       "      <td>1500</td>\n",
       "      <td>1495</td>\n",
       "      <td>1495</td>\n",
       "    </tr>\n",
       "    <tr>\n",
       "      <td>Shasta County</td>\n",
       "      <td>CA</td>\n",
       "      <td>Redding</td>\n",
       "      <td>6</td>\n",
       "      <td>89</td>\n",
       "      <td>331</td>\n",
       "      <td>NaN</td>\n",
       "      <td>NaN</td>\n",
       "      <td>NaN</td>\n",
       "      <td>NaN</td>\n",
       "      <td>NaN</td>\n",
       "      <td>...</td>\n",
       "      <td>1450</td>\n",
       "      <td>1400</td>\n",
       "      <td>1525</td>\n",
       "      <td>1525</td>\n",
       "      <td>1500</td>\n",
       "      <td>1550</td>\n",
       "      <td>1525</td>\n",
       "      <td>1497.5</td>\n",
       "      <td>1495</td>\n",
       "      <td>1497.5</td>\n",
       "    </tr>\n",
       "  </tbody>\n",
       "</table>\n",
       "<p>4 rows × 124 columns</p>\n",
       "</div>"
      ],
      "text/plain": [
       "0                    State                           Metro StateCodeFIPS  \\\n",
       "RegionName                                                                 \n",
       "Los Angeles County      CA  Los Angeles-Long Beach-Anaheim             6   \n",
       "San Francisco County    CA   San Francisco-Oakland-Hayward             6   \n",
       "Fresno County           CA                          Fresno             6   \n",
       "Shasta County           CA                         Redding             6   \n",
       "\n",
       "0                    MunicipalCodeFIPS SizeRank 2010-01 2010-02 2010-03  \\\n",
       "RegionName                                                                \n",
       "Los Angeles County                  37        1     NaN    2400    2400   \n",
       "San Francisco County                75       65     NaN     NaN     NaN   \n",
       "Fresno County                       19       45     NaN     NaN     NaN   \n",
       "Shasta County                       89      331     NaN     NaN     NaN   \n",
       "\n",
       "0                    2010-04 2010-05  ... 2019-02 2019-03 2019-04 2019-05  \\\n",
       "RegionName                            ...                                   \n",
       "Los Angeles County      2411    2460  ...  3189.5    3145    3200  3206.5   \n",
       "San Francisco County     NaN     NaN  ...  5372.5    5300    5350    5400   \n",
       "Fresno County            NaN     NaN  ...    1495    1450    1495    1500   \n",
       "Shasta County            NaN     NaN  ...    1450    1400    1525    1525   \n",
       "\n",
       "0                    2019-06 2019-07 2019-08 2019-09 2019-10 2019-11  \n",
       "RegionName                                                            \n",
       "Los Angeles County    3216.5    3250    3250    3295  3249.5    3225  \n",
       "San Francisco County    5600    5800    5800  5744.5    5595    5495  \n",
       "Fresno County           1500    1500    1500    1500    1495    1495  \n",
       "Shasta County           1500    1550    1525  1497.5    1495  1497.5  \n",
       "\n",
       "[4 rows x 124 columns]"
      ]
     },
     "execution_count": 5,
     "metadata": {},
     "output_type": "execute_result"
    }
   ],
   "source": [
    "\n",
    "\n",
    "selectcounties_df = rentaldata_df.loc[ ['Los Angeles County' , 'San Francisco County', 'Fresno County', 'Shasta County'] , : ]\n",
    "selectcounties_df"
   ]
  },
  {
   "cell_type": "code",
   "execution_count": 6,
   "metadata": {},
   "outputs": [
    {
     "data": {
      "text/html": [
       "<div>\n",
       "<style scoped>\n",
       "    .dataframe tbody tr th:only-of-type {\n",
       "        vertical-align: middle;\n",
       "    }\n",
       "\n",
       "    .dataframe tbody tr th {\n",
       "        vertical-align: top;\n",
       "    }\n",
       "\n",
       "    .dataframe thead th {\n",
       "        text-align: right;\n",
       "    }\n",
       "</style>\n",
       "<table border=\"1\" class=\"dataframe\">\n",
       "  <thead>\n",
       "    <tr style=\"text-align: right;\">\n",
       "      <th></th>\n",
       "      <th>Average 2014 Rentals</th>\n",
       "      <th>Average 2015 Rentals</th>\n",
       "      <th>Average 2016 Rentals</th>\n",
       "      <th>Average 2017 Rentals</th>\n",
       "      <th>Average 2018 Rentals</th>\n",
       "    </tr>\n",
       "    <tr>\n",
       "      <th>RegionName</th>\n",
       "      <th></th>\n",
       "      <th></th>\n",
       "      <th></th>\n",
       "      <th></th>\n",
       "      <th></th>\n",
       "    </tr>\n",
       "  </thead>\n",
       "  <tbody>\n",
       "    <tr>\n",
       "      <td>Los Angeles County</td>\n",
       "      <td>2376.250000</td>\n",
       "      <td>2711.666667</td>\n",
       "      <td>2827.500000</td>\n",
       "      <td>3020.416667</td>\n",
       "      <td>3121.625000</td>\n",
       "    </tr>\n",
       "    <tr>\n",
       "      <td>San Francisco County</td>\n",
       "      <td>5374.166667</td>\n",
       "      <td>5978.541667</td>\n",
       "      <td>5685.041667</td>\n",
       "      <td>5446.250000</td>\n",
       "      <td>5498.583333</td>\n",
       "    </tr>\n",
       "    <tr>\n",
       "      <td>Fresno County</td>\n",
       "      <td>1106.041667</td>\n",
       "      <td>1180.000000</td>\n",
       "      <td>1239.583333</td>\n",
       "      <td>1337.708333</td>\n",
       "      <td>1424.375000</td>\n",
       "    </tr>\n",
       "    <tr>\n",
       "      <td>Shasta County</td>\n",
       "      <td>1161.250000</td>\n",
       "      <td>1243.125000</td>\n",
       "      <td>1250.416667</td>\n",
       "      <td>1300.416667</td>\n",
       "      <td>1390.416667</td>\n",
       "    </tr>\n",
       "  </tbody>\n",
       "</table>\n",
       "</div>"
      ],
      "text/plain": [
       "0                     Average 2014 Rentals  Average 2015 Rentals  \\\n",
       "RegionName                                                         \n",
       "Los Angeles County             2376.250000           2711.666667   \n",
       "San Francisco County           5374.166667           5978.541667   \n",
       "Fresno County                  1106.041667           1180.000000   \n",
       "Shasta County                  1161.250000           1243.125000   \n",
       "\n",
       "0                     Average 2016 Rentals  Average 2017 Rentals  \\\n",
       "RegionName                                                         \n",
       "Los Angeles County             2827.500000           3020.416667   \n",
       "San Francisco County           5685.041667           5446.250000   \n",
       "Fresno County                  1239.583333           1337.708333   \n",
       "Shasta County                  1250.416667           1300.416667   \n",
       "\n",
       "0                     Average 2018 Rentals  \n",
       "RegionName                                  \n",
       "Los Angeles County             3121.625000  \n",
       "San Francisco County           5498.583333  \n",
       "Fresno County                  1424.375000  \n",
       "Shasta County                  1390.416667  "
      ]
     },
     "execution_count": 6,
     "metadata": {},
     "output_type": "execute_result"
    }
   ],
   "source": [
    "col2014=selectcounties_df.loc[: , \"2014-01\":\"2014-12\"]\n",
    "selectcounties_df['Average 2014 Rentals'] = col2014.mean(axis=1)\n",
    "col2015=selectcounties_df.loc[: , \"2015-01\":\"2015-12\"]\n",
    "selectcounties_df['Average 2015 Rentals'] = col2015.mean(axis=1)\n",
    "col2016=selectcounties_df.loc[: , \"2016-01\":\"2016-12\"]\n",
    "selectcounties_df['Average 2016 Rentals'] = col2016.mean(axis=1)\n",
    "col2017=selectcounties_df.loc[: , \"2017-01\":\"2017-12\"]\n",
    "selectcounties_df['Average 2017 Rentals'] = col2017.mean(axis=1)\n",
    "col2018=selectcounties_df.loc[: , \"2018-01\":\"2018-12\"]\n",
    "selectcounties_df['Average 2018 Rentals'] = col2018.mean(axis=1)\n",
    "selected_counties_years_df=selectcounties_df.loc[:,[\"Average 2014 Rentals\", \"Average 2015 Rentals\", \"Average 2016 Rentals\", \"Average 2017 Rentals\", \"Average 2018 Rentals\"]]\n",
    "selected_counties_years_df"
   ]
  },
  {
   "cell_type": "code",
   "execution_count": 8,
   "metadata": {},
   "outputs": [],
   "source": [
    "\n",
    "selected_counties_years_df_transposed=selected_counties_years_df.transpose()\n",
    "selected_counties_years_df_transposed\n",
    "selected_counties_years_df_transposed.to_csv(\"../output files/rentals4counties.csv\")"
   ]
  },
  {
   "cell_type": "code",
   "execution_count": 15,
   "metadata": {},
   "outputs": [
    {
     "data": {
      "text/html": [
       "<div>\n",
       "<style scoped>\n",
       "    .dataframe tbody tr th:only-of-type {\n",
       "        vertical-align: middle;\n",
       "    }\n",
       "\n",
       "    .dataframe tbody tr th {\n",
       "        vertical-align: top;\n",
       "    }\n",
       "\n",
       "    .dataframe thead th {\n",
       "        text-align: right;\n",
       "    }\n",
       "</style>\n",
       "<table border=\"1\" class=\"dataframe\">\n",
       "  <thead>\n",
       "    <tr style=\"text-align: right;\">\n",
       "      <th></th>\n",
       "      <th>Unnamed: 0</th>\n",
       "      <th>RegionName</th>\n",
       "      <th>2014 Avg Price</th>\n",
       "      <th>2015 Avg Price</th>\n",
       "      <th>2016 Avg Price</th>\n",
       "      <th>2017 Avg Price</th>\n",
       "      <th>2018 Avg Price</th>\n",
       "    </tr>\n",
       "  </thead>\n",
       "  <tbody>\n",
       "    <tr>\n",
       "      <td>0</td>\n",
       "      <td>0</td>\n",
       "      <td>Los Angeles County</td>\n",
       "      <td>4.569512e+05</td>\n",
       "      <td>4.823743e+05</td>\n",
       "      <td>5.180629e+05</td>\n",
       "      <td>5.553628e+05</td>\n",
       "      <td>5.960945e+05</td>\n",
       "    </tr>\n",
       "    <tr>\n",
       "      <td>1</td>\n",
       "      <td>44</td>\n",
       "      <td>Fresno County</td>\n",
       "      <td>1.803132e+05</td>\n",
       "      <td>1.916491e+05</td>\n",
       "      <td>2.037746e+05</td>\n",
       "      <td>2.206875e+05</td>\n",
       "      <td>2.387993e+05</td>\n",
       "    </tr>\n",
       "    <tr>\n",
       "      <td>2</td>\n",
       "      <td>64</td>\n",
       "      <td>San Francisco County</td>\n",
       "      <td>1.194855e+06</td>\n",
       "      <td>1.292884e+06</td>\n",
       "      <td>1.388946e+06</td>\n",
       "      <td>1.471771e+06</td>\n",
       "      <td>1.620576e+06</td>\n",
       "    </tr>\n",
       "    <tr>\n",
       "      <td>3</td>\n",
       "      <td>342</td>\n",
       "      <td>Shasta County</td>\n",
       "      <td>2.020655e+05</td>\n",
       "      <td>2.163343e+05</td>\n",
       "      <td>2.262383e+05</td>\n",
       "      <td>2.414369e+05</td>\n",
       "      <td>2.530390e+05</td>\n",
       "    </tr>\n",
       "  </tbody>\n",
       "</table>\n",
       "</div>"
      ],
      "text/plain": [
       "   Unnamed: 0            RegionName  2014 Avg Price  2015 Avg Price  \\\n",
       "0           0    Los Angeles County    4.569512e+05    4.823743e+05   \n",
       "1          44         Fresno County    1.803132e+05    1.916491e+05   \n",
       "2          64  San Francisco County    1.194855e+06    1.292884e+06   \n",
       "3         342         Shasta County    2.020655e+05    2.163343e+05   \n",
       "\n",
       "   2016 Avg Price  2017 Avg Price  2018 Avg Price  \n",
       "0    5.180629e+05    5.553628e+05    5.960945e+05  \n",
       "1    2.037746e+05    2.206875e+05    2.387993e+05  \n",
       "2    1.388946e+06    1.471771e+06    1.620576e+06  \n",
       "3    2.262383e+05    2.414369e+05    2.530390e+05  "
      ]
     },
     "execution_count": 15,
     "metadata": {},
     "output_type": "execute_result"
    }
   ],
   "source": [
    "housingdata_df=pd.read_csv('../output files/zillow_clean_df.csv')\n",
    "housingdata_df.head()\n",
    "\n",
    "#housingdata_df.columns = housingdata_df.iloc[1]\n",
    "#housingdata_df.set_index('RegionName', inplace=True)\n",
    "#housingdata_transposed_df=housingdata_df.transpose()\n",
    "#housingdata_transposed_df"
   ]
  },
  {
   "cell_type": "code",
   "execution_count": null,
   "metadata": {},
   "outputs": [],
   "source": [
    "\n"
   ]
  },
  {
   "cell_type": "code",
   "execution_count": 33,
   "metadata": {},
   "outputs": [
    {
     "data": {
      "image/png": "[encoded data removed]",
      "text/plain": [
       "<Figure size 1080x360 with 2 Axes>"
      ]
     },
     "metadata": {
      "needs_background": "light"
     },
     "output_type": "display_data"
    }
   ],
   "source": [
    "x= ['2014','2015', '2016', '2017', '2018']\n",
    "y1line = housingdata_transposed_df[\"Los Angeles County\"]\n",
    "y2bar = selected_counties_years_df_transposed[\"Los Angeles County\"]\n",
    "\n",
    "fig, ax1 = plt.subplots(figsize=(15,5))\n",
    "\n",
    "color = 'tab:blue'\n",
    "ax1.set_xlabel('Years')\n",
    "ax1.set_ylabel('Housing Prices ($)', color=color)\n",
    "ax1.set_title('Housing and Rental Prices in Los Angeles County')\n",
    "ax1.bar(x, y1line, color=color)\n",
    "ax1.tick_params(axis='y', labelcolor=color)\n",
    "ax1.legend(['Los Angeles County'], facecolor='w')\n",
    "ax2 = ax1.twinx()  # instantiate a second axes that shares the same x-axis\n",
    "\n",
    "color = 'tab:red'\n",
    "ax2.set_ylabel('Rental Prices($)', color=color)  # we already handled the x-label with ax1\n",
    "ax2.plot(x, y2bar, color=color)\n",
    "ax2.tick_params(axis='y', labelcolor=color)\n",
    "\n",
    "fig.tight_layout()  # otherwise the right y-label is slightly clipped\n",
    "plt.savefig(\"RentalandHousingPricesinLACounty.png\")\n",
    "plt.show()"
   ]
  },
  {
   "cell_type": "code",
   "execution_count": 34,
   "metadata": {},
   "outputs": [
    {
     "data": {
      "image/png": "[encoded data removed]",
      "text/plain": [
       "<Figure size 1080x360 with 2 Axes>"
      ]
     },
     "metadata": {
      "needs_background": "light"
     },
     "output_type": "display_data"
    }
   ],
   "source": [
    "x= ['2014','2015', '2016', '2017', '2018']\n",
    "y1line = housingdata_transposed_df[\"San Francisco County\"]\n",
    "y2bar = selected_counties_years_df_transposed[\"San Francisco County\"]\n",
    "\n",
    "fig, ax1 = plt.subplots(figsize=(15,5))\n",
    "\n",
    "color = 'tab:blue'\n",
    "ax1.set_xlabel('Years')\n",
    "ax1.set_ylabel('Housing Prices ($)', color=color)\n",
    "ax1.bar(x, y1line, color=color)\n",
    "ax1.tick_params(axis='y', labelcolor=color)\n",
    "ax1.set_title('Housing and Rental Prices in San Francisco County')\n",
    "ax1.legend(['San Francisco County'], facecolor='w')\n",
    "ax2 = ax1.twinx()  # instantiate a second axes that shares the same x-axis\n",
    "\n",
    "color = 'tab:red'\n",
    "ax2.set_ylabel('Rental Prices($)', color=color)  # we already handled the x-label with ax1\n",
    "ax2.plot(x, y2bar, color=color)\n",
    "ax2.tick_params(axis='y', labelcolor=color)\n",
    "\n",
    "fig.tight_layout()  # otherwise the right y-label is slightly clipped\n",
    "plt.savefig(\"RentalandHousingPricesinSFCounty.png\")\n",
    "plt.show()"
   ]
  },
  {
   "cell_type": "markdown",
   "metadata": {},
   "source": []
  },
  {
   "cell_type": "code",
   "execution_count": 35,
   "metadata": {},
   "outputs": [
    {
     "data": {
      "image/png": "[encoded data removed]",
      "text/plain": [
       "<Figure size 1080x360 with 2 Axes>"
      ]
     },
     "metadata": {
      "needs_background": "light"
     },
     "output_type": "display_data"
    }
   ],
   "source": [
    "x= ['2014','2015', '2016', '2017', '2018']\n",
    "y1line = housingdata_transposed_df[\"Shasta County\"]\n",
    "y2bar = selected_counties_years_df_transposed[\"Shasta County\"]\n",
    "\n",
    "fig, ax1 = plt.subplots(figsize=(15,5))\n",
    "\n",
    "color = 'tab:blue'\n",
    "ax1.set_xlabel('Years')\n",
    "ax1.set_ylabel('Housing Prices ($)', color=color)\n",
    "ax1.bar(x, y1line, color=color)\n",
    "ax1.tick_params(axis='y', labelcolor=color)\n",
    "ax1.legend(['Shasta County'], facecolor='w')\n",
    "ax1.set_title('Housing and Rental Prices in Shasta County')\n",
    "ax2 = ax1.twinx()  # instantiate a second axes that shares the same x-axis\n",
    "\n",
    "color = 'tab:red'\n",
    "ax2.set_ylabel('Rental Prices($)', color=color)  # we already handled the x-label with ax1\n",
    "ax2.plot(x, y2bar, color=color)\n",
    "ax2.tick_params(axis='y', labelcolor=color)\n",
    "\n",
    "fig.tight_layout()  # otherwise the right y-label is slightly clipped\n",
    "plt.savefig(\"RentalandHousingPricesinShastaCounty.png\")\n",
    "plt.show()"
   ]
  },
  {
   "cell_type": "code",
   "execution_count": 65,
   "metadata": {},
   "outputs": [
    {
     "data": {
      "image/png": "[encoded data removed]",
      "text/plain": [
       "<Figure size 1080x360 with 2 Axes>"
      ]
     },
     "metadata": {},
     "output_type": "display_data"
    }
   ],
   "source": [
    "x= ['2014','2015', '2016', '2017', '2018']\n",
    "y1line = housingdata_transposed_df[\"Fresno County\"]\n",
    "y2bar = selected_counties_years_df_transposed[\"Fresno County\"]\n",
    "\n",
    "fig, ax1 = plt.subplots(figsize=(15,5))\n",
    "\n",
    "color = 'tab:blue'\n",
    "ax1.set_xlabel('Years')\n",
    "ax1.set_ylabel('Housing Prices ($)', color=color)\n",
    "ax1.bar(x, y1line, color=color)\n",
    "ax1.tick_params(axis='y', labelcolor=color)\n",
    "ax1.legend(['Fresno County'], facecolor='w')\n",
    "ax1.set_title('Housing and Rental Prices in Fresno County')\n",
    "ax2 = ax1.twinx()  # instantiate a second axes that shares the same x-axis\n",
    "\n",
    "color = 'tab:red'\n",
    "ax2.set_ylabel('Rental Prices($)', color=color)  # we already handled the x-label with ax1\n",
    "ax2.plot(x, y2bar, color=color)\n",
    "ax2.tick_params(axis='y', labelcolor=color)\n",
    "\n",
    "fig.tight_layout()  # otherwise the right y-label is slightly clipped\n",
    "plt.savefig(\"RentalandHousingPricesinFresnoCounty.png\")\n",
    "plt.show()"
   ]
  },
  {
   "cell_type": "markdown",
   "metadata": {},
   "source": [
    "### Plotting the Data\n",
    "* Use proper labeling of the plots using plot titles (including date of analysis) and axes labels.\n",
    "* Save the plotted figures as .pngs."
   ]
  },
  {
   "cell_type": "markdown",
   "metadata": {},
   "source": [
    "#### Rental averages for 4 counties"
   ]
  },
  {
   "cell_type": "code",
   "execution_count": 36,
   "metadata": {},
   "outputs": [
    {
     "data": {
      "image/png": "[encoded data removed]",
      "text/plain": [
       "<Figure size 432x288 with 1 Axes>"
      ]
     },
     "metadata": {
      "needs_background": "light"
     },
     "output_type": "display_data"
    }
   ],
   "source": [
    "x= ['2014','2015', '2016', '2017', '2018']\n",
    "plt.plot(x, selected_counties_years_df_transposed[\"Los Angeles County\"], marker=\"o\", label = \"Los Angeles County\")\n",
    "plt.plot(x, selected_counties_years_df_transposed[\"San Francisco County\"], marker=\"x\", label = \"San Francisco County\")\n",
    "plt.plot(x, selected_counties_years_df_transposed[\"Fresno County\"], marker=\"^\", label = \"Fresno County\")\n",
    "plt.plot(x, selected_counties_years_df_transposed [\"Shasta County\"], marker=\"*\", label = \"Shasta County\")\n",
    "\n",
    "\n",
    "# Incorporate the other graph properties\n",
    "plt.title(\"Rental Prices in 4 CA Counties\")\n",
    "plt.ylabel(\"Rental Prices ($)\")\n",
    "plt.xlabel(\"Years\")\n",
    "plt.grid(True)\n",
    "plt.legend(loc=\"best\")\n",
    "\n",
    "#plt.xlim(0,4)\n",
    "#plt.ylim(950,6500)\n",
    "#plt.figure(figsize=(20,10))\n",
    "\n",
    "\n",
    "\n",
    "# Save the figure\n",
    "plt.savefig(\"RentalPricesin4Counties.png\")\n",
    "\n",
    "# Show plot\n",
    "plt.show()"
   ]
  },
  {
   "cell_type": "markdown",
   "metadata": {},
   "source": [
    "Collecting data for ANOVA and t Test"
   ]
  },
  {
   "cell_type": "code",
   "execution_count": 44,
   "metadata": {},
   "outputs": [],
   "source": [
    "group1 = selected_counties_years_df_transposed [\"Los Angeles County\"] \n",
    "group2 = selected_counties_years_df_transposed[\"San Francisco County\"]\n",
    "group3 = selected_counties_years_df_transposed [\"Shasta County\"]\n",
    "group4 = selected_counties_years_df_transposed[\"Fresno County\"]"
   ]
  },
  {
   "cell_type": "markdown",
   "metadata": {},
   "source": [
    "ANOVA shows p value to be significant "
   ]
  },
  {
   "cell_type": "code",
   "execution_count": 45,
   "metadata": {},
   "outputs": [
    {
     "data": {
      "text/plain": [
       "F_onewayResult(statistic=500.9461360052821, pvalue=5.039318988502746e-16)"
      ]
     },
     "execution_count": 45,
     "metadata": {},
     "output_type": "execute_result"
    }
   ],
   "source": [
    "stats.f_oneway(group1, group2, group3, group4)"
   ]
  },
  {
   "cell_type": "markdown",
   "metadata": {},
   "source": [
    "t Test shows significance between LA and Shasta and San Francisco rental prices means they are different but Fresno and Shasta are not different"
   ]
  },
  {
   "cell_type": "code",
   "execution_count": 46,
   "metadata": {},
   "outputs": [
    {
     "data": {
      "text/plain": [
       "Ttest_indResult(statistic=37.68337349106667, pvalue=2.798997125677211e-07)"
      ]
     },
     "execution_count": 46,
     "metadata": {},
     "output_type": "execute_result"
    }
   ],
   "source": [
    "stats.ttest_ind(group2, group3, equal_var=False)"
   ]
  },
  {
   "cell_type": "code",
   "execution_count": 47,
   "metadata": {},
   "outputs": [
    {
     "data": {
      "text/plain": [
       "Ttest_indResult(statistic=11.372907286194092, pvalue=0.00014098256766199854)"
      ]
     },
     "execution_count": 47,
     "metadata": {},
     "output_type": "execute_result"
    }
   ],
   "source": [
    "stats.ttest_ind(group1, group3, equal_var=False)"
   ]
  },
  {
   "cell_type": "code",
   "execution_count": 49,
   "metadata": {},
   "outputs": [
    {
     "data": {
      "text/plain": [
       "Ttest_indResult(statistic=0.17087855216510936, pvalue=0.8691693277893662)"
      ]
     },
     "execution_count": 49,
     "metadata": {},
     "output_type": "execute_result"
    }
   ],
   "source": [
    "stats.ttest_ind(group3, group4, equal_var=False)"
   ]
  },
  {
   "cell_type": "code",
   "execution_count": 50,
   "metadata": {},
   "outputs": [
    {
     "data": {
      "text/plain": [
       "Ttest_indResult(statistic=-16.42690622372466, pvalue=2.681567814305307e-07)"
      ]
     },
     "execution_count": 50,
     "metadata": {},
     "output_type": "execute_result"
    }
   ],
   "source": [
    "stats.ttest_ind(group1, group2, equal_var=False)"
   ]
  },
  {
   "cell_type": "code",
   "execution_count": 51,
   "metadata": {},
   "outputs": [
    {
     "data": {
      "text/plain": [
       "Ttest_indResult(statistic=10.946615634798594, pvalue=6.494719904989969e-05)"
      ]
     },
     "execution_count": 51,
     "metadata": {},
     "output_type": "execute_result"
    }
   ],
   "source": [
    "stats.ttest_ind(group1, group4, equal_var=False)"
   ]
  },
  {
   "cell_type": "code",
   "execution_count": 52,
   "metadata": {},
   "outputs": [
    {
     "data": {
      "text/plain": [
       "Ttest_indResult(statistic=35.490466710806594, pvalue=3.239459342261499e-08)"
      ]
     },
     "execution_count": 52,
     "metadata": {},
     "output_type": "execute_result"
    }
   ],
   "source": [
    "stats.ttest_ind(group2, group4, equal_var=False)"
   ]
  },
  {
   "cell_type": "code",
   "execution_count": null,
   "metadata": {},
   "outputs": [],
   "source": []
  }
 ],
 "metadata": {
  "anaconda-cloud": {},
  "kernel_info": {
   "name": "python3"
  },
  "kernelspec": {
   "display_name": "Python 3",
   "language": "python",
   "name": "python3"
  },
  "language_info": {
   "codemirror_mode": {
    "name": "ipython",
    "version": 3
   },
   "file_extension": ".py",
   "mimetype": "text/x-python",
   "name": "python",
   "nbconvert_exporter": "python",
   "pygments_lexer": "ipython3",
   "version": "3.7.4"
  },
  "nteract": {
   "version": "0.12.3"
  }
 },
 "nbformat": 4,
 "nbformat_minor": 2
}
