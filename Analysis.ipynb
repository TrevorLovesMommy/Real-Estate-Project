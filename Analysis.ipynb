{
 "cells": [
  {
   "cell_type": "code",
   "execution_count": 1,
   "metadata": {},
   "outputs": [],
   "source": [
    "import pandas as pd\n",
    "pd.options.display.float_format = '{:.2f}'.format #turn off scientific notation\n",
    "import numpy as np\n",
    "import matplotlib.pyplot as plt\n",
    "%matplotlib notebook\n",
    "from scipy.stats import linregress\n",
    "import scipy.stats as stats\n",
    "plt.rcParams.update({'figure.max_open_warning': 0}) #turns off warning for too many plots"
   ]
  },
  {
   "cell_type": "markdown",
   "metadata": {},
   "source": [
    "## Read Cleaned Zillow Data"
   ]
  },
  {
   "cell_type": "code",
   "execution_count": 2,
   "metadata": {},
   "outputs": [
    {
     "data": {
      "text/html": [
       "<div>\n",
       "<style scoped>\n",
       "    .dataframe tbody tr th:only-of-type {\n",
       "        vertical-align: middle;\n",
       "    }\n",
       "\n",
       "    .dataframe tbody tr th {\n",
       "        vertical-align: top;\n",
       "    }\n",
       "\n",
       "    .dataframe thead th {\n",
       "        text-align: right;\n",
       "    }\n",
       "</style>\n",
       "<table border=\"1\" class=\"dataframe\">\n",
       "  <thead>\n",
       "    <tr style=\"text-align: right;\">\n",
       "      <th></th>\n",
       "      <th>Los Angeles County</th>\n",
       "      <th>Fresno County</th>\n",
       "      <th>San Francisco County</th>\n",
       "      <th>Shasta County</th>\n",
       "    </tr>\n",
       "  </thead>\n",
       "  <tbody>\n",
       "    <tr>\n",
       "      <td>2014 Avg Price</td>\n",
       "      <td>456951.25</td>\n",
       "      <td>180313.22</td>\n",
       "      <td>1194854.92</td>\n",
       "      <td>202065.47</td>\n",
       "    </tr>\n",
       "    <tr>\n",
       "      <td>2015 Avg Price</td>\n",
       "      <td>482374.33</td>\n",
       "      <td>191649.06</td>\n",
       "      <td>1292884.22</td>\n",
       "      <td>216334.31</td>\n",
       "    </tr>\n",
       "    <tr>\n",
       "      <td>2016 Avg Price</td>\n",
       "      <td>518062.94</td>\n",
       "      <td>203774.64</td>\n",
       "      <td>1388945.64</td>\n",
       "      <td>226238.28</td>\n",
       "    </tr>\n",
       "    <tr>\n",
       "      <td>2017 Avg Price</td>\n",
       "      <td>555362.75</td>\n",
       "      <td>220687.50</td>\n",
       "      <td>1471771.03</td>\n",
       "      <td>241436.89</td>\n",
       "    </tr>\n",
       "    <tr>\n",
       "      <td>2018 Avg Price</td>\n",
       "      <td>596094.53</td>\n",
       "      <td>238799.28</td>\n",
       "      <td>1620575.75</td>\n",
       "      <td>253039.00</td>\n",
       "    </tr>\n",
       "  </tbody>\n",
       "</table>\n",
       "</div>"
      ],
      "text/plain": [
       "                Los Angeles County  Fresno County  San Francisco County  \\\n",
       "2014 Avg Price           456951.25      180313.22            1194854.92   \n",
       "2015 Avg Price           482374.33      191649.06            1292884.22   \n",
       "2016 Avg Price           518062.94      203774.64            1388945.64   \n",
       "2017 Avg Price           555362.75      220687.50            1471771.03   \n",
       "2018 Avg Price           596094.53      238799.28            1620575.75   \n",
       "\n",
       "                Shasta County  \n",
       "2014 Avg Price      202065.47  \n",
       "2015 Avg Price      216334.31  \n",
       "2016 Avg Price      226238.28  \n",
       "2017 Avg Price      241436.89  \n",
       "2018 Avg Price      253039.00  "
      ]
     },
     "execution_count": 2,
     "metadata": {},
     "output_type": "execute_result"
    }
   ],
   "source": [
    "#read Zillow 3 bedroom data by county into pandas dataframe \n",
    "file = \"output files/zillow_clean_df.csv\" \n",
    "zillow_df = pd.read_csv(file, index_col = 0) \n",
    "#zillow_df = pd.read_csv(file) \n",
    "zillow_df.head()"
   ]
  },
  {
   "cell_type": "markdown",
   "metadata": {},
   "source": [
    "## Read Income Data"
   ]
  },
  {
   "cell_type": "code",
   "execution_count": 3,
   "metadata": {},
   "outputs": [
    {
     "data": {
      "text/html": [
       "<div>\n",
       "<style scoped>\n",
       "    .dataframe tbody tr th:only-of-type {\n",
       "        vertical-align: middle;\n",
       "    }\n",
       "\n",
       "    .dataframe tbody tr th {\n",
       "        vertical-align: top;\n",
       "    }\n",
       "\n",
       "    .dataframe thead th {\n",
       "        text-align: right;\n",
       "    }\n",
       "</style>\n",
       "<table border=\"1\" class=\"dataframe\">\n",
       "  <thead>\n",
       "    <tr style=\"text-align: right;\">\n",
       "      <th></th>\n",
       "      <th>Los Angeles County</th>\n",
       "      <th>Fresno County</th>\n",
       "      <th>San Francisco County</th>\n",
       "      <th>Shasta County</th>\n",
       "    </tr>\n",
       "  </thead>\n",
       "  <tbody>\n",
       "    <tr>\n",
       "      <td>2014 Income</td>\n",
       "      <td>50730</td>\n",
       "      <td>36448</td>\n",
       "      <td>97498</td>\n",
       "      <td>38410</td>\n",
       "    </tr>\n",
       "    <tr>\n",
       "      <td>2015 Income</td>\n",
       "      <td>53521</td>\n",
       "      <td>38323</td>\n",
       "      <td>103529</td>\n",
       "      <td>40882</td>\n",
       "    </tr>\n",
       "    <tr>\n",
       "      <td>2016 Income</td>\n",
       "      <td>57127</td>\n",
       "      <td>40327</td>\n",
       "      <td>114697</td>\n",
       "      <td>43412</td>\n",
       "    </tr>\n",
       "    <tr>\n",
       "      <td>2017 Income</td>\n",
       "      <td>59058</td>\n",
       "      <td>41137</td>\n",
       "      <td>121778</td>\n",
       "      <td>44480</td>\n",
       "    </tr>\n",
       "    <tr>\n",
       "      <td>2018 Income</td>\n",
       "      <td>62224</td>\n",
       "      <td>43084</td>\n",
       "      <td>130696</td>\n",
       "      <td>46582</td>\n",
       "    </tr>\n",
       "  </tbody>\n",
       "</table>\n",
       "</div>"
      ],
      "text/plain": [
       "             Los Angeles County  Fresno County  San Francisco County  \\\n",
       "2014 Income               50730          36448                 97498   \n",
       "2015 Income               53521          38323                103529   \n",
       "2016 Income               57127          40327                114697   \n",
       "2017 Income               59058          41137                121778   \n",
       "2018 Income               62224          43084                130696   \n",
       "\n",
       "             Shasta County  \n",
       "2014 Income          38410  \n",
       "2015 Income          40882  \n",
       "2016 Income          43412  \n",
       "2017 Income          44480  \n",
       "2018 Income          46582  "
      ]
     },
     "execution_count": 3,
     "metadata": {},
     "output_type": "execute_result"
    }
   ],
   "source": [
    "income_df=pd.read_csv(\"output files/income_df.csv\", index_col = 0) \n",
    "income_df.head()"
   ]
  },
  {
   "cell_type": "markdown",
   "metadata": {},
   "source": [
    "## Plot Income vs. Housing Data, 4 counties"
   ]
  },
  {
   "cell_type": "code",
   "execution_count": 4,
   "metadata": {},
   "outputs": [
    {
     "data": {
      "image/png": "[encoded data removed]",
      "text/plain": [
       "<Figure size 360x216 with 2 Axes>"
      ]
     },
     "metadata": {
      "needs_background": "light"
     },
     "output_type": "display_data"
    }
   ],
   "source": [
    "#plot Shasta income and housing price with 2 y axis\n",
    "x=[2014, 2015, 2016, 2017, 2018]\n",
    "y1line = zillow_df.loc[:,\"Shasta County\"]\n",
    "y2bar = income_df.loc[:, \"Shasta County\"]\n",
    "\n",
    "fig, ax1 = plt.subplots(figsize=(5,3))\n",
    "\n",
    "color = 'tab:blue'\n",
    "ax1.set_xlabel('Years')\n",
    "ax1.set_ylim(0, 1600000)\n",
    "ax1.set_ylabel('Housing Prices ($)', color=color)\n",
    "ax1.set_title('Housing and Income in Shasta County')\n",
    "ax1.bar(x, y1line, color=color) \n",
    "ax1.tick_params(axis='y', labelcolor=color)\n",
    "ax1.legend(['Shasta County'], facecolor='w')\n",
    "\n",
    "ax2 = ax1.twinx()  # instantiate a second axes that shares the same x-axis\n",
    "ax2.set_ylim(0, 1600000) #set limit on second axis to same scale as first axis\n",
    "color = 'tab:red'\n",
    "ax2.set_ylabel('Income($)', color=color)  # we already handled the x-label with ax1\n",
    "ax2.plot(x, y2bar, color=color)\n",
    "ax2.tick_params(axis='y', labelcolor=color)\n",
    "\n",
    "fig.tight_layout()  # otherwise the right y-label is slightly clipped\n",
    "plt.savefig(\"IncomandHousingPricesinShastaCounty.png\")\n",
    "plt.show()"
   ]
  },
  {
   "cell_type": "code",
   "execution_count": 5,
   "metadata": {},
   "outputs": [
    {
     "data": {
      "image/png": "[encoded data removed]",
      "text/plain": [
       "<Figure size 360x216 with 2 Axes>"
      ]
     },
     "metadata": {
      "needs_background": "light"
     },
     "output_type": "display_data"
    },
    {
     "data": {
      "image/png": "[encoded data removed]",
      "text/plain": [
       "<Figure size 360x216 with 2 Axes>"
      ]
     },
     "metadata": {
      "needs_background": "light"
     },
     "output_type": "display_data"
    }
   ],
   "source": [
    "#plot LA income and housing price with 2 y axis\n",
    "x=[2014, 2015, 2016, 2017, 2018]\n",
    "y1line = zillow_df.loc[:,\"Los Angeles County\"]\n",
    "y2bar = income_df.loc[:, \"Los Angeles County\"]\n",
    "\n",
    "fig, ax1 = plt.subplots(figsize=(5,3))\n",
    "\n",
    "color = 'tab:blue'\n",
    "ax1.set_xlabel('Years')\n",
    "ax1.set_ylim(0, 1600000)\n",
    "ax1.set_ylabel('Housing Prices ($)', color=color)\n",
    "ax1.set_title('Housing and Income in Los Angeles County')\n",
    "ax1.bar(x, y1line, color=color) \n",
    "ax1.tick_params(axis='y', labelcolor=color)\n",
    "ax1.legend(['Los Angeles County'], facecolor='w')\n",
    "\n",
    "ax2 = ax1.twinx()  # instantiate a second axes that shares the same x-axis\n",
    "ax2.set_ylim(0, 1600000) #set limit on second axis to same scale as first axis\n",
    "color = 'tab:red'\n",
    "ax2.set_ylabel('Income($)', color=color)  # we already handled the x-label with ax1\n",
    "ax2.plot(x, y2bar, color=color)\n",
    "ax2.tick_params(axis='y', labelcolor=color)\n",
    "\n",
    "fig.tight_layout()  # otherwise the right y-label is slightly clipped\n",
    "plt.savefig(\"output images/Income_HousingPrices_LACounty.png\")\n",
    "plt.show()\n",
    "\n",
    "#plot SF income and housing price with 2 y axis\n",
    "fig, ax1 = plt.subplots(figsize=(5,3))\n",
    "\n",
    "y1line = zillow_df.loc[:,\"San Francisco County\"]\n",
    "y2bar = income_df.loc[:, \"San Francisco County\"]\n",
    "color = 'tab:blue'\n",
    "ax1.set_xlabel('Years')\n",
    "ax1.set_ylabel('Housing Prices ($)', color=color)\n",
    "ax1.set_title('Housing and Income in San Francisco County')\n",
    "ax1.bar(x, y1line, color=color) \n",
    "ax1.tick_params(axis='y', labelcolor=color)\n",
    "ax1.legend(['San Francisco County'], facecolor='w')\n",
    "\n",
    "ax2 = ax1.twinx()  # instantiate a second axes that shares the same x-axis\n",
    "ax2.set_ylim(0, 1600000) #set limit on second axis to same scale as first axis\n",
    "color = 'tab:red'\n",
    "ax2.set_ylabel('Income($)', color=color)  # we already handled the x-label with ax1\n",
    "ax2.plot(x, y2bar, color=color)\n",
    "ax2.tick_params(axis='y', labelcolor=color)\n",
    "\n",
    "fig.tight_layout()  # otherwise the right y-label is slightly clipped\n",
    "plt.savefig(\"output images/Income_HousingPrices_SFCounty.png\")\n",
    "plt.show()"
   ]
  },
  {
   "cell_type": "code",
   "execution_count": 6,
   "metadata": {},
   "outputs": [
    {
     "data": {
      "image/png": "[encoded data removed]",
      "text/plain": [
       "<Figure size 360x216 with 2 Axes>"
      ]
     },
     "metadata": {
      "needs_background": "light"
     },
     "output_type": "display_data"
    }
   ],
   "source": [
    "#plot Fresno income and housing price with 2 y axis\n",
    "x=[2014, 2015, 2016, 2017, 2018]\n",
    "y1line = zillow_df.loc[:,\"Fresno County\"]\n",
    "y2bar = income_df.loc[:, \"Fresno County\"]\n",
    "\n",
    "fig, ax1 = plt.subplots(figsize=(5,3))\n",
    "\n",
    "color = 'tab:blue'\n",
    "ax1.set_xlabel('Years')\n",
    "ax1.set_ylim(0, 1600000)\n",
    "ax1.set_ylabel('Housing Prices ($)', color=color)\n",
    "ax1.set_title('Housing and Income in Fresno County')\n",
    "ax1.bar(x, y1line, color=color) \n",
    "ax1.tick_params(axis='y', labelcolor=color)\n",
    "ax1.legend(['Fresno County'], facecolor='w')\n",
    "\n",
    "ax2 = ax1.twinx()  # instantiate a second axes that shares the same x-axis\n",
    "ax2.set_ylim(0, 1600000) #set limit on second axis to same scale as first axis\n",
    "color = 'tab:red'\n",
    "ax2.set_ylabel('Income($)', color=color)  # we already handled the x-label with ax1\n",
    "ax2.plot(x, y2bar, color=color)\n",
    "ax2.tick_params(axis='y', labelcolor=color)\n",
    "\n",
    "fig.tight_layout()  # otherwise the right y-label is slightly clipped\n",
    "plt.savefig(\"output images/Income_HousingPrices_FresnoCounty.png\")\n",
    "plt.show()"
   ]
  },
  {
   "cell_type": "code",
   "execution_count": 7,
   "metadata": {},
   "outputs": [
    {
     "data": {
      "image/png": "[encoded data removed]",
      "text/plain": [
       "<Figure size 360x216 with 2 Axes>"
      ]
     },
     "metadata": {
      "needs_background": "light"
     },
     "output_type": "display_data"
    }
   ],
   "source": [
    "#plot Shasta income and housing price with 2 y axis\n",
    "x=[2014, 2015, 2016, 2017, 2018]\n",
    "y1line = zillow_df.loc[:,\"Shasta County\"]\n",
    "y2bar = income_df.loc[:, \"Shasta County\"]\n",
    "\n",
    "fig, ax1 = plt.subplots(figsize=(5,3))\n",
    "\n",
    "color = 'tab:blue'\n",
    "ax1.set_xlabel('Years')\n",
    "ax1.set_ylim(0, 1600000)\n",
    "ax1.set_ylabel('Housing Prices ($)', color=color)\n",
    "ax1.set_title('Housing and Income in Shasta County')\n",
    "ax1.bar(x, y1line, color=color) \n",
    "ax1.tick_params(axis='y', labelcolor=color)\n",
    "ax1.legend(['Shasta County'], facecolor='w')\n",
    "\n",
    "ax2 = ax1.twinx()  # instantiate a second axes that shares the same x-axis\n",
    "ax2.set_ylim(0, 1600000) #set limit on second axis to same scale as first axis\n",
    "color = 'tab:red'\n",
    "ax2.set_ylabel('Income($)', color=color)  # we already handled the x-label with ax1\n",
    "ax2.plot(x, y2bar, color=color)\n",
    "ax2.tick_params(axis='y', labelcolor=color)\n",
    "\n",
    "fig.tight_layout()  # otherwise the right y-label is slightly clipped\n",
    "plt.savefig(\"output images/Income_HousingPrices_ShastaCounty.png\")\n",
    "plt.show()"
   ]
  },
  {
   "cell_type": "markdown",
   "metadata": {},
   "source": [
    "## Plot Income vs. Housing Price Scatter - all CA counties for 2018"
   ]
  },
  {
   "cell_type": "code",
   "execution_count": 8,
   "metadata": {},
   "outputs": [
    {
     "data": {
      "image/png": "[encoded data removed]",
      "text/plain": [
       "<Figure size 504x504 with 1 Axes>"
      ]
     },
     "metadata": {
      "needs_background": "light"
     },
     "output_type": "display_data"
    },
    {
     "name": "stdout",
     "output_type": "stream",
     "text": [
      "p_value: 5.92e-25\n",
      "r_value: 0.94\n"
     ]
    }
   ],
   "source": [
    "#We want to explore the relationship between housing prices and income for all CA counties for 2018\n",
    "# Show linear relationship between Income and Housing Price\n",
    "\n",
    "#read data files\n",
    "zillow_clean_all_counties_df = pd.read_csv(\"output files/zillow_clean_all_counties_df.csv\")\n",
    "all_counties_income_df = pd.read_csv(\"output files/all_counties_income.csv\", )\n",
    "\n",
    "#merge income and housing into one table\n",
    "income_housing_2018_df = pd.merge(zillow_clean_all_counties_df, all_counties_income_df, on=\"RegionName\", how = \"inner\")\n",
    "#rename column\n",
    "income_housing_2018_df= income_housing_2018_df.rename(columns={\"RegionName\":\"County\"})\n",
    "income_housing_2018_df\n",
    "\n",
    "#plot scatter\n",
    "fig, ax1 = plt.subplots(figsize=(7,7))\n",
    "x = income_housing_2018_df[\"Price\"]\n",
    "y = income_housing_2018_df[\"Income\"]\n",
    "ax1.scatter(x, y)\n",
    "plt.xticks(rotation=90)\n",
    "\n",
    "#plot regression\n",
    "slope, intercept, r_value, p_value, slope_std_error = stats.linregress(x,y)\n",
    "predict_y = slope * x + intercept\n",
    "plt.plot(x, y, \"o\")\n",
    "plt.plot(x, predict_y)\n",
    "\n",
    "\n",
    "ax1.set_xlabel(\"Income\")\n",
    "ax1.set_ylabel(\"Housing Price\")\n",
    "ax1.set_title(\"Income vs. Housing Price\", size = 20)\n",
    "\n",
    "fig.tight_layout()\n",
    "plt.savefig (\"output images/Income_Housing_Scatter_Regression.png\")\n",
    "plt.show()\n",
    "\n",
    "#round the r-value (correlation coefficient) and p-value\n",
    "p_value = '{:0.2e}'.format(p_value)\n",
    "r_value = '{:0.2}'.format(r_value)\n",
    "\n",
    "print(f\"p_value: {p_value}\")\n",
    "print(f\"r_value: {r_value}\")"
   ]
  },
  {
   "cell_type": "markdown",
   "metadata": {},
   "source": [
    "## Read Rental Data"
   ]
  },
  {
   "cell_type": "code",
   "execution_count": 9,
   "metadata": {},
   "outputs": [
    {
     "data": {
      "text/html": [
       "<div>\n",
       "<style scoped>\n",
       "    .dataframe tbody tr th:only-of-type {\n",
       "        vertical-align: middle;\n",
       "    }\n",
       "\n",
       "    .dataframe tbody tr th {\n",
       "        vertical-align: top;\n",
       "    }\n",
       "\n",
       "    .dataframe thead th {\n",
       "        text-align: right;\n",
       "    }\n",
       "</style>\n",
       "<table border=\"1\" class=\"dataframe\">\n",
       "  <thead>\n",
       "    <tr style=\"text-align: right;\">\n",
       "      <th></th>\n",
       "      <th>Los Angeles County</th>\n",
       "      <th>San Francisco County</th>\n",
       "      <th>Fresno County</th>\n",
       "      <th>Shasta County</th>\n",
       "    </tr>\n",
       "    <tr>\n",
       "      <th>0</th>\n",
       "      <th></th>\n",
       "      <th></th>\n",
       "      <th></th>\n",
       "      <th></th>\n",
       "    </tr>\n",
       "  </thead>\n",
       "  <tbody>\n",
       "    <tr>\n",
       "      <td>Average 2014 Rentals</td>\n",
       "      <td>2376.25</td>\n",
       "      <td>5374.17</td>\n",
       "      <td>1106.04</td>\n",
       "      <td>1161.25</td>\n",
       "    </tr>\n",
       "    <tr>\n",
       "      <td>Average 2015 Rentals</td>\n",
       "      <td>2711.67</td>\n",
       "      <td>5978.54</td>\n",
       "      <td>1180.00</td>\n",
       "      <td>1243.12</td>\n",
       "    </tr>\n",
       "    <tr>\n",
       "      <td>Average 2016 Rentals</td>\n",
       "      <td>2827.50</td>\n",
       "      <td>5685.04</td>\n",
       "      <td>1239.58</td>\n",
       "      <td>1250.42</td>\n",
       "    </tr>\n",
       "    <tr>\n",
       "      <td>Average 2017 Rentals</td>\n",
       "      <td>3020.42</td>\n",
       "      <td>5446.25</td>\n",
       "      <td>1337.71</td>\n",
       "      <td>1300.42</td>\n",
       "    </tr>\n",
       "    <tr>\n",
       "      <td>Average 2018 Rentals</td>\n",
       "      <td>3121.62</td>\n",
       "      <td>5498.58</td>\n",
       "      <td>1424.38</td>\n",
       "      <td>1390.42</td>\n",
       "    </tr>\n",
       "  </tbody>\n",
       "</table>\n",
       "</div>"
      ],
      "text/plain": [
       "                      Los Angeles County  San Francisco County  Fresno County  \\\n",
       "0                                                                               \n",
       "Average 2014 Rentals             2376.25               5374.17        1106.04   \n",
       "Average 2015 Rentals             2711.67               5978.54        1180.00   \n",
       "Average 2016 Rentals             2827.50               5685.04        1239.58   \n",
       "Average 2017 Rentals             3020.42               5446.25        1337.71   \n",
       "Average 2018 Rentals             3121.62               5498.58        1424.38   \n",
       "\n",
       "                      Shasta County  \n",
       "0                                    \n",
       "Average 2014 Rentals        1161.25  \n",
       "Average 2015 Rentals        1243.12  \n",
       "Average 2016 Rentals        1250.42  \n",
       "Average 2017 Rentals        1300.42  \n",
       "Average 2018 Rentals        1390.42  "
      ]
     },
     "execution_count": 9,
     "metadata": {},
     "output_type": "execute_result"
    }
   ],
   "source": [
    "#Read Rental Data \n",
    "rental_df = pd.read_csv(\"output files/rentals4counties.csv\", index_col = 0)\n",
    "rental_df.head()"
   ]
  },
  {
   "cell_type": "markdown",
   "metadata": {},
   "source": [
    "## Plot Rental vs. Housing Data, 4 counties"
   ]
  },
  {
   "cell_type": "code",
   "execution_count": 10,
   "metadata": {},
   "outputs": [
    {
     "data": {
      "image/png": "[encoded data removed]",
      "text/plain": [
       "<Figure size 360x216 with 2 Axes>"
      ]
     },
     "metadata": {
      "needs_background": "light"
     },
     "output_type": "display_data"
    }
   ],
   "source": [
    "#plot LA rental and housing price with 2 y axis\n",
    "x= ['2014','2015', '2016', '2017', '2018']\n",
    "y1line = zillow_df[\"Los Angeles County\"]\n",
    "y2bar = rental_df[\"Los Angeles County\"]\n",
    "\n",
    "fig, ax1 = plt.subplots(figsize=(5,3))\n",
    "\n",
    "color = 'tab:blue'\n",
    "ax1.set_xlabel('Years')\n",
    "ax1.set_ylabel('Housing Prices ($)', color=color)\n",
    "ax1.set_title('Housing and Rental Prices in Los Angeles County')\n",
    "ax1.bar(x, y1line, color=color)\n",
    "ax1.tick_params(axis='y', labelcolor=color)\n",
    "ax1.legend(['Los Angeles County'], facecolor='w')\n",
    "ax2 = ax1.twinx()  # instantiate a second axes that shares the same x-axis\n",
    "\n",
    "color = 'tab:red'\n",
    "ax2.set_ylabel('Rental Prices($)', color=color)  # we already handled the x-label with ax1\n",
    "ax2.plot(x, y2bar, color=color)\n",
    "ax2.tick_params(axis='y', labelcolor=color)\n",
    "\n",
    "fig.tight_layout()  # otherwise the right y-label is slightly clipped\n",
    "plt.savefig(\"output images/Rental_HousingPricesi_LACounty.png\")\n",
    "plt.show()"
   ]
  },
  {
   "cell_type": "code",
   "execution_count": 11,
   "metadata": {},
   "outputs": [
    {
     "data": {
      "image/png": "[encoded data removed]",
      "text/plain": [
       "<Figure size 360x216 with 2 Axes>"
      ]
     },
     "metadata": {
      "needs_background": "light"
     },
     "output_type": "display_data"
    }
   ],
   "source": [
    "#plot San Francisco rental and housing price with 2 y axis\n",
    "x= ['2014','2015', '2016', '2017', '2018']\n",
    "y1line = zillow_df[\"San Francisco County\"]\n",
    "y2bar = rental_df[\"San Francisco County\"]\n",
    "\n",
    "fig, ax1 = plt.subplots(figsize=(5,3))\n",
    "\n",
    "color = 'tab:blue'\n",
    "ax1.set_xlabel('Years')\n",
    "ax1.set_ylabel('Housing Prices ($)', color=color)\n",
    "ax1.set_title('Housing and Rental Prices in San Francisco County')\n",
    "ax1.bar(x, y1line, color=color)\n",
    "ax1.tick_params(axis='y', labelcolor=color)\n",
    "ax1.legend(['San Francisco County'], facecolor='w')\n",
    "ax2 = ax1.twinx()  # instantiate a second axes that shares the same x-axis\n",
    "\n",
    "color = 'tab:red'\n",
    "ax2.set_ylabel('Rental Prices($)', color=color)  # we already handled the x-label with ax1\n",
    "ax2.plot(x, y2bar, color=color)\n",
    "ax2.tick_params(axis='y', labelcolor=color)\n",
    "\n",
    "fig.tight_layout()  # otherwise the right y-label is slightly clipped\n",
    "plt.savefig(\"output images/Rental_HousingPricesi_SFCounty.png\")\n",
    "plt.show()"
   ]
  },
  {
   "cell_type": "code",
   "execution_count": 12,
   "metadata": {},
   "outputs": [
    {
     "data": {
      "image/png": "[encoded data removed]",
      "text/plain": [
       "<Figure size 360x216 with 2 Axes>"
      ]
     },
     "metadata": {
      "needs_background": "light"
     },
     "output_type": "display_data"
    }
   ],
   "source": [
    "#plot LA rental and housing price with 2 y axis\n",
    "x= ['2014','2015', '2016', '2017', '2018']\n",
    "y1line = zillow_df[\"Shasta County\"]\n",
    "y2bar = rental_df[\"Shasta County\"]\n",
    "\n",
    "fig, ax1 = plt.subplots(figsize=(5,3))\n",
    "\n",
    "color = 'tab:blue'\n",
    "ax1.set_xlabel('Years')\n",
    "ax1.set_ylabel('Housing Prices ($)', color=color)\n",
    "ax1.bar(x, y1line, color=color)\n",
    "ax1.tick_params(axis='y', labelcolor=color)\n",
    "ax1.legend(['Shasta County'], facecolor='w')\n",
    "ax1.set_title('Housing and Rental Prices in Shasta County')\n",
    "ax2 = ax1.twinx()  # instantiate a second axes that shares the same x-axis\n",
    "\n",
    "color = 'tab:red'\n",
    "ax2.set_ylabel('Rental Prices($)', color=color)  # we already handled the x-label with ax1\n",
    "ax2.plot(x, y2bar, color=color)\n",
    "ax2.tick_params(axis='y', labelcolor=color)\n",
    "\n",
    "fig.tight_layout()  # otherwise the right y-label is slightly clipped\n",
    "plt.savefig(\"output images/Rental_HousingPrices_ShastaCounty.png\")\n",
    "plt.show()"
   ]
  },
  {
   "cell_type": "code",
   "execution_count": 13,
   "metadata": {},
   "outputs": [
    {
     "data": {
      "image/png": "[encoded data removed]",
      "text/plain": [
       "<Figure size 432x288 with 1 Axes>"
      ]
     },
     "metadata": {
      "needs_background": "light"
     },
     "output_type": "display_data"
    }
   ],
   "source": [
    "x= ['2014','2015', '2016', '2017', '2018']\n",
    "\n",
    "fig, ax1 = plt.subplots()\n",
    "plt.plot(x, rental_df[\"Los Angeles County\"], marker=\"o\", label = \"Los Angeles County\")\n",
    "plt.plot(x, rental_df[\"San Francisco County\"], marker=\"x\", label = \"San Francisco County\")\n",
    "plt.plot(x, rental_df[\"Fresno County\"], marker=\"^\", label = \"Fresno County\")\n",
    "plt.plot(x, rental_df [\"Shasta County\"], marker=\"*\", label = \"Shasta County\")\n",
    "\n",
    "\n",
    "# Incorporate the other graph properties\n",
    "plt.title(\"Rental Prices in 4 CA Counties\")\n",
    "plt.ylabel(\"Rental Prices ($)\")\n",
    "plt.xlabel(\"Years\")\n",
    "plt.grid(True)\n",
    "plt.legend(loc=\"best\")\n",
    "\n",
    "#plt.xlim(0,4)\n",
    "#plt.ylim(950,6500)\n",
    "#plt.figure(figsize=(20,10))\n",
    "\n",
    "\n",
    "\n",
    "# Save the figure\n",
    "plt.savefig(\"output images/Rental_Prices_4Counties.png\")\n",
    "\n",
    "# Show plot\n",
    "plt.show()"
   ]
  },
  {
   "cell_type": "markdown",
   "metadata": {},
   "source": [
    "## Rental averages for 4 counties"
   ]
  },
  {
   "cell_type": "code",
   "execution_count": 14,
   "metadata": {},
   "outputs": [
    {
     "data": {
      "image/png": "[encoded data removed]",
      "text/plain": [
       "<Figure size 432x288 with 1 Axes>"
      ]
     },
     "metadata": {
      "needs_background": "light"
     },
     "output_type": "display_data"
    }
   ],
   "source": [
    "x= ['2014','2015', '2016', '2017', '2018']\n",
    "plt.plot(x, rental_df[\"Los Angeles County\"], marker=\"o\", label = \"Los Angeles County\")\n",
    "#plt.plot(x, rental_df[\"San Francisco County\"], marker=\"x\", label = \"San Francisco County\")\n",
    "plt.plot(x, rental_df[\"Fresno County\"], marker=\"^\", label = \"Fresno County\")\n",
    "plt.plot(x, rental_df[\"Shasta County\"], marker=\"*\", label = \"Shasta County\")\n",
    "\n",
    "# Incorporate the other graph properties\n",
    "plt.title(\"Rental Prices in 4 CA Counties\")\n",
    "plt.ylabel(\"Rental Prices ($)\")\n",
    "plt.xlabel(\"Years\")\n",
    "plt.grid(True)\n",
    "plt.legend(loc=\"best\")\n",
    "\n",
    "#plt.xlim(0,4)\n",
    "#plt.ylim(950,6500)\n",
    "#plt.figure(figsize=(20,10))\n",
    "\n",
    "plt.savefig(\"output images/Rental_Prices_4Counties.png\")\n",
    "plt.show()"
   ]
  },
  {
   "cell_type": "markdown",
   "metadata": {},
   "source": [
    "## ANOVA and t Test"
   ]
  },
  {
   "cell_type": "code",
   "execution_count": 15,
   "metadata": {},
   "outputs": [],
   "source": [
    "#compare rental data\n",
    "group1 = rental_df[\"Los Angeles County\"] \n",
    "group2 = rental_df[\"San Francisco County\"]\n",
    "group3 = rental_df[\"Shasta County\"]\n",
    "group4 = rental_df[\"Fresno County\"]"
   ]
  },
  {
   "cell_type": "markdown",
   "metadata": {},
   "source": [
    "ANOVA shows p value to be significant"
   ]
  },
  {
   "cell_type": "code",
   "execution_count": 16,
   "metadata": {},
   "outputs": [
    {
     "data": {
      "text/plain": [
       "F_onewayResult(statistic=500.9461360052821, pvalue=5.039318988502746e-16)"
      ]
     },
     "execution_count": 16,
     "metadata": {},
     "output_type": "execute_result"
    }
   ],
   "source": [
    "stats.f_oneway(group1, group2, group3, group4)"
   ]
  },
  {
   "cell_type": "markdown",
   "metadata": {},
   "source": [
    "t Test shows significance between LA and Shasta and San Francisco rental prices means they are different but Fresno and Shasta are not different"
   ]
  },
  {
   "cell_type": "code",
   "execution_count": 17,
   "metadata": {},
   "outputs": [
    {
     "data": {
      "text/plain": [
       "Ttest_indResult(statistic=37.68337349106659, pvalue=2.7989971256772566e-07)"
      ]
     },
     "execution_count": 17,
     "metadata": {},
     "output_type": "execute_result"
    }
   ],
   "source": [
    "stats.ttest_ind(group2, group3, equal_var=False)"
   ]
  },
  {
   "cell_type": "code",
   "execution_count": 18,
   "metadata": {},
   "outputs": [
    {
     "data": {
      "text/plain": [
       "Ttest_indResult(statistic=11.372907286194094, pvalue=0.00014098256766199814)"
      ]
     },
     "execution_count": 18,
     "metadata": {},
     "output_type": "execute_result"
    }
   ],
   "source": [
    "stats.ttest_ind(group1, group3, equal_var=False)"
   ]
  },
  {
   "cell_type": "code",
   "execution_count": 19,
   "metadata": {},
   "outputs": [
    {
     "data": {
      "text/plain": [
       "Ttest_indResult(statistic=0.17087855216510933, pvalue=0.8691693277893662)"
      ]
     },
     "execution_count": 19,
     "metadata": {},
     "output_type": "execute_result"
    }
   ],
   "source": [
    "stats.ttest_ind(group3, group4, equal_var=False)"
   ]
  },
  {
   "cell_type": "code",
   "execution_count": 20,
   "metadata": {},
   "outputs": [
    {
     "data": {
      "text/plain": [
       "Ttest_indResult(statistic=-16.42690622372465, pvalue=2.681567814305284e-07)"
      ]
     },
     "execution_count": 20,
     "metadata": {},
     "output_type": "execute_result"
    }
   ],
   "source": [
    "stats.ttest_ind(group1, group2, equal_var=False)"
   ]
  },
  {
   "cell_type": "code",
   "execution_count": 21,
   "metadata": {},
   "outputs": [
    {
     "data": {
      "text/plain": [
       "Ttest_indResult(statistic=10.946615634798597, pvalue=6.494719904989934e-05)"
      ]
     },
     "execution_count": 21,
     "metadata": {},
     "output_type": "execute_result"
    }
   ],
   "source": [
    "stats.ttest_ind(group1, group4, equal_var=False)"
   ]
  },
  {
   "cell_type": "code",
   "execution_count": 22,
   "metadata": {},
   "outputs": [
    {
     "data": {
      "text/plain": [
       "Ttest_indResult(statistic=35.49046671080653, pvalue=3.2394593422615825e-08)"
      ]
     },
     "execution_count": 22,
     "metadata": {},
     "output_type": "execute_result"
    }
   ],
   "source": [
    "stats.ttest_ind(group2, group4, equal_var=False)"
   ]
  },
  {
   "cell_type": "markdown",
   "metadata": {},
   "source": [
    "## Plot Rental vs. Housing Price Scatter - all CA counties for 2018"
   ]
  },
  {
   "cell_type": "code",
   "execution_count": 23,
   "metadata": {},
   "outputs": [
    {
     "data": {
      "text/html": [
       "<div>\n",
       "<style scoped>\n",
       "    .dataframe tbody tr th:only-of-type {\n",
       "        vertical-align: middle;\n",
       "    }\n",
       "\n",
       "    .dataframe tbody tr th {\n",
       "        vertical-align: top;\n",
       "    }\n",
       "\n",
       "    .dataframe thead th {\n",
       "        text-align: right;\n",
       "    }\n",
       "</style>\n",
       "<table border=\"1\" class=\"dataframe\">\n",
       "  <thead>\n",
       "    <tr style=\"text-align: right;\">\n",
       "      <th></th>\n",
       "      <th>RegionName</th>\n",
       "      <th>State</th>\n",
       "      <th>2018-01</th>\n",
       "      <th>2018-02</th>\n",
       "      <th>2018-03</th>\n",
       "      <th>2018-04</th>\n",
       "      <th>2018-05</th>\n",
       "      <th>2018-06</th>\n",
       "      <th>2018-07</th>\n",
       "      <th>2018-08</th>\n",
       "      <th>2018-09</th>\n",
       "      <th>2018-10</th>\n",
       "      <th>2018-11</th>\n",
       "      <th>2018-12</th>\n",
       "      <th>Average 2018 Rentals</th>\n",
       "    </tr>\n",
       "  </thead>\n",
       "  <tbody>\n",
       "    <tr>\n",
       "      <td>0</td>\n",
       "      <td>Los Angeles County</td>\n",
       "      <td>CA</td>\n",
       "      <td>3000.00</td>\n",
       "      <td>3000.00</td>\n",
       "      <td>3000.00</td>\n",
       "      <td>3100.00</td>\n",
       "      <td>3150.00</td>\n",
       "      <td>3195.00</td>\n",
       "      <td>3195.00</td>\n",
       "      <td>3200.00</td>\n",
       "      <td>3133.50</td>\n",
       "      <td>3141.00</td>\n",
       "      <td>3195.00</td>\n",
       "      <td>3150.00</td>\n",
       "      <td>3121.62</td>\n",
       "    </tr>\n",
       "    <tr>\n",
       "      <td>1</td>\n",
       "      <td>San Diego County</td>\n",
       "      <td>CA</td>\n",
       "      <td>2700.00</td>\n",
       "      <td>2700.00</td>\n",
       "      <td>2750.00</td>\n",
       "      <td>2800.00</td>\n",
       "      <td>2800.00</td>\n",
       "      <td>2800.00</td>\n",
       "      <td>2850.00</td>\n",
       "      <td>2850.00</td>\n",
       "      <td>2800.00</td>\n",
       "      <td>2765.00</td>\n",
       "      <td>2750.00</td>\n",
       "      <td>2800.00</td>\n",
       "      <td>2780.42</td>\n",
       "    </tr>\n",
       "    <tr>\n",
       "      <td>2</td>\n",
       "      <td>Orange County</td>\n",
       "      <td>CA</td>\n",
       "      <td>3150.00</td>\n",
       "      <td>3195.00</td>\n",
       "      <td>3195.00</td>\n",
       "      <td>3200.00</td>\n",
       "      <td>3200.00</td>\n",
       "      <td>3200.00</td>\n",
       "      <td>3195.00</td>\n",
       "      <td>3150.00</td>\n",
       "      <td>3195.00</td>\n",
       "      <td>3200.00</td>\n",
       "      <td>3195.00</td>\n",
       "      <td>3200.00</td>\n",
       "      <td>3189.58</td>\n",
       "    </tr>\n",
       "    <tr>\n",
       "      <td>3</td>\n",
       "      <td>Riverside County</td>\n",
       "      <td>CA</td>\n",
       "      <td>1995.00</td>\n",
       "      <td>2003.50</td>\n",
       "      <td>2050.00</td>\n",
       "      <td>2100.00</td>\n",
       "      <td>2100.00</td>\n",
       "      <td>2095.00</td>\n",
       "      <td>2095.00</td>\n",
       "      <td>2099.00</td>\n",
       "      <td>2100.00</td>\n",
       "      <td>2150.00</td>\n",
       "      <td>2175.00</td>\n",
       "      <td>2150.00</td>\n",
       "      <td>2092.71</td>\n",
       "    </tr>\n",
       "    <tr>\n",
       "      <td>4</td>\n",
       "      <td>San Bernardino County</td>\n",
       "      <td>CA</td>\n",
       "      <td>1835.00</td>\n",
       "      <td>1900.00</td>\n",
       "      <td>1950.00</td>\n",
       "      <td>1995.00</td>\n",
       "      <td>1950.00</td>\n",
       "      <td>2000.00</td>\n",
       "      <td>2000.00</td>\n",
       "      <td>2000.00</td>\n",
       "      <td>1995.00</td>\n",
       "      <td>1950.00</td>\n",
       "      <td>2095.00</td>\n",
       "      <td>2086.00</td>\n",
       "      <td>1979.67</td>\n",
       "    </tr>\n",
       "  </tbody>\n",
       "</table>\n",
       "</div>"
      ],
      "text/plain": [
       "              RegionName State  2018-01  2018-02  2018-03  2018-04  2018-05  \\\n",
       "0     Los Angeles County    CA  3000.00  3000.00  3000.00  3100.00  3150.00   \n",
       "1       San Diego County    CA  2700.00  2700.00  2750.00  2800.00  2800.00   \n",
       "2          Orange County    CA  3150.00  3195.00  3195.00  3200.00  3200.00   \n",
       "3       Riverside County    CA  1995.00  2003.50  2050.00  2100.00  2100.00   \n",
       "4  San Bernardino County    CA  1835.00  1900.00  1950.00  1995.00  1950.00   \n",
       "\n",
       "   2018-06  2018-07  2018-08  2018-09  2018-10  2018-11  2018-12  \\\n",
       "0  3195.00  3195.00  3200.00  3133.50  3141.00  3195.00  3150.00   \n",
       "1  2800.00  2850.00  2850.00  2800.00  2765.00  2750.00  2800.00   \n",
       "2  3200.00  3195.00  3150.00  3195.00  3200.00  3195.00  3200.00   \n",
       "3  2095.00  2095.00  2099.00  2100.00  2150.00  2175.00  2150.00   \n",
       "4  2000.00  2000.00  2000.00  1995.00  1950.00  2095.00  2086.00   \n",
       "\n",
       "   Average 2018 Rentals  \n",
       "0               3121.62  \n",
       "1               2780.42  \n",
       "2               3189.58  \n",
       "3               2092.71  \n",
       "4               1979.67  "
      ]
     },
     "execution_count": 23,
     "metadata": {},
     "output_type": "execute_result"
    }
   ],
   "source": [
    "#read housing rental for all CA counties, 2018\n",
    "counties2018_df = pd.read_csv(\"output files/rentals_all_counties_2018.csv\")\n",
    "counties2018_df.head()"
   ]
  },
  {
   "cell_type": "code",
   "execution_count": 24,
   "metadata": {},
   "outputs": [
    {
     "data": {
      "text/html": [
       "<div>\n",
       "<style scoped>\n",
       "    .dataframe tbody tr th:only-of-type {\n",
       "        vertical-align: middle;\n",
       "    }\n",
       "\n",
       "    .dataframe tbody tr th {\n",
       "        vertical-align: top;\n",
       "    }\n",
       "\n",
       "    .dataframe thead th {\n",
       "        text-align: right;\n",
       "    }\n",
       "</style>\n",
       "<table border=\"1\" class=\"dataframe\">\n",
       "  <thead>\n",
       "    <tr style=\"text-align: right;\">\n",
       "      <th></th>\n",
       "      <th>Price</th>\n",
       "    </tr>\n",
       "    <tr>\n",
       "      <th>RegionName</th>\n",
       "      <th></th>\n",
       "    </tr>\n",
       "  </thead>\n",
       "  <tbody>\n",
       "    <tr>\n",
       "      <td>Los Angeles County</td>\n",
       "      <td>596094.53</td>\n",
       "    </tr>\n",
       "    <tr>\n",
       "      <td>San Diego County</td>\n",
       "      <td>560627.31</td>\n",
       "    </tr>\n",
       "    <tr>\n",
       "      <td>Orange County</td>\n",
       "      <td>683327.61</td>\n",
       "    </tr>\n",
       "    <tr>\n",
       "      <td>Riverside County</td>\n",
       "      <td>356364.39</td>\n",
       "    </tr>\n",
       "    <tr>\n",
       "      <td>San Bernardino County</td>\n",
       "      <td>327473.67</td>\n",
       "    </tr>\n",
       "  </tbody>\n",
       "</table>\n",
       "</div>"
      ],
      "text/plain": [
       "                          Price\n",
       "RegionName                     \n",
       "Los Angeles County    596094.53\n",
       "San Diego County      560627.31\n",
       "Orange County         683327.61\n",
       "Riverside County      356364.39\n",
       "San Bernardino County 327473.67"
      ]
     },
     "execution_count": 24,
     "metadata": {},
     "output_type": "execute_result"
    }
   ],
   "source": [
    "#read zillow data for all CA counties for 2018\n",
    "housing2018_df = pd.read_csv('output files/zillow_clean_all_counties_df.csv', index_col=0)\n",
    "housing2018_df.head()"
   ]
  },
  {
   "cell_type": "code",
   "execution_count": 25,
   "metadata": {},
   "outputs": [
    {
     "data": {
      "text/html": [
       "<div>\n",
       "<style scoped>\n",
       "    .dataframe tbody tr th:only-of-type {\n",
       "        vertical-align: middle;\n",
       "    }\n",
       "\n",
       "    .dataframe tbody tr th {\n",
       "        vertical-align: top;\n",
       "    }\n",
       "\n",
       "    .dataframe thead th {\n",
       "        text-align: right;\n",
       "    }\n",
       "</style>\n",
       "<table border=\"1\" class=\"dataframe\">\n",
       "  <thead>\n",
       "    <tr style=\"text-align: right;\">\n",
       "      <th></th>\n",
       "      <th>RegionName</th>\n",
       "      <th>Price</th>\n",
       "      <th>State</th>\n",
       "      <th>2018-01</th>\n",
       "      <th>2018-02</th>\n",
       "      <th>2018-03</th>\n",
       "      <th>2018-04</th>\n",
       "      <th>2018-05</th>\n",
       "      <th>2018-06</th>\n",
       "      <th>2018-07</th>\n",
       "      <th>2018-08</th>\n",
       "      <th>2018-09</th>\n",
       "      <th>2018-10</th>\n",
       "      <th>2018-11</th>\n",
       "      <th>2018-12</th>\n",
       "      <th>Average 2018 Rentals</th>\n",
       "    </tr>\n",
       "  </thead>\n",
       "  <tbody>\n",
       "    <tr>\n",
       "      <td>0</td>\n",
       "      <td>Los Angeles County</td>\n",
       "      <td>596094.53</td>\n",
       "      <td>CA</td>\n",
       "      <td>3000.00</td>\n",
       "      <td>3000.00</td>\n",
       "      <td>3000.00</td>\n",
       "      <td>3100.00</td>\n",
       "      <td>3150.00</td>\n",
       "      <td>3195.00</td>\n",
       "      <td>3195.00</td>\n",
       "      <td>3200.00</td>\n",
       "      <td>3133.50</td>\n",
       "      <td>3141.00</td>\n",
       "      <td>3195.00</td>\n",
       "      <td>3150.00</td>\n",
       "      <td>3121.62</td>\n",
       "    </tr>\n",
       "    <tr>\n",
       "      <td>1</td>\n",
       "      <td>San Diego County</td>\n",
       "      <td>560627.31</td>\n",
       "      <td>CA</td>\n",
       "      <td>2700.00</td>\n",
       "      <td>2700.00</td>\n",
       "      <td>2750.00</td>\n",
       "      <td>2800.00</td>\n",
       "      <td>2800.00</td>\n",
       "      <td>2800.00</td>\n",
       "      <td>2850.00</td>\n",
       "      <td>2850.00</td>\n",
       "      <td>2800.00</td>\n",
       "      <td>2765.00</td>\n",
       "      <td>2750.00</td>\n",
       "      <td>2800.00</td>\n",
       "      <td>2780.42</td>\n",
       "    </tr>\n",
       "    <tr>\n",
       "      <td>2</td>\n",
       "      <td>Orange County</td>\n",
       "      <td>683327.61</td>\n",
       "      <td>CA</td>\n",
       "      <td>3150.00</td>\n",
       "      <td>3195.00</td>\n",
       "      <td>3195.00</td>\n",
       "      <td>3200.00</td>\n",
       "      <td>3200.00</td>\n",
       "      <td>3200.00</td>\n",
       "      <td>3195.00</td>\n",
       "      <td>3150.00</td>\n",
       "      <td>3195.00</td>\n",
       "      <td>3200.00</td>\n",
       "      <td>3195.00</td>\n",
       "      <td>3200.00</td>\n",
       "      <td>3189.58</td>\n",
       "    </tr>\n",
       "    <tr>\n",
       "      <td>3</td>\n",
       "      <td>Riverside County</td>\n",
       "      <td>356364.39</td>\n",
       "      <td>CA</td>\n",
       "      <td>1995.00</td>\n",
       "      <td>2003.50</td>\n",
       "      <td>2050.00</td>\n",
       "      <td>2100.00</td>\n",
       "      <td>2100.00</td>\n",
       "      <td>2095.00</td>\n",
       "      <td>2095.00</td>\n",
       "      <td>2099.00</td>\n",
       "      <td>2100.00</td>\n",
       "      <td>2150.00</td>\n",
       "      <td>2175.00</td>\n",
       "      <td>2150.00</td>\n",
       "      <td>2092.71</td>\n",
       "    </tr>\n",
       "    <tr>\n",
       "      <td>4</td>\n",
       "      <td>San Bernardino County</td>\n",
       "      <td>327473.67</td>\n",
       "      <td>CA</td>\n",
       "      <td>1835.00</td>\n",
       "      <td>1900.00</td>\n",
       "      <td>1950.00</td>\n",
       "      <td>1995.00</td>\n",
       "      <td>1950.00</td>\n",
       "      <td>2000.00</td>\n",
       "      <td>2000.00</td>\n",
       "      <td>2000.00</td>\n",
       "      <td>1995.00</td>\n",
       "      <td>1950.00</td>\n",
       "      <td>2095.00</td>\n",
       "      <td>2086.00</td>\n",
       "      <td>1979.67</td>\n",
       "    </tr>\n",
       "  </tbody>\n",
       "</table>\n",
       "</div>"
      ],
      "text/plain": [
       "              RegionName     Price State  2018-01  2018-02  2018-03  2018-04  \\\n",
       "0     Los Angeles County 596094.53    CA  3000.00  3000.00  3000.00  3100.00   \n",
       "1       San Diego County 560627.31    CA  2700.00  2700.00  2750.00  2800.00   \n",
       "2          Orange County 683327.61    CA  3150.00  3195.00  3195.00  3200.00   \n",
       "3       Riverside County 356364.39    CA  1995.00  2003.50  2050.00  2100.00   \n",
       "4  San Bernardino County 327473.67    CA  1835.00  1900.00  1950.00  1995.00   \n",
       "\n",
       "   2018-05  2018-06  2018-07  2018-08  2018-09  2018-10  2018-11  2018-12  \\\n",
       "0  3150.00  3195.00  3195.00  3200.00  3133.50  3141.00  3195.00  3150.00   \n",
       "1  2800.00  2800.00  2850.00  2850.00  2800.00  2765.00  2750.00  2800.00   \n",
       "2  3200.00  3200.00  3195.00  3150.00  3195.00  3200.00  3195.00  3200.00   \n",
       "3  2100.00  2095.00  2095.00  2099.00  2100.00  2150.00  2175.00  2150.00   \n",
       "4  1950.00  2000.00  2000.00  2000.00  1995.00  1950.00  2095.00  2086.00   \n",
       "\n",
       "   Average 2018 Rentals  \n",
       "0               3121.62  \n",
       "1               2780.42  \n",
       "2               3189.58  \n",
       "3               2092.71  \n",
       "4               1979.67  "
      ]
     },
     "execution_count": 25,
     "metadata": {},
     "output_type": "execute_result"
    }
   ],
   "source": [
    "#merge housing and rental data on counties, \n",
    "housing_rental_df= pd.merge(housing2018_df, counties2018_df, on=\"RegionName\", how=\"inner\")\n",
    "housing_rental_df.head()"
   ]
  },
  {
   "cell_type": "code",
   "execution_count": 26,
   "metadata": {
    "scrolled": true
   },
   "outputs": [
    {
     "data": {
      "image/png": "[encoded data removed]",
      "text/plain": [
       "<Figure size 504x504 with 1 Axes>"
      ]
     },
     "metadata": {
      "needs_background": "light"
     },
     "output_type": "display_data"
    },
    {
     "name": "stdout",
     "output_type": "stream",
     "text": [
      "p_value: 1.68e-15\n",
      "r_value: 0.94\n"
     ]
    }
   ],
   "source": [
    "fig, ax1 = plt.subplots(figsize=(7,7))\n",
    "y = housing_rental_df[\"Price\"]\n",
    "x = housing_rental_df[\"Average 2018 Rentals\"]\n",
    "slope, intercept, r_value, p_value, slope_std_error = stats.linregress(x,y)\n",
    "predict_y = slope * x + intercept\n",
    "ax1.scatter(x, y)\n",
    "plt.xticks(rotation=90)\n",
    "plt.plot(x, y, 'o')\n",
    "plt.plot(x, predict_y)\n",
    "ax1.set_xlabel(\"Rentals\")\n",
    "ax1.set_ylabel(\"Housing Price\")\n",
    "ax1.set_title(\"Rentals vs. Housing Price\", size =20)\n",
    "fig.tight_layout()\n",
    "plt.savefig (\"output images/Rental_Housing_Scatter_Regression.png\")\n",
    "plt.show()\n",
    "\n",
    "#round the r-value (correlation coefficient) and p-value\n",
    "p_value = '{:0.2e}'.format(p_value)\n",
    "r_value = '{:0.2}'.format(r_value)\n",
    "print(f\"p_value: {p_value}\")\n",
    "print(f\"r_value: {r_value}\")"
   ]
  },
  {
   "cell_type": "markdown",
   "metadata": {},
   "source": [
    "## Read Unemployment Data"
   ]
  },
  {
   "cell_type": "code",
   "execution_count": 27,
   "metadata": {},
   "outputs": [
    {
     "data": {
      "text/html": [
       "<div>\n",
       "<style scoped>\n",
       "    .dataframe tbody tr th:only-of-type {\n",
       "        vertical-align: middle;\n",
       "    }\n",
       "\n",
       "    .dataframe tbody tr th {\n",
       "        vertical-align: top;\n",
       "    }\n",
       "\n",
       "    .dataframe thead th {\n",
       "        text-align: right;\n",
       "    }\n",
       "</style>\n",
       "<table border=\"1\" class=\"dataframe\">\n",
       "  <thead>\n",
       "    <tr style=\"text-align: right;\">\n",
       "      <th></th>\n",
       "      <th>Fresno County</th>\n",
       "      <th>Los Angeles County</th>\n",
       "      <th>San Francisco County</th>\n",
       "      <th>Shasta County</th>\n",
       "    </tr>\n",
       "    <tr>\n",
       "      <th>Year</th>\n",
       "      <th></th>\n",
       "      <th></th>\n",
       "      <th></th>\n",
       "      <th></th>\n",
       "    </tr>\n",
       "  </thead>\n",
       "  <tbody>\n",
       "    <tr>\n",
       "      <td>2014</td>\n",
       "      <td>11.60</td>\n",
       "      <td>8.30</td>\n",
       "      <td>4.40</td>\n",
       "      <td>9.60</td>\n",
       "    </tr>\n",
       "    <tr>\n",
       "      <td>2015</td>\n",
       "      <td>10.20</td>\n",
       "      <td>6.60</td>\n",
       "      <td>3.60</td>\n",
       "      <td>7.80</td>\n",
       "    </tr>\n",
       "    <tr>\n",
       "      <td>2016</td>\n",
       "      <td>9.50</td>\n",
       "      <td>5.30</td>\n",
       "      <td>3.30</td>\n",
       "      <td>7.00</td>\n",
       "    </tr>\n",
       "    <tr>\n",
       "      <td>2017</td>\n",
       "      <td>8.50</td>\n",
       "      <td>4.80</td>\n",
       "      <td>2.90</td>\n",
       "      <td>5.80</td>\n",
       "    </tr>\n",
       "    <tr>\n",
       "      <td>2018</td>\n",
       "      <td>7.50</td>\n",
       "      <td>4.70</td>\n",
       "      <td>2.40</td>\n",
       "      <td>4.90</td>\n",
       "    </tr>\n",
       "  </tbody>\n",
       "</table>\n",
       "</div>"
      ],
      "text/plain": [
       "      Fresno County  Los Angeles County  San Francisco County  Shasta County\n",
       "Year                                                                        \n",
       "2014          11.60                8.30                  4.40           9.60\n",
       "2015          10.20                6.60                  3.60           7.80\n",
       "2016           9.50                5.30                  3.30           7.00\n",
       "2017           8.50                4.80                  2.90           5.80\n",
       "2018           7.50                4.70                  2.40           4.90"
      ]
     },
     "execution_count": 27,
     "metadata": {},
     "output_type": "execute_result"
    }
   ],
   "source": [
    "labor_reform = pd.read_csv(\"output files/labor_reform.csv\", index_col=0)\n",
    "labor_reform.head()"
   ]
  },
  {
   "cell_type": "code",
   "execution_count": 28,
   "metadata": {},
   "outputs": [
    {
     "data": {
      "text/html": [
       "<div>\n",
       "<style scoped>\n",
       "    .dataframe tbody tr th:only-of-type {\n",
       "        vertical-align: middle;\n",
       "    }\n",
       "\n",
       "    .dataframe tbody tr th {\n",
       "        vertical-align: top;\n",
       "    }\n",
       "\n",
       "    .dataframe thead th {\n",
       "        text-align: right;\n",
       "    }\n",
       "</style>\n",
       "<table border=\"1\" class=\"dataframe\">\n",
       "  <thead>\n",
       "    <tr style=\"text-align: right;\">\n",
       "      <th></th>\n",
       "      <th>Fresno County</th>\n",
       "      <th>Los Angeles County</th>\n",
       "      <th>San Francisco County</th>\n",
       "      <th>Shasta County</th>\n",
       "    </tr>\n",
       "    <tr>\n",
       "      <th>Year</th>\n",
       "      <th></th>\n",
       "      <th></th>\n",
       "      <th></th>\n",
       "      <th></th>\n",
       "    </tr>\n",
       "  </thead>\n",
       "  <tbody>\n",
       "    <tr>\n",
       "      <td>2014</td>\n",
       "      <td>0.09</td>\n",
       "      <td>0.51</td>\n",
       "      <td>2.38</td>\n",
       "      <td>-0.53</td>\n",
       "    </tr>\n",
       "    <tr>\n",
       "      <td>2015</td>\n",
       "      <td>0.50</td>\n",
       "      <td>-0.06</td>\n",
       "      <td>2.52</td>\n",
       "      <td>-0.93</td>\n",
       "    </tr>\n",
       "    <tr>\n",
       "      <td>2016</td>\n",
       "      <td>1.02</td>\n",
       "      <td>1.03</td>\n",
       "      <td>2.57</td>\n",
       "      <td>0.13</td>\n",
       "    </tr>\n",
       "    <tr>\n",
       "      <td>2017</td>\n",
       "      <td>0.07</td>\n",
       "      <td>1.09</td>\n",
       "      <td>1.57</td>\n",
       "      <td>-0.27</td>\n",
       "    </tr>\n",
       "    <tr>\n",
       "      <td>2018</td>\n",
       "      <td>0.70</td>\n",
       "      <td>0.78</td>\n",
       "      <td>1.97</td>\n",
       "      <td>0.13</td>\n",
       "    </tr>\n",
       "  </tbody>\n",
       "</table>\n",
       "</div>"
      ],
      "text/plain": [
       "      Fresno County  Los Angeles County  San Francisco County  Shasta County\n",
       "Year                                                                        \n",
       "2014           0.09                0.51                  2.38          -0.53\n",
       "2015           0.50               -0.06                  2.52          -0.93\n",
       "2016           1.02                1.03                  2.57           0.13\n",
       "2017           0.07                1.09                  1.57          -0.27\n",
       "2018           0.70                0.78                  1.97           0.13"
      ]
     },
     "execution_count": 28,
     "metadata": {},
     "output_type": "execute_result"
    }
   ],
   "source": [
    "labor_change = pd.read_csv(\"output files/labor_change.csv\", index_col=0)\n",
    "labor_change.head()"
   ]
  },
  {
   "cell_type": "markdown",
   "metadata": {},
   "source": [
    "## Plot Unemployment vs. Housing Data, 4 Counties"
   ]
  },
  {
   "cell_type": "code",
   "execution_count": 29,
   "metadata": {},
   "outputs": [
    {
     "data": {
      "image/png": "[encoded data removed]",
      "text/plain": [
       "<Figure size 360x216 with 2 Axes>"
      ]
     },
     "metadata": {
      "needs_background": "light"
     },
     "output_type": "display_data"
    }
   ],
   "source": [
    "x_axis = labor_reform.index\n",
    "y1line = zillow_df.loc[:, \"Fresno County\"]\n",
    "y2bar = labor_reform.loc[:, \"Fresno County\"]\n",
    "\n",
    "fig, ax1 = plt.subplots(figsize=(5,3))\n",
    "\n",
    "color = 'tab:blue'\n",
    "ax1.set_xlabel('Years')\n",
    "ax1.set_ylim(0, 260000)\n",
    "ax1.set_ylabel('Housing Prices ($)', color=color)\n",
    "ax1.set_title('Housing and Unemployment Rate in Fresno County')\n",
    "ax1.bar(x_axis, y1line, color=color) \n",
    "ax1.tick_params(axis='y', labelcolor=color)\n",
    "ax1.legend([\"Fresno County\"], facecolor='w')\n",
    "\n",
    "ax2 = ax1.twinx()  # instantiate a second axes that shares the same x-axis\n",
    "ax2.set_ylim(0, 15) #set limit on second axis to same scale as first axis\n",
    "color = 'tab:red'\n",
    "ax2.set_ylabel(\"Unemployment Rate\", color=color)  # we already handled the x-label with ax1\n",
    "ax2.plot(x_axis, y2bar, color=color)\n",
    "ax2.tick_params(axis='y', labelcolor=color)\n",
    "\n",
    "fig.tight_layout()  # otherwise the right y-label is slightly clipped\n",
    "plt.savefig(\"output images/Unemployment_HousingPrices_FresnoCounty.png\")\n",
    "plt.show()"
   ]
  },
  {
   "cell_type": "code",
   "execution_count": 30,
   "metadata": {},
   "outputs": [
    {
     "data": {
      "image/png": "[encoded data removed]",
      "text/plain": [
       "<Figure size 360x216 with 2 Axes>"
      ]
     },
     "metadata": {
      "needs_background": "light"
     },
     "output_type": "display_data"
    }
   ],
   "source": [
    "x_axis = labor_reform.index\n",
    "y1line = zillow_df.loc[:, \"Shasta County\"]\n",
    "y2bar = labor_reform.loc[:, \"Shasta County\"]\n",
    "\n",
    "\n",
    "fig, ax1 = plt.subplots(figsize=(5,3))\n",
    "\n",
    "color = 'tab:blue'\n",
    "ax1.set_xlabel('Years')\n",
    "ax1.set_ylim(0, 260000)\n",
    "ax1.set_ylabel('Housing Prices ($)', color=color)\n",
    "ax1.set_title('Housing and Unemployment Rate in Shasta County')\n",
    "ax1.bar(x_axis, y1line, color=color) \n",
    "ax1.tick_params(axis='y', labelcolor=color)\n",
    "ax1.legend([\"Shasta County\"], facecolor='w')\n",
    "\n",
    "ax2 = ax1.twinx()  # instantiate a second axes that shares the same x-axis\n",
    "ax2.set_ylim(0, 15) #set limit on second axis to same scale as first axis\n",
    "color = 'tab:red'\n",
    "ax2.set_ylabel(\"Unemployment Rate\", color=color)  # we already handled the x-label with ax1\n",
    "ax2.plot(x_axis, y2bar, color=color)\n",
    "ax2.tick_params(axis='y', labelcolor=color)\n",
    "\n",
    "fig.tight_layout()  # otherwise the right y-label is slightly clipped\n",
    "plt.savefig(\"output images/Unemployment_HousingPrices_ShastaCounty.png\")\n",
    "plt.show()"
   ]
  },
  {
   "cell_type": "code",
   "execution_count": 31,
   "metadata": {},
   "outputs": [
    {
     "data": {
      "image/png": "[encoded data removed]",
      "text/plain": [
       "<Figure size 360x216 with 2 Axes>"
      ]
     },
     "metadata": {
      "needs_background": "light"
     },
     "output_type": "display_data"
    }
   ],
   "source": [
    "x_axis = labor_reform.index\n",
    "y1line = zillow_df.loc[:, \"Los Angeles County\"]\n",
    "y2bar = labor_reform.loc[:, \"Los Angeles County\"]\n",
    "\n",
    "fig, ax1 = plt.subplots(figsize=(5,3))\n",
    "\n",
    "color = 'tab:blue'\n",
    "ax1.set_xlabel('Years')\n",
    "ax1.set_ylim(0, 650000)\n",
    "ax1.set_ylabel('Housing Prices ($)', color=color)\n",
    "ax1.set_title('Housing and Unemployment Rate in LA County')\n",
    "ax1.bar(x_axis, y1line, color=color) \n",
    "ax1.tick_params(axis='y', labelcolor=color)\n",
    "ax1.legend([\"Los Angeles County\"], facecolor='w')\n",
    "\n",
    "ax2 = ax1.twinx()  # instantiate a second axes that shares the same x-axis\n",
    "ax2.set_ylim(0, 12) #set limit on second axis to same scale as first axis\n",
    "color = 'tab:red'\n",
    "ax2.set_ylabel(\"Unemployment Rate\", color=color)  # we already handled the x-label with ax1\n",
    "ax2.plot(x_axis, y2bar, color=color)\n",
    "ax2.tick_params(axis='y', labelcolor=color)\n",
    "\n",
    "fig.tight_layout()  # otherwise the right y-label is slightly clipped\n",
    "plt.savefig(\"output images/Unemployment_HousingPrices_LACounty.png\")\n",
    "plt.show()"
   ]
  },
  {
   "cell_type": "code",
   "execution_count": 32,
   "metadata": {},
   "outputs": [
    {
     "data": {
      "image/png": "[encoded data removed]",
      "text/plain": [
       "<Figure size 360x216 with 2 Axes>"
      ]
     },
     "metadata": {
      "needs_background": "light"
     },
     "output_type": "display_data"
    }
   ],
   "source": [
    "x_axis = labor_reform.index\n",
    "y1line = zillow_df.loc[:, \"San Francisco County\"]\n",
    "y2bar = labor_change.loc[:, \"San Francisco County\"]\n",
    "\n",
    "fig, ax1 = plt.subplots(figsize=(5,3))\n",
    "\n",
    "color = 'tab:blue'\n",
    "ax1.set_xlabel('Years')\n",
    "ax1.set_ylim(0, 1650000)\n",
    "ax1.set_ylabel('Housing Prices ($)', color=color)\n",
    "ax1.set_title('Housing and Unemployment Rate in SF County')\n",
    "ax1.bar(x_axis, y1line, color=color) \n",
    "ax1.tick_params(axis='y', labelcolor=color)\n",
    "ax1.legend([\"San Francisco County\"], facecolor='w')\n",
    "\n",
    "ax2 = ax1.twinx()  # instantiate a second axes that shares the same x-axis\n",
    "ax2.set_ylim(0, 3) #set limit on second axis to same scale as first axis\n",
    "color = 'tab:red'\n",
    "ax2.set_ylabel(\"Unemployment Rate\", color=color)  # we already handled the x-label with ax1\n",
    "ax2.plot(x_axis, y2bar, color=color)\n",
    "ax2.tick_params(axis='y', labelcolor=color)\n",
    "\n",
    "fig.tight_layout()  # otherwise the right y-label is slightly clipped\n",
    "plt.savefig(\"output images/Unemployment_HousingPrices_SFCounty.png\")\n",
    "plt.show()"
   ]
  },
  {
   "cell_type": "markdown",
   "metadata": {},
   "source": [
    "## Plot Unemployment vs. Housing Price Scatter - all CA counties for 2018"
   ]
  },
  {
   "cell_type": "code",
   "execution_count": 33,
   "metadata": {},
   "outputs": [
    {
     "data": {
      "text/html": [
       "<div>\n",
       "<style scoped>\n",
       "    .dataframe tbody tr th:only-of-type {\n",
       "        vertical-align: middle;\n",
       "    }\n",
       "\n",
       "    .dataframe tbody tr th {\n",
       "        vertical-align: top;\n",
       "    }\n",
       "\n",
       "    .dataframe thead th {\n",
       "        text-align: right;\n",
       "    }\n",
       "</style>\n",
       "<table border=\"1\" class=\"dataframe\">\n",
       "  <thead>\n",
       "    <tr style=\"text-align: right;\">\n",
       "      <th></th>\n",
       "      <th>Area Name</th>\n",
       "      <th>2018</th>\n",
       "    </tr>\n",
       "  </thead>\n",
       "  <tbody>\n",
       "    <tr>\n",
       "      <td>0</td>\n",
       "      <td>Alameda County</td>\n",
       "      <td>3.00</td>\n",
       "    </tr>\n",
       "    <tr>\n",
       "      <td>1</td>\n",
       "      <td>Alpine County</td>\n",
       "      <td>4.60</td>\n",
       "    </tr>\n",
       "    <tr>\n",
       "      <td>2</td>\n",
       "      <td>Amador County</td>\n",
       "      <td>4.00</td>\n",
       "    </tr>\n",
       "    <tr>\n",
       "      <td>3</td>\n",
       "      <td>Butte County</td>\n",
       "      <td>4.90</td>\n",
       "    </tr>\n",
       "    <tr>\n",
       "      <td>4</td>\n",
       "      <td>Calaveras County</td>\n",
       "      <td>4.00</td>\n",
       "    </tr>\n",
       "  </tbody>\n",
       "</table>\n",
       "</div>"
      ],
      "text/plain": [
       "          Area Name  2018\n",
       "0    Alameda County  3.00\n",
       "1     Alpine County  4.60\n",
       "2     Amador County  4.00\n",
       "3      Butte County  4.90\n",
       "4  Calaveras County  4.00"
      ]
     },
     "execution_count": 33,
     "metadata": {},
     "output_type": "execute_result"
    }
   ],
   "source": [
    "#read unemployment data for all California counties for 2018\n",
    "unemployment_all = pd.read_csv(\"output files/unemployment_all_2018_df.csv\")\n",
    "unemployment_all.head()"
   ]
  },
  {
   "cell_type": "code",
   "execution_count": 34,
   "metadata": {},
   "outputs": [
    {
     "data": {
      "text/html": [
       "<div>\n",
       "<style scoped>\n",
       "    .dataframe tbody tr th:only-of-type {\n",
       "        vertical-align: middle;\n",
       "    }\n",
       "\n",
       "    .dataframe tbody tr th {\n",
       "        vertical-align: top;\n",
       "    }\n",
       "\n",
       "    .dataframe thead th {\n",
       "        text-align: right;\n",
       "    }\n",
       "</style>\n",
       "<table border=\"1\" class=\"dataframe\">\n",
       "  <thead>\n",
       "    <tr style=\"text-align: right;\">\n",
       "      <th></th>\n",
       "      <th>Area Name</th>\n",
       "      <th>Price</th>\n",
       "    </tr>\n",
       "  </thead>\n",
       "  <tbody>\n",
       "    <tr>\n",
       "      <td>0</td>\n",
       "      <td>Los Angeles County</td>\n",
       "      <td>596094.53</td>\n",
       "    </tr>\n",
       "    <tr>\n",
       "      <td>1</td>\n",
       "      <td>San Diego County</td>\n",
       "      <td>560627.31</td>\n",
       "    </tr>\n",
       "    <tr>\n",
       "      <td>2</td>\n",
       "      <td>Orange County</td>\n",
       "      <td>683327.61</td>\n",
       "    </tr>\n",
       "    <tr>\n",
       "      <td>3</td>\n",
       "      <td>Riverside County</td>\n",
       "      <td>356364.39</td>\n",
       "    </tr>\n",
       "    <tr>\n",
       "      <td>4</td>\n",
       "      <td>San Bernardino County</td>\n",
       "      <td>327473.67</td>\n",
       "    </tr>\n",
       "  </tbody>\n",
       "</table>\n",
       "</div>"
      ],
      "text/plain": [
       "               Area Name     Price\n",
       "0     Los Angeles County 596094.53\n",
       "1       San Diego County 560627.31\n",
       "2          Orange County 683327.61\n",
       "3       Riverside County 356364.39\n",
       "4  San Bernardino County 327473.67"
      ]
     },
     "execution_count": 34,
     "metadata": {},
     "output_type": "execute_result"
    }
   ],
   "source": [
    "zillow_clean_all_counties_df = zillow_clean_all_counties_df.rename(columns = {\"RegionName\":\"Area Name\"})\n",
    "zillow_clean_all_counties_df.head()"
   ]
  },
  {
   "cell_type": "code",
   "execution_count": 35,
   "metadata": {},
   "outputs": [
    {
     "data": {
      "text/html": [
       "<div>\n",
       "<style scoped>\n",
       "    .dataframe tbody tr th:only-of-type {\n",
       "        vertical-align: middle;\n",
       "    }\n",
       "\n",
       "    .dataframe tbody tr th {\n",
       "        vertical-align: top;\n",
       "    }\n",
       "\n",
       "    .dataframe thead th {\n",
       "        text-align: right;\n",
       "    }\n",
       "</style>\n",
       "<table border=\"1\" class=\"dataframe\">\n",
       "  <thead>\n",
       "    <tr style=\"text-align: right;\">\n",
       "      <th></th>\n",
       "      <th>Area Name</th>\n",
       "      <th>Price</th>\n",
       "      <th>2018</th>\n",
       "    </tr>\n",
       "  </thead>\n",
       "  <tbody>\n",
       "    <tr>\n",
       "      <td>0</td>\n",
       "      <td>Los Angeles County</td>\n",
       "      <td>596094.53</td>\n",
       "      <td>4.70</td>\n",
       "    </tr>\n",
       "    <tr>\n",
       "      <td>1</td>\n",
       "      <td>San Diego County</td>\n",
       "      <td>560627.31</td>\n",
       "      <td>3.30</td>\n",
       "    </tr>\n",
       "    <tr>\n",
       "      <td>2</td>\n",
       "      <td>Orange County</td>\n",
       "      <td>683327.61</td>\n",
       "      <td>2.90</td>\n",
       "    </tr>\n",
       "    <tr>\n",
       "      <td>3</td>\n",
       "      <td>Riverside County</td>\n",
       "      <td>356364.39</td>\n",
       "      <td>4.40</td>\n",
       "    </tr>\n",
       "    <tr>\n",
       "      <td>4</td>\n",
       "      <td>San Bernardino County</td>\n",
       "      <td>327473.67</td>\n",
       "      <td>4.00</td>\n",
       "    </tr>\n",
       "  </tbody>\n",
       "</table>\n",
       "</div>"
      ],
      "text/plain": [
       "               Area Name     Price  2018\n",
       "0     Los Angeles County 596094.53  4.70\n",
       "1       San Diego County 560627.31  3.30\n",
       "2          Orange County 683327.61  2.90\n",
       "3       Riverside County 356364.39  4.40\n",
       "4  San Bernardino County 327473.67  4.00"
      ]
     },
     "execution_count": 35,
     "metadata": {},
     "output_type": "execute_result"
    }
   ],
   "source": [
    "joint_df = pd.merge(zillow_clean_all_counties_df,unemployment_all, how = \"inner\", on = \"Area Name\" )\n",
    "joint_df.head()"
   ]
  },
  {
   "cell_type": "code",
   "execution_count": 36,
   "metadata": {},
   "outputs": [
    {
     "data": {
      "image/png": "[encoded data removed]",
      "text/plain": [
       "<Figure size 504x504 with 1 Axes>"
      ]
     },
     "metadata": {
      "needs_background": "light"
     },
     "output_type": "display_data"
    },
    {
     "name": "stdout",
     "output_type": "stream",
     "text": [
      "p_value: 6.72e-05\n",
      "r_value: -0.52\n"
     ]
    }
   ],
   "source": [
    "fig, ax1 = plt.subplots(figsize=(7,7))\n",
    "x = joint_df[\"2018\"]\n",
    "y = joint_df[\"Price\"]\n",
    "slope, intercept, r_value, p_value, slope_std_error = stats.linregress(x,y)\n",
    "predict_y = slope * x + intercept\n",
    "ax1.scatter(x, y)\n",
    "plt.xticks(rotation=90)\n",
    "plt.plot(x, y, \"o\")\n",
    "plt.plot(x, predict_y)\n",
    "\n",
    "ax1.set_xlabel(\"Unemployment Rate\")\n",
    "ax1.set_ylabel(\"Housing Price\")\n",
    "ax1.set_title(\"Unemployment Rate vs. Housing Price\")\n",
    "fig.tight_layout()\n",
    "plt.savefig (\"output images/Unemployment_Housing_Scatter_Regression.png\")\n",
    "plt.show()\n",
    "\n",
    "p_value = '{:0.2e}'.format(p_value)\n",
    "r_value = '{:0.2}'.format(r_value)\n",
    "print(f\"p_value: {p_value}\")\n",
    "print(f\"r_value: {r_value}\")"
   ]
  },
  {
   "cell_type": "markdown",
   "metadata": {},
   "source": [
    "## Plot year over year housing price change"
   ]
  },
  {
   "cell_type": "code",
   "execution_count": 37,
   "metadata": {},
   "outputs": [
    {
     "data": {
      "text/html": [
       "<div>\n",
       "<style scoped>\n",
       "    .dataframe tbody tr th:only-of-type {\n",
       "        vertical-align: middle;\n",
       "    }\n",
       "\n",
       "    .dataframe tbody tr th {\n",
       "        vertical-align: top;\n",
       "    }\n",
       "\n",
       "    .dataframe thead th {\n",
       "        text-align: right;\n",
       "    }\n",
       "</style>\n",
       "<table border=\"1\" class=\"dataframe\">\n",
       "  <thead>\n",
       "    <tr style=\"text-align: right;\">\n",
       "      <th></th>\n",
       "      <th>Unnamed: 0</th>\n",
       "      <th>Los Angeles County</th>\n",
       "      <th>Fresno County</th>\n",
       "      <th>San Francisco County</th>\n",
       "      <th>Shasta County</th>\n",
       "    </tr>\n",
       "  </thead>\n",
       "  <tbody>\n",
       "    <tr>\n",
       "      <td>0</td>\n",
       "      <td>2013 Avg Price</td>\n",
       "      <td>418759.50</td>\n",
       "      <td>162810.31</td>\n",
       "      <td>1096593.58</td>\n",
       "      <td>175357.75</td>\n",
       "    </tr>\n",
       "    <tr>\n",
       "      <td>1</td>\n",
       "      <td>2014 Avg Price</td>\n",
       "      <td>456951.25</td>\n",
       "      <td>180313.22</td>\n",
       "      <td>1194854.92</td>\n",
       "      <td>202065.47</td>\n",
       "    </tr>\n",
       "    <tr>\n",
       "      <td>2</td>\n",
       "      <td>2015 Avg Price</td>\n",
       "      <td>482374.33</td>\n",
       "      <td>191649.06</td>\n",
       "      <td>1292884.22</td>\n",
       "      <td>216334.31</td>\n",
       "    </tr>\n",
       "    <tr>\n",
       "      <td>3</td>\n",
       "      <td>2016 Avg Price</td>\n",
       "      <td>518062.94</td>\n",
       "      <td>203774.64</td>\n",
       "      <td>1388945.64</td>\n",
       "      <td>226238.28</td>\n",
       "    </tr>\n",
       "    <tr>\n",
       "      <td>4</td>\n",
       "      <td>2017 Avg Price</td>\n",
       "      <td>555362.75</td>\n",
       "      <td>220687.50</td>\n",
       "      <td>1471771.03</td>\n",
       "      <td>241436.89</td>\n",
       "    </tr>\n",
       "  </tbody>\n",
       "</table>\n",
       "</div>"
      ],
      "text/plain": [
       "       Unnamed: 0  Los Angeles County  Fresno County  San Francisco County  \\\n",
       "0  2013 Avg Price           418759.50      162810.31            1096593.58   \n",
       "1  2014 Avg Price           456951.25      180313.22            1194854.92   \n",
       "2  2015 Avg Price           482374.33      191649.06            1292884.22   \n",
       "3  2016 Avg Price           518062.94      203774.64            1388945.64   \n",
       "4  2017 Avg Price           555362.75      220687.50            1471771.03   \n",
       "\n",
       "   Shasta County  \n",
       "0      175357.75  \n",
       "1      202065.47  \n",
       "2      216334.31  \n",
       "3      226238.28  \n",
       "4      241436.89  "
      ]
     },
     "execution_count": 37,
     "metadata": {},
     "output_type": "execute_result"
    }
   ],
   "source": [
    "#read zillow data for 4 counties from 2013 - 2018\n",
    "zillow_df13_18 = pd.read_csv(\"output files/zillow_clean_2013_2018_df.csv\", encoding = \"latin-1\") \n",
    "zillow_df13_18.head()"
   ]
  },
  {
   "cell_type": "code",
   "execution_count": 38,
   "metadata": {},
   "outputs": [],
   "source": [
    "#calculate year over year change for each county\n",
    "zillow_chg_la=zillow_df13_18[\"Los Angeles County\"].pct_change()*100\n",
    "zillow_chg_la\n",
    "zillow_chg_f=zillow_df13_18[\"Fresno County\"].pct_change()*100\n",
    "zillow_chg_f\n",
    "zillow_chg_sf=zillow_df13_18[\"San Francisco County\"].pct_change()*100\n",
    "zillow_chg_sf\n",
    "zillow_chg_sh=zillow_df13_18[\"Shasta County\"].pct_change()*100"
   ]
  },
  {
   "cell_type": "code",
   "execution_count": 39,
   "metadata": {},
   "outputs": [
    {
     "data": {
      "text/html": [
       "<div>\n",
       "<style scoped>\n",
       "    .dataframe tbody tr th:only-of-type {\n",
       "        vertical-align: middle;\n",
       "    }\n",
       "\n",
       "    .dataframe tbody tr th {\n",
       "        vertical-align: top;\n",
       "    }\n",
       "\n",
       "    .dataframe thead th {\n",
       "        text-align: right;\n",
       "    }\n",
       "</style>\n",
       "<table border=\"1\" class=\"dataframe\">\n",
       "  <thead>\n",
       "    <tr style=\"text-align: right;\">\n",
       "      <th></th>\n",
       "      <th>Years</th>\n",
       "      <th>Los Angeles County % chg</th>\n",
       "      <th>Fresno County % chg</th>\n",
       "      <th>San Francisco County % chg</th>\n",
       "      <th>Shasta County % chg</th>\n",
       "    </tr>\n",
       "  </thead>\n",
       "  <tbody>\n",
       "    <tr>\n",
       "      <td>0</td>\n",
       "      <td>2013</td>\n",
       "      <td>nan</td>\n",
       "      <td>nan</td>\n",
       "      <td>nan</td>\n",
       "      <td>nan</td>\n",
       "    </tr>\n",
       "    <tr>\n",
       "      <td>1</td>\n",
       "      <td>2014</td>\n",
       "      <td>9.12</td>\n",
       "      <td>10.75</td>\n",
       "      <td>8.96</td>\n",
       "      <td>15.23</td>\n",
       "    </tr>\n",
       "    <tr>\n",
       "      <td>2</td>\n",
       "      <td>2015</td>\n",
       "      <td>5.56</td>\n",
       "      <td>6.29</td>\n",
       "      <td>8.20</td>\n",
       "      <td>7.06</td>\n",
       "    </tr>\n",
       "    <tr>\n",
       "      <td>3</td>\n",
       "      <td>2016</td>\n",
       "      <td>7.40</td>\n",
       "      <td>6.33</td>\n",
       "      <td>7.43</td>\n",
       "      <td>4.58</td>\n",
       "    </tr>\n",
       "    <tr>\n",
       "      <td>4</td>\n",
       "      <td>2017</td>\n",
       "      <td>7.20</td>\n",
       "      <td>8.30</td>\n",
       "      <td>5.96</td>\n",
       "      <td>6.72</td>\n",
       "    </tr>\n",
       "    <tr>\n",
       "      <td>5</td>\n",
       "      <td>2019</td>\n",
       "      <td>7.33</td>\n",
       "      <td>8.21</td>\n",
       "      <td>10.11</td>\n",
       "      <td>4.81</td>\n",
       "    </tr>\n",
       "  </tbody>\n",
       "</table>\n",
       "</div>"
      ],
      "text/plain": [
       "   Years  Los Angeles County % chg  Fresno County % chg  \\\n",
       "0   2013                       nan                  nan   \n",
       "1   2014                      9.12                10.75   \n",
       "2   2015                      5.56                 6.29   \n",
       "3   2016                      7.40                 6.33   \n",
       "4   2017                      7.20                 8.30   \n",
       "5   2019                      7.33                 8.21   \n",
       "\n",
       "   San Francisco County % chg  Shasta County % chg  \n",
       "0                         nan                  nan  \n",
       "1                        8.96                15.23  \n",
       "2                        8.20                 7.06  \n",
       "3                        7.43                 4.58  \n",
       "4                        5.96                 6.72  \n",
       "5                       10.11                 4.81  "
      ]
     },
     "execution_count": 39,
     "metadata": {},
     "output_type": "execute_result"
    }
   ],
   "source": [
    "#create dictionary of year over year change and convert to dataframe\n",
    "real_estate_change = {\n",
    "    \"Years\":[2013, 2014, 2015, 2016, 2017, 2019],\n",
    "    \"Los Angeles County % chg\":zillow_chg_la,\n",
    "    \"Fresno County % chg\":zillow_chg_f,\n",
    "    \"San Francisco County % chg\":zillow_chg_sf,\n",
    "    \"Shasta County % chg\":zillow_chg_sh\n",
    "     }\n",
    "re_chg_df = pd.DataFrame(real_estate_change)\n",
    "re_chg_df"
   ]
  },
  {
   "cell_type": "code",
   "execution_count": 40,
   "metadata": {},
   "outputs": [
    {
     "data": {
      "text/html": [
       "<div>\n",
       "<style scoped>\n",
       "    .dataframe tbody tr th:only-of-type {\n",
       "        vertical-align: middle;\n",
       "    }\n",
       "\n",
       "    .dataframe tbody tr th {\n",
       "        vertical-align: top;\n",
       "    }\n",
       "\n",
       "    .dataframe thead th {\n",
       "        text-align: right;\n",
       "    }\n",
       "</style>\n",
       "<table border=\"1\" class=\"dataframe\">\n",
       "  <thead>\n",
       "    <tr style=\"text-align: right;\">\n",
       "      <th></th>\n",
       "      <th>Years</th>\n",
       "      <th>Los Angeles County % chg</th>\n",
       "      <th>Fresno County % chg</th>\n",
       "      <th>San Francisco County % chg</th>\n",
       "      <th>Shasta County % chg</th>\n",
       "    </tr>\n",
       "  </thead>\n",
       "  <tbody>\n",
       "    <tr>\n",
       "      <td>1</td>\n",
       "      <td>2014</td>\n",
       "      <td>9.12</td>\n",
       "      <td>10.75</td>\n",
       "      <td>8.96</td>\n",
       "      <td>15.23</td>\n",
       "    </tr>\n",
       "    <tr>\n",
       "      <td>2</td>\n",
       "      <td>2015</td>\n",
       "      <td>5.56</td>\n",
       "      <td>6.29</td>\n",
       "      <td>8.20</td>\n",
       "      <td>7.06</td>\n",
       "    </tr>\n",
       "    <tr>\n",
       "      <td>3</td>\n",
       "      <td>2016</td>\n",
       "      <td>7.40</td>\n",
       "      <td>6.33</td>\n",
       "      <td>7.43</td>\n",
       "      <td>4.58</td>\n",
       "    </tr>\n",
       "    <tr>\n",
       "      <td>4</td>\n",
       "      <td>2017</td>\n",
       "      <td>7.20</td>\n",
       "      <td>8.30</td>\n",
       "      <td>5.96</td>\n",
       "      <td>6.72</td>\n",
       "    </tr>\n",
       "    <tr>\n",
       "      <td>5</td>\n",
       "      <td>2019</td>\n",
       "      <td>7.33</td>\n",
       "      <td>8.21</td>\n",
       "      <td>10.11</td>\n",
       "      <td>4.81</td>\n",
       "    </tr>\n",
       "  </tbody>\n",
       "</table>\n",
       "</div>"
      ],
      "text/plain": [
       "   Years  Los Angeles County % chg  Fresno County % chg  \\\n",
       "1   2014                      9.12                10.75   \n",
       "2   2015                      5.56                 6.29   \n",
       "3   2016                      7.40                 6.33   \n",
       "4   2017                      7.20                 8.30   \n",
       "5   2019                      7.33                 8.21   \n",
       "\n",
       "   San Francisco County % chg  Shasta County % chg  \n",
       "1                        8.96                15.23  \n",
       "2                        8.20                 7.06  \n",
       "3                        7.43                 4.58  \n",
       "4                        5.96                 6.72  \n",
       "5                       10.11                 4.81  "
      ]
     },
     "execution_count": 40,
     "metadata": {},
     "output_type": "execute_result"
    }
   ],
   "source": [
    "#drop first row of nans\n",
    "re_chg_df.drop([0])"
   ]
  },
  {
   "cell_type": "code",
   "execution_count": 41,
   "metadata": {},
   "outputs": [
    {
     "data": {
      "image/png": "[encoded data removed]",
      "text/plain": [
       "<Figure size 720x360 with 1 Axes>"
      ]
     },
     "metadata": {
      "needs_background": "light"
     },
     "output_type": "display_data"
    }
   ],
   "source": [
    "#plot housing prices year over year change for 4 counties\n",
    "fig, ax = plt.subplots(figsize=(10,5))\n",
    "x_axis = re_chg_df[\"Years\"]\n",
    "# Generate the Plot of Real Estate growth 2014 -2019\n",
    "\n",
    "plt.plot(x_axis, re_chg_df[\"Los Angeles County % chg\"], \n",
    "         marker=\"o\",markersize=10, linestyle=\"--\",linewidth=1,label =\"Los Angeles County\")\n",
    "plt.plot(x_axis, re_chg_df[\"Fresno County % chg\"],\n",
    "         marker=\"o\", markersize=10, linestyle=\"--\", linewidth=1, label = \"Fresno County\")\n",
    "plt.plot(x_axis, re_chg_df[\"San Francisco County % chg\"],\n",
    "         marker=\"o\", markersize=10, linestyle=\"--\", linewidth= 1, label = \"San Francisco County\")\n",
    "plt.plot(x_axis, re_chg_df[\"Shasta County % chg\"],\n",
    "        marker=\"o\", markersize=10, linestyle=\"--\", linewidth=1, label = \"Shasta County\")\n",
    "#Setting a grid\n",
    "plt.grid()\n",
    "#Labeling lims\n",
    "plt.ylabel(\"Real Estate prise change(%)\")\n",
    "plt.xlabel(\"Years\")\n",
    "#Adding the Title\n",
    "plt.title(\"Four Counties Real Estate Market Growth\")\n",
    "#Adding Legend and setting its location and size\n",
    "plt.legend( loc = 1, fontsize = \"small\" )\n",
    "\n",
    "# Save the Figure\n",
    "\n",
    "plt.savefig(\"output images/Real_Estate_Growth.png\")\n"
   ]
  },
  {
   "cell_type": "code",
   "execution_count": 42,
   "metadata": {},
   "outputs": [
    {
     "data": {
      "text/html": [
       "<div>\n",
       "<style scoped>\n",
       "    .dataframe tbody tr th:only-of-type {\n",
       "        vertical-align: middle;\n",
       "    }\n",
       "\n",
       "    .dataframe tbody tr th {\n",
       "        vertical-align: top;\n",
       "    }\n",
       "\n",
       "    .dataframe thead th {\n",
       "        text-align: right;\n",
       "    }\n",
       "</style>\n",
       "<table border=\"1\" class=\"dataframe\">\n",
       "  <thead>\n",
       "    <tr style=\"text-align: right;\">\n",
       "      <th></th>\n",
       "      <th>Years</th>\n",
       "      <th>Los Angeles County % chg</th>\n",
       "      <th>Fresno County % chg</th>\n",
       "      <th>San Francisco County % chg</th>\n",
       "      <th>Shasta County % chg</th>\n",
       "    </tr>\n",
       "  </thead>\n",
       "  <tbody>\n",
       "    <tr>\n",
       "      <td>1</td>\n",
       "      <td>2014</td>\n",
       "      <td>9.12</td>\n",
       "      <td>10.75</td>\n",
       "      <td>8.96</td>\n",
       "      <td>15.23</td>\n",
       "    </tr>\n",
       "    <tr>\n",
       "      <td>2</td>\n",
       "      <td>2015</td>\n",
       "      <td>5.56</td>\n",
       "      <td>6.29</td>\n",
       "      <td>8.20</td>\n",
       "      <td>7.06</td>\n",
       "    </tr>\n",
       "    <tr>\n",
       "      <td>3</td>\n",
       "      <td>2016</td>\n",
       "      <td>7.40</td>\n",
       "      <td>6.33</td>\n",
       "      <td>7.43</td>\n",
       "      <td>4.58</td>\n",
       "    </tr>\n",
       "    <tr>\n",
       "      <td>4</td>\n",
       "      <td>2017</td>\n",
       "      <td>7.20</td>\n",
       "      <td>8.30</td>\n",
       "      <td>5.96</td>\n",
       "      <td>6.72</td>\n",
       "    </tr>\n",
       "    <tr>\n",
       "      <td>5</td>\n",
       "      <td>2019</td>\n",
       "      <td>7.33</td>\n",
       "      <td>8.21</td>\n",
       "      <td>10.11</td>\n",
       "      <td>4.81</td>\n",
       "    </tr>\n",
       "  </tbody>\n",
       "</table>\n",
       "</div>"
      ],
      "text/plain": [
       "   Years  Los Angeles County % chg  Fresno County % chg  \\\n",
       "1   2014                      9.12                10.75   \n",
       "2   2015                      5.56                 6.29   \n",
       "3   2016                      7.40                 6.33   \n",
       "4   2017                      7.20                 8.30   \n",
       "5   2019                      7.33                 8.21   \n",
       "\n",
       "   San Francisco County % chg  Shasta County % chg  \n",
       "1                        8.96                15.23  \n",
       "2                        8.20                 7.06  \n",
       "3                        7.43                 4.58  \n",
       "4                        5.96                 6.72  \n",
       "5                       10.11                 4.81  "
      ]
     },
     "execution_count": 42,
     "metadata": {},
     "output_type": "execute_result"
    }
   ],
   "source": [
    "re_chg_df14 = re_chg_df.drop ([0])\n",
    "re_chg_df14"
   ]
  },
  {
   "cell_type": "code",
   "execution_count": 43,
   "metadata": {},
   "outputs": [
    {
     "data": {
      "image/png": "[encoded data removed]",
      "text/plain": [
       "<Figure size 720x360 with 1 Axes>"
      ]
     },
     "metadata": {
      "needs_background": "light"
     },
     "output_type": "display_data"
    }
   ],
   "source": [
    "fig, ax = plt.subplots(figsize=(10,5))\n",
    "x_axis = re_chg_df14[\"Years\"]\n",
    "# Generate the Plot to reflect SF Reat Estate Market rate of growth and SF Labor Force rate of change\n",
    "\n",
    "plt.plot(x_axis, re_chg_df14[\"San Francisco County % chg\"],\n",
    "         color=\"g\", marker=\"o\", markersize=10, linestyle=\"--\", linewidth= 1, label = \"Real Estate % growth\")\n",
    "plt.plot(x_axis,labor_change[\"San Francisco County\"],\n",
    "        color=\"k\", marker=\"o\", markersize=10, linestyle=\"--\", linewidth=1, label = \"Labor Force growth %\")\n",
    "#Setting a grid\n",
    "plt.grid()\n",
    "#Labeling lims\n",
    "plt.ylabel(\"Rate of Growth %\")\n",
    "plt.xlabel(\"Years\")\n",
    "#Adding the Title\n",
    "plt.title(\"Real Estate and Labor Market Change 2014 - 2018\")\n",
    "#Adding Legend and setting its location and size\n",
    "plt.legend( loc = 2, fontsize = \"small\" )\n",
    "\n",
    "# Save the Figure\n",
    "\n",
    "plt.savefig(\"output images/Real_Estate_Labor_chg.png\")\n",
    "\n",
    "plt.show()"
   ]
  },
  {
   "cell_type": "markdown",
   "metadata": {},
   "source": [
    "## Read Crime Data"
   ]
  },
  {
   "cell_type": "code",
   "execution_count": 44,
   "metadata": {},
   "outputs": [
    {
     "data": {
      "text/html": [
       "<div>\n",
       "<style scoped>\n",
       "    .dataframe tbody tr th:only-of-type {\n",
       "        vertical-align: middle;\n",
       "    }\n",
       "\n",
       "    .dataframe tbody tr th {\n",
       "        vertical-align: top;\n",
       "    }\n",
       "\n",
       "    .dataframe thead th {\n",
       "        text-align: right;\n",
       "    }\n",
       "</style>\n",
       "<table border=\"1\" class=\"dataframe\">\n",
       "  <thead>\n",
       "    <tr style=\"text-align: right;\">\n",
       "      <th></th>\n",
       "      <th>Year</th>\n",
       "      <th>Fresno County</th>\n",
       "      <th>Los Angeles County</th>\n",
       "      <th>San Francisco County</th>\n",
       "      <th>Shasta County</th>\n",
       "    </tr>\n",
       "  </thead>\n",
       "  <tbody>\n",
       "    <tr>\n",
       "      <td>0</td>\n",
       "      <td>2014</td>\n",
       "      <td>4547</td>\n",
       "      <td>42725</td>\n",
       "      <td>6822</td>\n",
       "      <td>1275</td>\n",
       "    </tr>\n",
       "    <tr>\n",
       "      <td>1</td>\n",
       "      <td>2015</td>\n",
       "      <td>5228</td>\n",
       "      <td>50466</td>\n",
       "      <td>6789</td>\n",
       "      <td>1400</td>\n",
       "    </tr>\n",
       "    <tr>\n",
       "      <td>2</td>\n",
       "      <td>2016</td>\n",
       "      <td>5981</td>\n",
       "      <td>56351</td>\n",
       "      <td>6269</td>\n",
       "      <td>1333</td>\n",
       "    </tr>\n",
       "    <tr>\n",
       "      <td>3</td>\n",
       "      <td>2017</td>\n",
       "      <td>5745</td>\n",
       "      <td>59924</td>\n",
       "      <td>6410</td>\n",
       "      <td>1225</td>\n",
       "    </tr>\n",
       "    <tr>\n",
       "      <td>4</td>\n",
       "      <td>2018</td>\n",
       "      <td>5889</td>\n",
       "      <td>58567</td>\n",
       "      <td>6290</td>\n",
       "      <td>1163</td>\n",
       "    </tr>\n",
       "  </tbody>\n",
       "</table>\n",
       "</div>"
      ],
      "text/plain": [
       "   Year  Fresno County  Los Angeles County  San Francisco County  \\\n",
       "0  2014           4547               42725                  6822   \n",
       "1  2015           5228               50466                  6789   \n",
       "2  2016           5981               56351                  6269   \n",
       "3  2017           5745               59924                  6410   \n",
       "4  2018           5889               58567                  6290   \n",
       "\n",
       "   Shasta County  \n",
       "0           1275  \n",
       "1           1400  \n",
       "2           1333  \n",
       "3           1225  \n",
       "4           1163  "
      ]
     },
     "execution_count": 44,
     "metadata": {},
     "output_type": "execute_result"
    }
   ],
   "source": [
    "#read crime data for 4 counties\n",
    "#https://openjustice.doj.ca.gov/exploration/crime-statistics/crimes-clearances\n",
    "crime_county_table_df = pd.read_csv(\"output files/crimes_by_county_2014-2018.csv\")\n",
    "crime_county_table_df.head()"
   ]
  },
  {
   "cell_type": "markdown",
   "metadata": {},
   "source": [
    "## Plot Crime vs. Housing Data, 4 Counties"
   ]
  },
  {
   "cell_type": "code",
   "execution_count": 45,
   "metadata": {},
   "outputs": [
    {
     "data": {
      "image/png": "[encoded data removed]",
      "text/plain": [
       "<Figure size 360x216 with 2 Axes>"
      ]
     },
     "metadata": {
      "needs_background": "light"
     },
     "output_type": "display_data"
    }
   ],
   "source": [
    "#plot LA County crime and housing price data with 2 y axis\n",
    "x= ['2014','2015', '2016', '2017', '2018']\n",
    "y1line = zillow_df[\"Los Angeles County\"]\n",
    "y2bar = crime_county_table_df[\"Los Angeles County\"]\n",
    "\n",
    "fig, ax1 = plt.subplots(figsize=(5,3))\n",
    "\n",
    "color = 'tab:blue'\n",
    "ax1.set_xlabel('Years')\n",
    "\n",
    "ax1.set_ylabel('Housing prices', color=color)\n",
    "ax1.set_title('Housing prices vs Violent Crimes in Los Angeles County')\n",
    "ax1.bar(x, y1line, color=color)\n",
    "ax1.tick_params(axis='y', labelcolor=color)\n",
    "ax2 = ax1.twinx()  # instantiate a second axes that shares the same x-axis\n",
    "\n",
    "color = 'tab:red'\n",
    "ax2.set_ylabel('Violent Crimes', color=color)  # we already handled the x-label with ax1\n",
    "ax2.plot(x, y2bar, color=color)\n",
    "ax2.tick_params(axis='y', labelcolor=color)\n",
    "\n",
    "plt.savefig(\"output images/Crime_Housing_Prices_LosAngeles_County.png\")\n",
    "plt.show()"
   ]
  },
  {
   "cell_type": "code",
   "execution_count": 46,
   "metadata": {},
   "outputs": [
    {
     "data": {
      "image/png": "[encoded data removed]",
      "text/plain": [
       "<Figure size 360x216 with 2 Axes>"
      ]
     },
     "metadata": {
      "needs_background": "light"
     },
     "output_type": "display_data"
    }
   ],
   "source": [
    "#plot Fresno County  nd housing price data with 2 y axis\n",
    "x= ['2014','2015', '2016', '2017', '2018']\n",
    "y1line = zillow_df[\"Fresno County\"]\n",
    "y2bar = crime_county_table_df[\"Fresno County\"]\n",
    "\n",
    "fig, ax1 = plt.subplots(figsize=(5,3))\n",
    "\n",
    "color = 'tab:blue'\n",
    "ax1.set_xlabel('Years')\n",
    "\n",
    "ax1.set_ylabel('Housing prices', color=color)\n",
    "ax1.set_title('Housing prices vs Violent Crimes in Fresno County')\n",
    "ax1.bar(x, y1line, color=color)\n",
    "ax1.tick_params(axis='y', labelcolor=color)\n",
    "ax2 = ax1.twinx()  # instantiate a second axes that shares the same x-axis\n",
    "\n",
    "color = 'tab:red'\n",
    "ax2.set_ylabel('Violent Crimes', color=color)  # we already handled the x-label with ax1\n",
    "ax2.plot(x, y2bar, color=color)\n",
    "ax2.tick_params(axis='y', labelcolor=color)\n",
    "\n",
    "plt.savefig(\"output images/Crime_Housing_Prices_Fresno_County.png\")\n",
    "plt.show()"
   ]
  },
  {
   "cell_type": "code",
   "execution_count": 47,
   "metadata": {},
   "outputs": [
    {
     "data": {
      "image/png": "[encoded data removed]",
      "text/plain": [
       "<Figure size 360x216 with 2 Axes>"
      ]
     },
     "metadata": {
      "needs_background": "light"
     },
     "output_type": "display_data"
    }
   ],
   "source": [
    "#plot SF County and housing price data with 2 y axis\n",
    "x= ['2014','2015', '2016', '2017', '2018']\n",
    "y1line = zillow_df[\"San Francisco County\"]\n",
    "y2bar = crime_county_table_df[\"San Francisco County\"]\n",
    "\n",
    "fig, ax1 = plt.subplots(figsize=(5,3))\n",
    "\n",
    "color = 'tab:blue'\n",
    "ax1.set_xlabel('Years')\n",
    "\n",
    "ax1.set_ylabel('Housing prices', color=color)\n",
    "ax1.set_title('Housing prices vs Violent Crimes in San Francisco County')\n",
    "ax1.bar(x, y1line, color=color)\n",
    "ax1.tick_params(axis='y', labelcolor=color)\n",
    "ax2 = ax1.twinx()  # instantiate a second axes that shares the same x-axis\n",
    "\n",
    "color = 'tab:red'\n",
    "ax2.set_ylabel('Violent Crimes', color=color)  # we already handled the x-label with ax1\n",
    "ax2.plot(x, y2bar, color=color)\n",
    "ax2.tick_params(axis='y', labelcolor=color)\n",
    "\n",
    "plt.savefig(\"output images/Crime_Housing_Prices_SanFrancisco_County.png\")\n",
    "plt.show()"
   ]
  },
  {
   "cell_type": "code",
   "execution_count": 48,
   "metadata": {},
   "outputs": [
    {
     "data": {
      "image/png": "[encoded data removed]",
      "text/plain": [
       "<Figure size 360x216 with 2 Axes>"
      ]
     },
     "metadata": {
      "needs_background": "light"
     },
     "output_type": "display_data"
    }
   ],
   "source": [
    "#plot Shasta County and housing price data with 2 y axis\n",
    "x= ['2014','2015', '2016', '2017', '2018']\n",
    "y1line = zillow_df[\"Shasta County\"]\n",
    "y2bar = crime_county_table_df[\"Shasta County\"]\n",
    "\n",
    "fig, ax1 = plt.subplots(figsize=(5,3))\n",
    "\n",
    "color = 'tab:blue'\n",
    "ax1.set_xlabel('Years')\n",
    "\n",
    "ax1.set_ylabel('Housing prices', color=color)\n",
    "ax1.set_title('Housing prices vs Violent Crimes in Shasta County')\n",
    "ax1.bar(x, y1line, color=color)\n",
    "ax1.tick_params(axis='y', labelcolor=color)\n",
    "ax2 = ax1.twinx()  # instantiate a second axes that shares the same x-axis\n",
    "\n",
    "color = 'tab:red'\n",
    "ax2.set_ylabel('Violent Crimes', color=color)  # we already handled the x-label with ax1\n",
    "ax2.plot(x, y2bar, color=color)\n",
    "ax2.tick_params(axis='y', labelcolor=color)\n",
    "\n",
    "plt.savefig(\"output images/Crime_Housing_Pricesi_Shasta_County.png\")\n",
    "plt.show()"
   ]
  },
  {
   "cell_type": "markdown",
   "metadata": {},
   "source": [
    "## Plot Crime vs. Housing Price Scatter - all CA counties for 2018 (with outlier)"
   ]
  },
  {
   "cell_type": "code",
   "execution_count": 49,
   "metadata": {},
   "outputs": [
    {
     "data": {
      "text/html": [
       "<div>\n",
       "<style scoped>\n",
       "    .dataframe tbody tr th:only-of-type {\n",
       "        vertical-align: middle;\n",
       "    }\n",
       "\n",
       "    .dataframe tbody tr th {\n",
       "        vertical-align: top;\n",
       "    }\n",
       "\n",
       "    .dataframe thead th {\n",
       "        text-align: right;\n",
       "    }\n",
       "</style>\n",
       "<table border=\"1\" class=\"dataframe\">\n",
       "  <thead>\n",
       "    <tr style=\"text-align: right;\">\n",
       "      <th></th>\n",
       "      <th>County</th>\n",
       "      <th>Year</th>\n",
       "      <th>Violent_Crimes</th>\n",
       "    </tr>\n",
       "  </thead>\n",
       "  <tbody>\n",
       "    <tr>\n",
       "      <td>0</td>\n",
       "      <td>Alameda County</td>\n",
       "      <td>2018</td>\n",
       "      <td>9948</td>\n",
       "    </tr>\n",
       "    <tr>\n",
       "      <td>1</td>\n",
       "      <td>Alpine County</td>\n",
       "      <td>2018</td>\n",
       "      <td>12</td>\n",
       "    </tr>\n",
       "    <tr>\n",
       "      <td>2</td>\n",
       "      <td>Amador County</td>\n",
       "      <td>2018</td>\n",
       "      <td>118</td>\n",
       "    </tr>\n",
       "    <tr>\n",
       "      <td>3</td>\n",
       "      <td>Butte County</td>\n",
       "      <td>2018</td>\n",
       "      <td>1214</td>\n",
       "    </tr>\n",
       "    <tr>\n",
       "      <td>4</td>\n",
       "      <td>Calaveras County</td>\n",
       "      <td>2018</td>\n",
       "      <td>197</td>\n",
       "    </tr>\n",
       "  </tbody>\n",
       "</table>\n",
       "</div>"
      ],
      "text/plain": [
       "             County  Year  Violent_Crimes\n",
       "0    Alameda County  2018            9948\n",
       "1     Alpine County  2018              12\n",
       "2     Amador County  2018             118\n",
       "3      Butte County  2018            1214\n",
       "4  Calaveras County  2018             197"
      ]
     },
     "execution_count": 49,
     "metadata": {},
     "output_type": "execute_result"
    }
   ],
   "source": [
    "#read crimes for all CA counties for 2018\n",
    "crime_county_2018_df = pd.read_csv(\"output files/crimes_all_counties_2018.csv\", index_col = 0)\n",
    "#Renaming column for clarity\n",
    "#crime_county_2018_df = crime_data_2018.rename(columns={\"Violent_sum\": \"Violent_Crimes\"})\n",
    "crime_county_2018_df.head()"
   ]
  },
  {
   "cell_type": "code",
   "execution_count": 50,
   "metadata": {},
   "outputs": [],
   "source": [
    "# Read the Pricing data\n",
    "pricing_data_to_load = \"output files/zillow_clean_all_counties_df.csv\"\n",
    "pricing_data_df = pd.read_csv(pricing_data_to_load, index_col = 0)"
   ]
  },
  {
   "cell_type": "code",
   "execution_count": 51,
   "metadata": {},
   "outputs": [
    {
     "data": {
      "text/html": [
       "<div>\n",
       "<style scoped>\n",
       "    .dataframe tbody tr th:only-of-type {\n",
       "        vertical-align: middle;\n",
       "    }\n",
       "\n",
       "    .dataframe tbody tr th {\n",
       "        vertical-align: top;\n",
       "    }\n",
       "\n",
       "    .dataframe thead th {\n",
       "        text-align: right;\n",
       "    }\n",
       "</style>\n",
       "<table border=\"1\" class=\"dataframe\">\n",
       "  <thead>\n",
       "    <tr style=\"text-align: right;\">\n",
       "      <th></th>\n",
       "      <th>County</th>\n",
       "      <th>Price</th>\n",
       "    </tr>\n",
       "  </thead>\n",
       "  <tbody>\n",
       "    <tr>\n",
       "      <td>0</td>\n",
       "      <td>Los Angeles County</td>\n",
       "      <td>596094.53</td>\n",
       "    </tr>\n",
       "    <tr>\n",
       "      <td>1</td>\n",
       "      <td>San Diego County</td>\n",
       "      <td>560627.31</td>\n",
       "    </tr>\n",
       "    <tr>\n",
       "      <td>2</td>\n",
       "      <td>Orange County</td>\n",
       "      <td>683327.61</td>\n",
       "    </tr>\n",
       "    <tr>\n",
       "      <td>3</td>\n",
       "      <td>Riverside County</td>\n",
       "      <td>356364.39</td>\n",
       "    </tr>\n",
       "    <tr>\n",
       "      <td>4</td>\n",
       "      <td>San Bernardino County</td>\n",
       "      <td>327473.67</td>\n",
       "    </tr>\n",
       "  </tbody>\n",
       "</table>\n",
       "</div>"
      ],
      "text/plain": [
       "                  County     Price\n",
       "0     Los Angeles County 596094.53\n",
       "1       San Diego County 560627.31\n",
       "2          Orange County 683327.61\n",
       "3       Riverside County 356364.39\n",
       "4  San Bernardino County 327473.67"
      ]
     },
     "execution_count": 51,
     "metadata": {},
     "output_type": "execute_result"
    }
   ],
   "source": [
    "#Converting to DataFrame\n",
    "pricing_all_counties_2018_df = pd.DataFrame (pricing_data_df)\n",
    "pricing_all_counties_2018_df = pricing_all_counties_2018_df.reset_index()\n",
    "\n",
    "#Renaming RegionName to County for consistency with the Crime DataFrame\n",
    "pricing_all_counties_2018_df = pricing_all_counties_2018_df.rename(columns={\"RegionName\": \"County\"})\n",
    "pricing_all_counties_2018_df.head()"
   ]
  },
  {
   "cell_type": "code",
   "execution_count": 52,
   "metadata": {},
   "outputs": [
    {
     "data": {
      "text/html": [
       "<div>\n",
       "<style scoped>\n",
       "    .dataframe tbody tr th:only-of-type {\n",
       "        vertical-align: middle;\n",
       "    }\n",
       "\n",
       "    .dataframe tbody tr th {\n",
       "        vertical-align: top;\n",
       "    }\n",
       "\n",
       "    .dataframe thead th {\n",
       "        text-align: right;\n",
       "    }\n",
       "</style>\n",
       "<table border=\"1\" class=\"dataframe\">\n",
       "  <thead>\n",
       "    <tr style=\"text-align: right;\">\n",
       "      <th></th>\n",
       "      <th>County</th>\n",
       "      <th>Violent_Crimes</th>\n",
       "      <th>Price</th>\n",
       "    </tr>\n",
       "  </thead>\n",
       "  <tbody>\n",
       "    <tr>\n",
       "      <td>0</td>\n",
       "      <td>Los Angeles County</td>\n",
       "      <td>58567</td>\n",
       "      <td>596094.53</td>\n",
       "    </tr>\n",
       "    <tr>\n",
       "      <td>1</td>\n",
       "      <td>San Diego County</td>\n",
       "      <td>11379</td>\n",
       "      <td>560627.31</td>\n",
       "    </tr>\n",
       "    <tr>\n",
       "      <td>2</td>\n",
       "      <td>Orange County</td>\n",
       "      <td>7362</td>\n",
       "      <td>683327.61</td>\n",
       "    </tr>\n",
       "    <tr>\n",
       "      <td>3</td>\n",
       "      <td>Riverside County</td>\n",
       "      <td>7360</td>\n",
       "      <td>356364.39</td>\n",
       "    </tr>\n",
       "    <tr>\n",
       "      <td>4</td>\n",
       "      <td>San Bernardino County</td>\n",
       "      <td>10577</td>\n",
       "      <td>327473.67</td>\n",
       "    </tr>\n",
       "  </tbody>\n",
       "</table>\n",
       "</div>"
      ],
      "text/plain": [
       "                  County  Violent_Crimes     Price\n",
       "0     Los Angeles County           58567 596094.53\n",
       "1       San Diego County           11379 560627.31\n",
       "2          Orange County            7362 683327.61\n",
       "3       Riverside County            7360 356364.39\n",
       "4  San Bernardino County           10577 327473.67"
      ]
     },
     "execution_count": 52,
     "metadata": {},
     "output_type": "execute_result"
    }
   ],
   "source": [
    "#Merging both DataFrames\n",
    "crime_price_merge_df = pd.merge(pricing_all_counties_2018_df, crime_county_2018_df, on=\"County\", how=\"inner\")\n",
    "crime_price_merge_df = crime_price_merge_df[[\"County\", \"Violent_Crimes\", \"Price\"]]\n",
    "crime_price_merge_df.head()"
   ]
  },
  {
   "cell_type": "code",
   "execution_count": 53,
   "metadata": {},
   "outputs": [
    {
     "data": {
      "image/png": "[encoded data removed]",
      "text/plain": [
       "<Figure size 504x504 with 1 Axes>"
      ]
     },
     "metadata": {
      "needs_background": "light"
     },
     "output_type": "display_data"
    },
    {
     "name": "stdout",
     "output_type": "stream",
     "text": [
      "p_value: 2.33e-01\n",
      "r_value: 0.17\n"
     ]
    }
   ],
   "source": [
    "#We want to explore the relationship between housing prices and crime data for all CA counties for 2018\n",
    "# Show linear relationship between Crime and Housing Price\n",
    "\n",
    "#plot scatter\n",
    "fig, ax1 = plt.subplots(figsize=(7,7))\n",
    "x = crime_price_merge_df[\"Violent_Crimes\"]\n",
    "y = crime_price_merge_df[\"Price\"]\n",
    "ax1.scatter(x, y)\n",
    "plt.xticks(rotation=90)\n",
    "\n",
    "#plot regression\n",
    "slope, intercept, r_value, p_value, slope_std_error = stats.linregress(x,y)\n",
    "predict_y = slope * x + intercept\n",
    "plt.plot(x, y, \"o\")\n",
    "plt.plot(x, predict_y)\n",
    "\n",
    "ax1.set_xlabel(\"Violent Crimes\")\n",
    "ax1.set_ylabel(\"Housing Price\")\n",
    "ax1.set_title(\"Crime vs. Housing Price\", size=20)\n",
    "fig.tight_layout()\n",
    "plt.savefig (\"output images/Crime_Housing_Scatter_Regression_outlier.png\")\n",
    "plt.show()\n",
    "\n",
    "#round the r-value (correlation coefficient) and p-value\n",
    "p_value = '{:0.2e}'.format(p_value)\n",
    "r_value = '{:0.2}'.format(r_value)\n",
    "\n",
    "print(f\"p_value: {p_value}\")\n",
    "print(f\"r_value: {r_value}\")"
   ]
  },
  {
   "cell_type": "markdown",
   "metadata": {},
   "source": [
    "## Plot Crime vs. Housing Price Scatter - all CA counties for 2018 (without outlier)"
   ]
  },
  {
   "cell_type": "code",
   "execution_count": 54,
   "metadata": {},
   "outputs": [
    {
     "data": {
      "text/html": [
       "<div>\n",
       "<style scoped>\n",
       "    .dataframe tbody tr th:only-of-type {\n",
       "        vertical-align: middle;\n",
       "    }\n",
       "\n",
       "    .dataframe tbody tr th {\n",
       "        vertical-align: top;\n",
       "    }\n",
       "\n",
       "    .dataframe thead th {\n",
       "        text-align: right;\n",
       "    }\n",
       "</style>\n",
       "<table border=\"1\" class=\"dataframe\">\n",
       "  <thead>\n",
       "    <tr style=\"text-align: right;\">\n",
       "      <th></th>\n",
       "      <th>County</th>\n",
       "      <th>Violent_Crimes</th>\n",
       "      <th>Price</th>\n",
       "    </tr>\n",
       "  </thead>\n",
       "  <tbody>\n",
       "    <tr>\n",
       "      <td>1</td>\n",
       "      <td>San Diego County</td>\n",
       "      <td>11379</td>\n",
       "      <td>560627.31</td>\n",
       "    </tr>\n",
       "    <tr>\n",
       "      <td>2</td>\n",
       "      <td>Orange County</td>\n",
       "      <td>7362</td>\n",
       "      <td>683327.61</td>\n",
       "    </tr>\n",
       "    <tr>\n",
       "      <td>3</td>\n",
       "      <td>Riverside County</td>\n",
       "      <td>7360</td>\n",
       "      <td>356364.39</td>\n",
       "    </tr>\n",
       "    <tr>\n",
       "      <td>4</td>\n",
       "      <td>San Bernardino County</td>\n",
       "      <td>10577</td>\n",
       "      <td>327473.67</td>\n",
       "    </tr>\n",
       "    <tr>\n",
       "      <td>5</td>\n",
       "      <td>Santa Clara County</td>\n",
       "      <td>6155</td>\n",
       "      <td>1241342.00</td>\n",
       "    </tr>\n",
       "  </tbody>\n",
       "</table>\n",
       "</div>"
      ],
      "text/plain": [
       "                  County  Violent_Crimes      Price\n",
       "1       San Diego County           11379  560627.31\n",
       "2          Orange County            7362  683327.61\n",
       "3       Riverside County            7360  356364.39\n",
       "4  San Bernardino County           10577  327473.67\n",
       "5     Santa Clara County            6155 1241342.00"
      ]
     },
     "execution_count": 54,
     "metadata": {},
     "output_type": "execute_result"
    }
   ],
   "source": [
    "# Dropping an outlier for Crime (LA County)\n",
    "crime_price_df = crime_price_merge_df.drop([0])\n",
    "crime_price_df.head()"
   ]
  },
  {
   "cell_type": "code",
   "execution_count": 55,
   "metadata": {},
   "outputs": [
    {
     "data": {
      "image/png": "[encoded data removed]",
      "text/plain": [
       "<Figure size 504x504 with 1 Axes>"
      ]
     },
     "metadata": {
      "needs_background": "light"
     },
     "output_type": "display_data"
    },
    {
     "name": "stdout",
     "output_type": "stream",
     "text": [
      "p_value: 3.15e-02\n",
      "r_value: 2.99e-01\n"
     ]
    }
   ],
   "source": [
    "#plot scatter\n",
    "fig, ax1 = plt.subplots(figsize=(7,7))\n",
    "x = crime_price_df[\"Violent_Crimes\"]\n",
    "y = crime_price_df[\"Price\"]\n",
    "ax1.scatter(x, y)\n",
    "plt.xticks(rotation=90)\n",
    "\n",
    "#plot regression\n",
    "slope, intercept, r_value, p_value, slope_std_error = stats.linregress(x,y)\n",
    "predict_y = slope * x + intercept\n",
    "plt.plot(x, y, \"o\")\n",
    "plt.plot(x, predict_y)\n",
    "\n",
    "#round the r-value (correlation coefficient) and p-value\n",
    "p_value = '{:0.2e}'.format(p_value)\n",
    "r_value = '{:0.2e}'.format(r_value)\n",
    "\n",
    "ax1.set_xlabel(\"Violent Crimes\")\n",
    "ax1.set_ylabel(\"Housing Price\")\n",
    "ax1.set_title(\"Crime vs. Housing Price\", size = 20)\n",
    "fig.tight_layout()\n",
    "plt.savefig (\"output images/Crime_Housing_Scatter_Regression_no_outlier.png\")\n",
    "plt.show()\n",
    "\n",
    "#round the r-value (correlation coefficient) and p-value\n",
    "#p_value = '{:0.2e}'.format(p_value)\n",
    "#r_value = '{:0.2e}'.format(r_value)\n",
    "print(f\"p_value: {p_value}\")\n",
    "print(f\"r_value: {r_value}\")"
   ]
  },
  {
   "cell_type": "code",
   "execution_count": null,
   "metadata": {},
   "outputs": [],
   "source": []
  },
  {
   "cell_type": "code",
   "execution_count": null,
   "metadata": {},
   "outputs": [],
   "source": []
  }
 ],
 "metadata": {
  "kernelspec": {
   "display_name": "Python 3",
   "language": "python",
   "name": "python3"
  },
  "language_info": {
   "codemirror_mode": {
    "name": "ipython",
    "version": 3
   },
   "file_extension": ".py",
   "mimetype": "text/x-python",
   "name": "python",
   "nbconvert_exporter": "python",
   "pygments_lexer": "ipython3",
   "version": "3.7.4"
  }
 },
 "nbformat": 4,
 "nbformat_minor": 2
}
