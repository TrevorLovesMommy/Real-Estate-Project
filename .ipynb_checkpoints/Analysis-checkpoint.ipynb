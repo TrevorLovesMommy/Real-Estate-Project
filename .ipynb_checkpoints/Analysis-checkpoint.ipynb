{
 "cells": [
  {
   "cell_type": "code",
   "execution_count": 1,
   "metadata": {},
   "outputs": [],
   "source": [
    "import pandas as pd\n",
    "pd.options.display.float_format = '{:.2f}'.format #turn off scientific notation\n",
    "import numpy as np\n",
    "import matplotlib.pyplot as plt\n",
    "%matplotlib notebook\n",
    "from scipy.stats import linregress\n",
    "import scipy.stats as stats"
   ]
  },
  {
   "cell_type": "markdown",
   "metadata": {},
   "source": [
    "## Read Cleaned Zillow Data"
   ]
  },
  {
   "cell_type": "code",
   "execution_count": 2,
   "metadata": {},
   "outputs": [
    {
     "data": {
      "text/html": [
       "<div>\n",
       "<style scoped>\n",
       "    .dataframe tbody tr th:only-of-type {\n",
       "        vertical-align: middle;\n",
       "    }\n",
       "\n",
       "    .dataframe tbody tr th {\n",
       "        vertical-align: top;\n",
       "    }\n",
       "\n",
       "    .dataframe thead th {\n",
       "        text-align: right;\n",
       "    }\n",
       "</style>\n",
       "<table border=\"1\" class=\"dataframe\">\n",
       "  <thead>\n",
       "    <tr style=\"text-align: right;\">\n",
       "      <th></th>\n",
       "      <th>Los Angeles County</th>\n",
       "      <th>Fresno County</th>\n",
       "      <th>San Francisco County</th>\n",
       "      <th>Shasta County</th>\n",
       "    </tr>\n",
       "  </thead>\n",
       "  <tbody>\n",
       "    <tr>\n",
       "      <td>2014 Avg Price</td>\n",
       "      <td>456951.25</td>\n",
       "      <td>180313.22</td>\n",
       "      <td>1194854.92</td>\n",
       "      <td>202065.47</td>\n",
       "    </tr>\n",
       "    <tr>\n",
       "      <td>2015 Avg Price</td>\n",
       "      <td>482374.33</td>\n",
       "      <td>191649.06</td>\n",
       "      <td>1292884.22</td>\n",
       "      <td>216334.31</td>\n",
       "    </tr>\n",
       "    <tr>\n",
       "      <td>2016 Avg Price</td>\n",
       "      <td>518062.94</td>\n",
       "      <td>203774.64</td>\n",
       "      <td>1388945.64</td>\n",
       "      <td>226238.28</td>\n",
       "    </tr>\n",
       "    <tr>\n",
       "      <td>2017 Avg Price</td>\n",
       "      <td>555362.75</td>\n",
       "      <td>220687.50</td>\n",
       "      <td>1471771.03</td>\n",
       "      <td>241436.89</td>\n",
       "    </tr>\n",
       "    <tr>\n",
       "      <td>2018 Avg Price</td>\n",
       "      <td>596094.53</td>\n",
       "      <td>238799.28</td>\n",
       "      <td>1620575.75</td>\n",
       "      <td>253039.00</td>\n",
       "    </tr>\n",
       "  </tbody>\n",
       "</table>\n",
       "</div>"
      ],
      "text/plain": [
       "                Los Angeles County  Fresno County  San Francisco County  \\\n",
       "2014 Avg Price           456951.25      180313.22            1194854.92   \n",
       "2015 Avg Price           482374.33      191649.06            1292884.22   \n",
       "2016 Avg Price           518062.94      203774.64            1388945.64   \n",
       "2017 Avg Price           555362.75      220687.50            1471771.03   \n",
       "2018 Avg Price           596094.53      238799.28            1620575.75   \n",
       "\n",
       "                Shasta County  \n",
       "2014 Avg Price      202065.47  \n",
       "2015 Avg Price      216334.31  \n",
       "2016 Avg Price      226238.28  \n",
       "2017 Avg Price      241436.89  \n",
       "2018 Avg Price      253039.00  "
      ]
     },
     "execution_count": 2,
     "metadata": {},
     "output_type": "execute_result"
    }
   ],
   "source": [
    "#read Zillow 3 bedroom data by county into pandas dataframe \n",
    "file = \"output files/zillow_clean_df.csv\" \n",
    "zillow_df = pd.read_csv(file, index_col = 0) \n",
    "#zillow_df = pd.read_csv(file) \n",
    "zillow_df.head()"
   ]
  },
  {
   "cell_type": "markdown",
   "metadata": {},
   "source": [
    "## Read Income Data"
   ]
  },
  {
   "cell_type": "code",
   "execution_count": 3,
   "metadata": {},
   "outputs": [
    {
     "data": {
      "text/html": [
       "<div>\n",
       "<style scoped>\n",
       "    .dataframe tbody tr th:only-of-type {\n",
       "        vertical-align: middle;\n",
       "    }\n",
       "\n",
       "    .dataframe tbody tr th {\n",
       "        vertical-align: top;\n",
       "    }\n",
       "\n",
       "    .dataframe thead th {\n",
       "        text-align: right;\n",
       "    }\n",
       "</style>\n",
       "<table border=\"1\" class=\"dataframe\">\n",
       "  <thead>\n",
       "    <tr style=\"text-align: right;\">\n",
       "      <th></th>\n",
       "      <th>Los Angeles County</th>\n",
       "      <th>Fresno County</th>\n",
       "      <th>San Francisco County</th>\n",
       "      <th>Shasta County</th>\n",
       "    </tr>\n",
       "  </thead>\n",
       "  <tbody>\n",
       "    <tr>\n",
       "      <td>2014 Income</td>\n",
       "      <td>50730</td>\n",
       "      <td>36448</td>\n",
       "      <td>97498</td>\n",
       "      <td>38410</td>\n",
       "    </tr>\n",
       "    <tr>\n",
       "      <td>2015 Income</td>\n",
       "      <td>53521</td>\n",
       "      <td>38323</td>\n",
       "      <td>103529</td>\n",
       "      <td>40882</td>\n",
       "    </tr>\n",
       "    <tr>\n",
       "      <td>2016 Income</td>\n",
       "      <td>57127</td>\n",
       "      <td>40327</td>\n",
       "      <td>114697</td>\n",
       "      <td>43412</td>\n",
       "    </tr>\n",
       "    <tr>\n",
       "      <td>2017 Income</td>\n",
       "      <td>59058</td>\n",
       "      <td>41137</td>\n",
       "      <td>121778</td>\n",
       "      <td>44480</td>\n",
       "    </tr>\n",
       "    <tr>\n",
       "      <td>2018 Income</td>\n",
       "      <td>62224</td>\n",
       "      <td>43084</td>\n",
       "      <td>130696</td>\n",
       "      <td>46582</td>\n",
       "    </tr>\n",
       "  </tbody>\n",
       "</table>\n",
       "</div>"
      ],
      "text/plain": [
       "             Los Angeles County  Fresno County  San Francisco County  \\\n",
       "2014 Income               50730          36448                 97498   \n",
       "2015 Income               53521          38323                103529   \n",
       "2016 Income               57127          40327                114697   \n",
       "2017 Income               59058          41137                121778   \n",
       "2018 Income               62224          43084                130696   \n",
       "\n",
       "             Shasta County  \n",
       "2014 Income          38410  \n",
       "2015 Income          40882  \n",
       "2016 Income          43412  \n",
       "2017 Income          44480  \n",
       "2018 Income          46582  "
      ]
     },
     "execution_count": 3,
     "metadata": {},
     "output_type": "execute_result"
    }
   ],
   "source": [
    "income_df=pd.read_csv(\"output files/income_df.csv\", index_col = 0) \n",
    "income_df.head()"
   ]
  },
  {
   "cell_type": "markdown",
   "metadata": {},
   "source": [
    "## Plot Income vs. Housing Data"
   ]
  },
  {
   "cell_type": "code",
   "execution_count": 4,
   "metadata": {},
   "outputs": [
    {
     "data": {
      "image/png": "[encoded data removed]",
      "text/plain": [
       "<Figure size 360x216 with 2 Axes>"
      ]
     },
     "metadata": {
      "needs_background": "light"
     },
     "output_type": "display_data"
    }
   ],
   "source": [
    "#plot Shasta income and housing price with 2 y axis\n",
    "x=[2014, 2015, 2016, 2017, 2018]\n",
    "y1line = zillow_df.loc[:,\"Shasta County\"]\n",
    "y2bar = income_df.loc[:, \"Shasta County\"]\n",
    "\n",
    "fig, ax1 = plt.subplots(figsize=(5,3))\n",
    "\n",
    "color = 'tab:blue'\n",
    "ax1.set_xlabel('Years')\n",
    "ax1.set_ylim(0, 1600000)\n",
    "ax1.set_ylabel('Housing Prices ($)', color=color)\n",
    "ax1.set_title('Housing and Income in Shasta County')\n",
    "ax1.bar(x, y1line, color=color) \n",
    "ax1.tick_params(axis='y', labelcolor=color)\n",
    "ax1.legend(['Shasta County'], facecolor='w')\n",
    "\n",
    "ax2 = ax1.twinx()  # instantiate a second axes that shares the same x-axis\n",
    "ax2.set_ylim(0, 1600000) #set limit on second axis to same scale as first axis\n",
    "color = 'tab:red'\n",
    "ax2.set_ylabel('Income($)', color=color)  # we already handled the x-label with ax1\n",
    "ax2.plot(x, y2bar, color=color)\n",
    "ax2.tick_params(axis='y', labelcolor=color)\n",
    "\n",
    "fig.tight_layout()  # otherwise the right y-label is slightly clipped\n",
    "plt.savefig(\"IncomandHousingPricesinShastaCounty.png\")\n",
    "plt.show()"
   ]
  },
  {
   "cell_type": "code",
   "execution_count": 5,
   "metadata": {},
   "outputs": [
    {
     "data": {
      "image/png": "[encoded data removed]",
      "text/plain": [
       "<Figure size 360x216 with 2 Axes>"
      ]
     },
     "metadata": {
      "needs_background": "light"
     },
     "output_type": "display_data"
    },
    {
     "data": {
      "image/png": "[encoded data removed]",
      "text/plain": [
       "<Figure size 360x216 with 2 Axes>"
      ]
     },
     "metadata": {
      "needs_background": "light"
     },
     "output_type": "display_data"
    }
   ],
   "source": [
    "#plot LA income and housing price with 2 y axis\n",
    "x=[2014, 2015, 2016, 2017, 2018]\n",
    "y1line = zillow_df.loc[:,\"Los Angeles County\"]\n",
    "y2bar = income_df.loc[:, \"Los Angeles County\"]\n",
    "\n",
    "fig, ax1 = plt.subplots(figsize=(5,3))\n",
    "\n",
    "color = 'tab:blue'\n",
    "ax1.set_xlabel('Years')\n",
    "ax1.set_ylim(0, 1600000)\n",
    "ax1.set_ylabel('Housing Prices ($)', color=color)\n",
    "ax1.set_title('Housing and Income in Los Angeles County')\n",
    "ax1.bar(x, y1line, color=color) \n",
    "ax1.tick_params(axis='y', labelcolor=color)\n",
    "ax1.legend(['Los Angeles County'], facecolor='w')\n",
    "\n",
    "ax2 = ax1.twinx()  # instantiate a second axes that shares the same x-axis\n",
    "ax2.set_ylim(0, 1600000) #set limit on second axis to same scale as first axis\n",
    "color = 'tab:red'\n",
    "ax2.set_ylabel('Income($)', color=color)  # we already handled the x-label with ax1\n",
    "ax2.plot(x, y2bar, color=color)\n",
    "ax2.tick_params(axis='y', labelcolor=color)\n",
    "\n",
    "fig.tight_layout()  # otherwise the right y-label is slightly clipped\n",
    "plt.savefig(\"output images/Income_HousingPrices_LACounty.png\")\n",
    "plt.show()\n",
    "\n",
    "#plot SF income and housing price with 2 y axis\n",
    "fig, ax1 = plt.subplots(figsize=(5,3))\n",
    "\n",
    "y1line = zillow_df.loc[:,\"San Francisco County\"]\n",
    "y2bar = income_df.loc[:, \"San Francisco County\"]\n",
    "color = 'tab:blue'\n",
    "ax1.set_xlabel('Years')\n",
    "ax1.set_ylabel('Housing Prices ($)', color=color)\n",
    "ax1.set_title('Housing and Income in San Francisco County')\n",
    "ax1.bar(x, y1line, color=color) \n",
    "ax1.tick_params(axis='y', labelcolor=color)\n",
    "ax1.legend(['San Francisco County'], facecolor='w')\n",
    "\n",
    "ax2 = ax1.twinx()  # instantiate a second axes that shares the same x-axis\n",
    "ax2.set_ylim(0, 1600000) #set limit on second axis to same scale as first axis\n",
    "color = 'tab:red'\n",
    "ax2.set_ylabel('Income($)', color=color)  # we already handled the x-label with ax1\n",
    "ax2.plot(x, y2bar, color=color)\n",
    "ax2.tick_params(axis='y', labelcolor=color)\n",
    "\n",
    "fig.tight_layout()  # otherwise the right y-label is slightly clipped\n",
    "plt.savefig(\"output images/Income_HousingPrices_SFCounty.png\")\n",
    "plt.show()"
   ]
  },
  {
   "cell_type": "code",
   "execution_count": 6,
   "metadata": {},
   "outputs": [
    {
     "data": {
      "image/png": "[encoded data removed]",
      "text/plain": [
       "<Figure size 360x216 with 2 Axes>"
      ]
     },
     "metadata": {
      "needs_background": "light"
     },
     "output_type": "display_data"
    }
   ],
   "source": [
    "#plot Fresno income and housing price with 2 y axis\n",
    "x=[2014, 2015, 2016, 2017, 2018]\n",
    "y1line = zillow_df.loc[:,\"Fresno County\"]\n",
    "y2bar = income_df.loc[:, \"Fresno County\"]\n",
    "\n",
    "fig, ax1 = plt.subplots(figsize=(5,3))\n",
    "\n",
    "color = 'tab:blue'\n",
    "ax1.set_xlabel('Years')\n",
    "ax1.set_ylim(0, 1600000)\n",
    "ax1.set_ylabel('Housing Prices ($)', color=color)\n",
    "ax1.set_title('Housing and Income in Fresno County')\n",
    "ax1.bar(x, y1line, color=color) \n",
    "ax1.tick_params(axis='y', labelcolor=color)\n",
    "ax1.legend(['Fresno County'], facecolor='w')\n",
    "\n",
    "ax2 = ax1.twinx()  # instantiate a second axes that shares the same x-axis\n",
    "ax2.set_ylim(0, 1600000) #set limit on second axis to same scale as first axis\n",
    "color = 'tab:red'\n",
    "ax2.set_ylabel('Income($)', color=color)  # we already handled the x-label with ax1\n",
    "ax2.plot(x, y2bar, color=color)\n",
    "ax2.tick_params(axis='y', labelcolor=color)\n",
    "\n",
    "fig.tight_layout()  # otherwise the right y-label is slightly clipped\n",
    "plt.savefig(\"output images/Income_HousingPrices_FresnoCounty.png\")\n",
    "plt.show()"
   ]
  },
  {
   "cell_type": "code",
   "execution_count": null,
   "metadata": {},
   "outputs": [],
   "source": []
  },
  {
   "cell_type": "code",
   "execution_count": 7,
   "metadata": {},
   "outputs": [
    {
     "data": {
      "image/png": "[encoded data removed]",
      "text/plain": [
       "<Figure size 360x216 with 2 Axes>"
      ]
     },
     "metadata": {
      "needs_background": "light"
     },
     "output_type": "display_data"
    }
   ],
   "source": [
    "#plot Shasta income and housing price with 2 y axis\n",
    "x=[2014, 2015, 2016, 2017, 2018]\n",
    "y1line = zillow_df.loc[:,\"Shasta County\"]\n",
    "y2bar = income_df.loc[:, \"Shasta County\"]\n",
    "\n",
    "fig, ax1 = plt.subplots(figsize=(5,3))\n",
    "\n",
    "color = 'tab:blue'\n",
    "ax1.set_xlabel('Years')\n",
    "ax1.set_ylim(0, 1600000)\n",
    "ax1.set_ylabel('Housing Prices ($)', color=color)\n",
    "ax1.set_title('Housing and Income in Shasta County')\n",
    "ax1.bar(x, y1line, color=color) \n",
    "ax1.tick_params(axis='y', labelcolor=color)\n",
    "ax1.legend(['Shasta County'], facecolor='w')\n",
    "\n",
    "ax2 = ax1.twinx()  # instantiate a second axes that shares the same x-axis\n",
    "ax2.set_ylim(0, 1600000) #set limit on second axis to same scale as first axis\n",
    "color = 'tab:red'\n",
    "ax2.set_ylabel('Income($)', color=color)  # we already handled the x-label with ax1\n",
    "ax2.plot(x, y2bar, color=color)\n",
    "ax2.tick_params(axis='y', labelcolor=color)\n",
    "\n",
    "fig.tight_layout()  # otherwise the right y-label is slightly clipped\n",
    "plt.savefig(\"output images/Income_HousingPrices_ShastaCounty.png\")\n",
    "plt.show()"
   ]
  },
  {
   "cell_type": "markdown",
   "metadata": {},
   "source": [
    "## Plot Income vs. Housing Price Scatter - all CA counties for 2018"
   ]
  },
  {
   "cell_type": "code",
   "execution_count": 10,
   "metadata": {},
   "outputs": [
    {
     "data": {
      "image/png": "[encoded data removed]",
      "text/plain": [
       "<Figure size 504x504 with 1 Axes>"
      ]
     },
     "metadata": {
      "needs_background": "light"
     },
     "output_type": "display_data"
    },
    {
     "data": {
      "text/plain": [
       "<Figure size 432x288 with 0 Axes>"
      ]
     },
     "metadata": {},
     "output_type": "display_data"
    }
   ],
   "source": [
    "#We want to explore the relationship between housing prices and income for all CA counties for 2018\n",
    "# Show linear relationship between Income and Housing Price\n",
    "\n",
    "#read data files\n",
    "zillow_clean_all_counties_df = pd.read_csv(\"output files/zillow_clean_all_counties_df.csv\")\n",
    "all_counties_income_df = pd.read_csv(\"output files/all_counties_income.csv\", )\n",
    "\n",
    "#merge income and housing into one table\n",
    "income_housing_2018_df = pd.merge(zillow_clean_all_counties_df, all_counties_income_df, on=\"RegionName\", how = \"inner\")\n",
    "\n",
    "#rename column\n",
    "income_housing_2018_df= income_housing_2018_df.rename(columns={\"2018 Avg Price\":\"Price\", \"RegionName\":\"County\"})\n",
    "income_housing_2018_df\n",
    "\n",
    "#plot scatter\n",
    "fig, ax1 = plt.subplots(figsize=(7,7))\n",
    "x = income_housing_2018_df[\"Price\"]\n",
    "y = income_housing_2018_df[\"Income\"]\n",
    "ax1.scatter(x, y)\n",
    "plt.xticks(rotation=90)\n",
    "\n",
    "#ax1.plot(x, fit, 'b--')\n",
    "\n",
    "ax1.set_xlabel(\"Income\")\n",
    "ax1.set_ylabel(\"Housing Price\")\n",
    "ax1.set_title(\"Income vs. Housing Price\")\n",
    "fig.tight_layout()\n",
    "plt.savefig (\"output images/Income_Housing_Scatter_Regression.png\")\n",
    "plt.show()\n",
    "\n",
    "ax1.set_xlabel(\"Income\")\n",
    "ax1.set_ylabel(\"Housing Price\")\n",
    "ax1.set_title(\"Income vs. Housing Price\")\n",
    "fig.tight_layout()\n",
    "plt.savefig (\"output images/Income_Housing_Scatter_Regression.png\")\n",
    "plt.show()\n",
    "\n",
    "# #2015\n",
    "# x_2015 = income_df.loc[\"2015 Income\"]\n",
    "# y_2015 = zillow_df.loc[\"2015 Avg Price\"]\n",
    "# ax1.scatter(x_2015, y_2015, color = \"#2ca02c\", label = \"2015\")\n",
    "# fit = slope * x_2015 + intercept\n",
    "# ax1.plot(x_2015, fit, 'b--', color=\"#2ca02c\")\n"
   ]
  },
  {
   "cell_type": "markdown",
   "metadata": {},
   "source": [
    "## Read Rental Data"
   ]
  },
  {
   "cell_type": "code",
   "execution_count": null,
   "metadata": {},
   "outputs": [],
   "source": []
  },
  {
   "cell_type": "code",
   "execution_count": null,
   "metadata": {},
   "outputs": [],
   "source": [
    "#Read Rental Data \n",
    "rental_df = pd.read_csv(\"output files/rentals4counties.csv\", index_col = 0)\n",
    "rental_df.head()"
   ]
  },
  {
   "cell_type": "markdown",
   "metadata": {},
   "source": [
    "## Plot Rental vs. Housing Data"
   ]
  },
  {
   "cell_type": "code",
   "execution_count": null,
   "metadata": {},
   "outputs": [],
   "source": [
    "#plot LA rental and housing price with 2 y axis\n",
    "x= ['2014','2015', '2016', '2017', '2018']\n",
    "y1line = zillow_df[\"Los Angeles County\"]\n",
    "y2bar = rental_df[\"Los Angeles County\"]\n",
    "\n",
    "fig, ax1 = plt.subplots(figsize=(5,3))\n",
    "\n",
    "color = 'tab:blue'\n",
    "ax1.set_xlabel('Years')\n",
    "ax1.set_ylabel('Housing Prices ($)', color=color)\n",
    "ax1.set_title('Housing and Rental Prices in Los Angeles County')\n",
    "ax1.bar(x, y1line, color=color)\n",
    "ax1.tick_params(axis='y', labelcolor=color)\n",
    "ax1.legend(['Los Angeles County'], facecolor='w')\n",
    "ax2 = ax1.twinx()  # instantiate a second axes that shares the same x-axis\n",
    "\n",
    "color = 'tab:red'\n",
    "ax2.set_ylabel('Rental Prices($)', color=color)  # we already handled the x-label with ax1\n",
    "ax2.plot(x, y2bar, color=color)\n",
    "ax2.tick_params(axis='y', labelcolor=color)\n",
    "\n",
    "fig.tight_layout()  # otherwise the right y-label is slightly clipped\n",
    "plt.savefig(\"output images/Rental_HousingPricesi_LACounty.png\")\n",
    "plt.show()"
   ]
  },
  {
   "cell_type": "code",
   "execution_count": null,
   "metadata": {},
   "outputs": [],
   "source": [
    "#plot San Francisco rental and housing price with 2 y axis\n",
    "x= ['2014','2015', '2016', '2017', '2018']\n",
    "y1line = zillow_df[\"San Francisco County\"]\n",
    "y2bar = rental_df[\"San Francisco County\"]\n",
    "\n",
    "fig, ax1 = plt.subplots(figsize=(5,3))\n",
    "\n",
    "color = 'tab:blue'\n",
    "ax1.set_xlabel('Years')\n",
    "ax1.set_ylabel('Housing Prices ($)', color=color)\n",
    "ax1.set_title('Housing and Rental Prices in San Francisco County')\n",
    "ax1.bar(x, y1line, color=color)\n",
    "ax1.tick_params(axis='y', labelcolor=color)\n",
    "ax1.legend(['San Francisco County'], facecolor='w')\n",
    "ax2 = ax1.twinx()  # instantiate a second axes that shares the same x-axis\n",
    "\n",
    "color = 'tab:red'\n",
    "ax2.set_ylabel('Rental Prices($)', color=color)  # we already handled the x-label with ax1\n",
    "ax2.plot(x, y2bar, color=color)\n",
    "ax2.tick_params(axis='y', labelcolor=color)\n",
    "\n",
    "fig.tight_layout()  # otherwise the right y-label is slightly clipped\n",
    "plt.savefig(\"output images/Rental_HousingPricesi_SFCounty.png\")\n",
    "plt.show()"
   ]
  },
  {
   "cell_type": "code",
   "execution_count": null,
   "metadata": {},
   "outputs": [],
   "source": [
    "#plot LA rental and housing price with 2 y axis\n",
    "x= ['2014','2015', '2016', '2017', '2018']\n",
    "y1line = zillow_df[\"Shasta County\"]\n",
    "y2bar = rental_df[\"Shasta County\"]\n",
    "\n",
    "fig, ax1 = plt.subplots(figsize=(5,3))\n",
    "\n",
    "color = 'tab:blue'\n",
    "ax1.set_xlabel('Years')\n",
    "ax1.set_ylabel('Housing Prices ($)', color=color)\n",
    "ax1.bar(x, y1line, color=color)\n",
    "ax1.tick_params(axis='y', labelcolor=color)\n",
    "ax1.legend(['Shasta County'], facecolor='w')\n",
    "ax1.set_title('Housing and Rental Prices in Shasta County')\n",
    "ax2 = ax1.twinx()  # instantiate a second axes that shares the same x-axis\n",
    "\n",
    "color = 'tab:red'\n",
    "ax2.set_ylabel('Rental Prices($)', color=color)  # we already handled the x-label with ax1\n",
    "ax2.plot(x, y2bar, color=color)\n",
    "ax2.tick_params(axis='y', labelcolor=color)\n",
    "\n",
    "fig.tight_layout()  # otherwise the right y-label is slightly clipped\n",
    "plt.savefig(\"output images/Rental_HousingPrices_ShastaCounty.png\")\n",
    "plt.show()"
   ]
  },
  {
   "cell_type": "code",
   "execution_count": null,
   "metadata": {},
   "outputs": [],
   "source": [
    "x= ['2014','2015', '2016', '2017', '2018']\n",
    "y1line = zillow_df[\"Fresno County\"]\n",
    "y2bar = rental_df[\"Fresno County\"]\n",
    "\n",
    "fig, ax1 = plt.subplots(figsize=(5,3))\n",
    "\n",
    "color = 'tab:blue'\n",
    "ax1.set_xlabel('Years')\n",
    "ax1.set_ylabel('Housing Prices ($)', color=color)\n",
    "ax1.bar(x, y1line, color=color)\n",
    "ax1.tick_params(axis='y', labelcolor=color)\n",
    "ax1.legend(['Fresno County'], facecolor='w')\n",
    "ax1.set_title('Housing and Rental Prices in Fresno County')\n",
    "ax2 = ax1.twinx()  # instantiate a second axes that shares the same x-axis\n",
    "\n",
    "color = 'tab:red'\n",
    "ax2.set_ylabel('Rental Prices($)', color=color)  # we already handled the x-label with ax1\n",
    "ax2.plot(x, y2bar, color=color)\n",
    "ax2.tick_params(axis='y', labelcolor=color)\n",
    "\n",
    "fig.tight_layout()  # otherwise the right y-label is slightly clipped\n",
    "plt.savefig(\"output images/Rental_HousingPrices_FresnoCounty.png\")\n",
    "plt.show()"
   ]
  },
  {
   "cell_type": "markdown",
   "metadata": {},
   "source": [
    "## Rental averages for 4 counties"
   ]
  },
  {
   "cell_type": "code",
   "execution_count": null,
   "metadata": {},
   "outputs": [],
   "source": [
    "x= ['2014','2015', '2016', '2017', '2018']\n",
    "plt.plot(x, rental_df[\"Los Angeles County\"], marker=\"o\", label = \"Los Angeles County\")\n",
    "plt.plot(x, rental_df[\"San Francisco County\"], marker=\"x\", label = \"San Francisco County\")\n",
    "plt.plot(x, rental_df[\"Fresno County\"], marker=\"^\", label = \"Fresno County\")\n",
    "plt.plot(x, rental_df[\"Shasta County\"], marker=\"*\", label = \"Shasta County\")\n",
    "\n",
    "# Incorporate the other graph properties\n",
    "plt.title(\"Rental Prices in 4 CA Counties\")\n",
    "plt.ylabel(\"Rental Prices ($)\")\n",
    "plt.xlabel(\"Years\")\n",
    "plt.grid(True)\n",
    "plt.legend(loc=\"best\")\n",
    "\n",
    "#plt.xlim(0,4)\n",
    "#plt.ylim(950,6500)\n",
    "#plt.figure(figsize=(20,10))\n",
    "\n",
    "plt.savefig(\"output images/Rental_Prices_4Counties.png\")\n",
    "plt.show()"
   ]
  },
  {
   "cell_type": "markdown",
   "metadata": {},
   "source": [
    "## ANOVA and t Test"
   ]
  },
  {
   "cell_type": "code",
   "execution_count": null,
   "metadata": {},
   "outputs": [],
   "source": [
    "#compare rental data\n",
    "group1 = rental_df[\"Los Angeles County\"] \n",
    "group2 = rental_df[\"San Francisco County\"]\n",
    "group3 = rental_df[\"Shasta County\"]\n",
    "group4 = rental_df[\"Fresno County\"]"
   ]
  },
  {
   "cell_type": "markdown",
   "metadata": {},
   "source": [
    "ANOVA shows p value to be significant"
   ]
  },
  {
   "cell_type": "code",
   "execution_count": null,
   "metadata": {},
   "outputs": [],
   "source": [
    "stats.f_oneway(group1, group2, group3, group4)"
   ]
  },
  {
   "cell_type": "markdown",
   "metadata": {},
   "source": [
    "t Test shows significance between LA and Shasta and San Francisco rental prices means they are different but Fresno and Shasta are not different"
   ]
  },
  {
   "cell_type": "code",
   "execution_count": null,
   "metadata": {},
   "outputs": [],
   "source": [
    "stats.ttest_ind(group2, group3, equal_var=False)"
   ]
  },
  {
   "cell_type": "code",
   "execution_count": null,
   "metadata": {},
   "outputs": [],
   "source": [
    "stats.ttest_ind(group1, group3, equal_var=False)"
   ]
  },
  {
   "cell_type": "code",
   "execution_count": null,
   "metadata": {},
   "outputs": [],
   "source": [
    "stats.ttest_ind(group3, group4, equal_var=False)"
   ]
  },
  {
   "cell_type": "code",
   "execution_count": null,
   "metadata": {},
   "outputs": [],
   "source": [
    "stats.ttest_ind(group1, group2, equal_var=False)"
   ]
  },
  {
   "cell_type": "code",
   "execution_count": null,
   "metadata": {},
   "outputs": [],
   "source": [
    "stats.ttest_ind(group1, group4, equal_var=False)"
   ]
  },
  {
   "cell_type": "code",
   "execution_count": null,
   "metadata": {},
   "outputs": [],
   "source": [
    "stats.ttest_ind(group2, group4, equal_var=False)"
   ]
  },
  {
   "cell_type": "markdown",
   "metadata": {},
   "source": [
    "## Read Unemployment Data"
   ]
  },
  {
   "cell_type": "code",
   "execution_count": null,
   "metadata": {},
   "outputs": [],
   "source": [
    "labor_reform = pd.read_csv(\"output files/labor_reform.csv\", index_col=0)\n",
    "labor_reform.head()"
   ]
  },
  {
   "cell_type": "code",
   "execution_count": null,
   "metadata": {},
   "outputs": [],
   "source": [
    "labor_change = pd.read_csv(\"output files/labor_change.csv\", index_col=0)\n",
    "labor_change.head()"
   ]
  },
  {
   "cell_type": "markdown",
   "metadata": {},
   "source": [
    "## Unemployment vs. Housing Data"
   ]
  },
  {
   "cell_type": "code",
   "execution_count": null,
   "metadata": {},
   "outputs": [],
   "source": [
    "x_axis = labor_reform.index\n",
    "y1line = zillow_df.loc[:, \"Fresno County\"]\n",
    "y2bar = labor_reform.loc[:, \"Fresno County\"]\n",
    "\n",
    "fig, ax1 = plt.subplots(figsize=(5,3))\n",
    "\n",
    "color = 'tab:blue'\n",
    "ax1.set_xlabel('Years')\n",
    "ax1.set_ylim(0, 260000)\n",
    "ax1.set_ylabel('Housing Prices ($)', color=color)\n",
    "ax1.set_title('Housing and Unemployment Rate in Fresno County')\n",
    "ax1.bar(x_axis, y1line, color=color) \n",
    "ax1.tick_params(axis='y', labelcolor=color)\n",
    "ax1.legend([\"Fresno County\"], facecolor='w')\n",
    "\n",
    "ax2 = ax1.twinx()  # instantiate a second axes that shares the same x-axis\n",
    "ax2.set_ylim(0, 15) #set limit on second axis to same scale as first axis\n",
    "color = 'tab:red'\n",
    "ax2.set_ylabel(\"Unemployment Rate\", color=color)  # we already handled the x-label with ax1\n",
    "ax2.plot(x_axis, y2bar, color=color)\n",
    "ax2.tick_params(axis='y', labelcolor=color)\n",
    "\n",
    "fig.tight_layout()  # otherwise the right y-label is slightly clipped\n",
    "plt.savefig(\"output images/Unemployment_HousingPrices_FresnoCounty.png\")\n",
    "plt.show()"
   ]
  },
  {
   "cell_type": "code",
   "execution_count": null,
   "metadata": {},
   "outputs": [],
   "source": [
    "x_axis = labor_reform.index\n",
    "y1line = zillow_df.loc[:, \"Shasta County\"]\n",
    "y2bar = labor_reform.loc[:, \"Shasta County\"]\n",
    "\n",
    "\n",
    "fig, ax1 = plt.subplots(figsize=(5,3))\n",
    "\n",
    "color = 'tab:blue'\n",
    "ax1.set_xlabel('Years')\n",
    "ax1.set_ylim(0, 260000)\n",
    "ax1.set_ylabel('Housing Prices ($)', color=color)\n",
    "ax1.set_title('Housing and Unemployment Rate in Shasta County')\n",
    "ax1.bar(x_axis, y1line, color=color) \n",
    "ax1.tick_params(axis='y', labelcolor=color)\n",
    "ax1.legend([\"Shasta County\"], facecolor='w')\n",
    "\n",
    "ax2 = ax1.twinx()  # instantiate a second axes that shares the same x-axis\n",
    "ax2.set_ylim(0, 15) #set limit on second axis to same scale as first axis\n",
    "color = 'tab:red'\n",
    "ax2.set_ylabel(\"Unemployment Rate\", color=color)  # we already handled the x-label with ax1\n",
    "ax2.plot(x_axis, y2bar, color=color)\n",
    "ax2.tick_params(axis='y', labelcolor=color)\n",
    "\n",
    "fig.tight_layout()  # otherwise the right y-label is slightly clipped\n",
    "plt.savefig(\"output images/Unemployment_HousingPrices_ShastaCounty.png\")\n",
    "plt.show()"
   ]
  },
  {
   "cell_type": "code",
   "execution_count": null,
   "metadata": {},
   "outputs": [],
   "source": [
    "x_axis = labor_reform.index\n",
    "y1line = zillow_df.loc[:, \"Los Angeles County\"]\n",
    "y2bar = labor_reform.loc[:, \"Los Angeles County\"]\n",
    "\n",
    "fig, ax1 = plt.subplots(figsize=(5,3))\n",
    "\n",
    "color = 'tab:blue'\n",
    "ax1.set_xlabel('Years')\n",
    "ax1.set_ylim(0, 650000)\n",
    "ax1.set_ylabel('Housing Prices ($)', color=color)\n",
    "ax1.set_title('Housing and Unemployment Rate in Los Angeles County')\n",
    "ax1.bar(x_axis, y1line, color=color) \n",
    "ax1.tick_params(axis='y', labelcolor=color)\n",
    "ax1.legend([\"Los Angeles County\"], facecolor='w')\n",
    "\n",
    "ax2 = ax1.twinx()  # instantiate a second axes that shares the same x-axis\n",
    "ax2.set_ylim(0, 12) #set limit on second axis to same scale as first axis\n",
    "color = 'tab:red'\n",
    "ax2.set_ylabel(\"Unemployment Rate\", color=color)  # we already handled the x-label with ax1\n",
    "ax2.plot(x_axis, y2bar, color=color)\n",
    "ax2.tick_params(axis='y', labelcolor=color)\n",
    "\n",
    "fig.tight_layout()  # otherwise the right y-label is slightly clipped\n",
    "plt.savefig(\"output images/Unemployment_HousingPrices_LACounty.png\")\n",
    "plt.show()"
   ]
  },
  {
   "cell_type": "code",
   "execution_count": null,
   "metadata": {},
   "outputs": [],
   "source": [
    "x_axis = labor_reform.index\n",
    "y1line = zillow_df.loc[:, \"San Francisco County\"]\n",
    "y2bar = labor_change.loc[:, \"San Francisco County\"]\n",
    "\n",
    "fig, ax1 = plt.subplots(figsize=(5,3))\n",
    "\n",
    "color = 'tab:blue'\n",
    "ax1.set_xlabel('Years')\n",
    "ax1.set_ylim(0, 1650000)\n",
    "ax1.set_ylabel('Housing Prices ($)', color=color)\n",
    "ax1.set_title('Housing and Unemployment Rate in San Francisco County')\n",
    "ax1.bar(x_axis, y1line, color=color) \n",
    "ax1.tick_params(axis='y', labelcolor=color)\n",
    "ax1.legend([\"San Francisco County\"], facecolor='w')\n",
    "\n",
    "ax2 = ax1.twinx()  # instantiate a second axes that shares the same x-axis\n",
    "ax2.set_ylim(0, 3) #set limit on second axis to same scale as first axis\n",
    "color = 'tab:red'\n",
    "ax2.set_ylabel(\"Unemployment Rate\", color=color)  # we already handled the x-label with ax1\n",
    "ax2.plot(x_axis, y2bar, color=color)\n",
    "ax2.tick_params(axis='y', labelcolor=color)\n",
    "\n",
    "fig.tight_layout()  # otherwise the right y-label is slightly clipped\n",
    "plt.savefig(\"output images/Unemployment_HousingPrices_SFCounty.png\")\n",
    "plt.show()"
   ]
  },
  {
   "cell_type": "code",
   "execution_count": null,
   "metadata": {},
   "outputs": [],
   "source": []
  },
  {
   "cell_type": "code",
   "execution_count": null,
   "metadata": {},
   "outputs": [],
   "source": []
  }
 ],
 "metadata": {
  "kernelspec": {
   "display_name": "Python 3",
   "language": "python",
   "name": "python3"
  },
  "language_info": {
   "codemirror_mode": {
    "name": "ipython",
    "version": 3
   },
   "file_extension": ".py",
   "mimetype": "text/x-python",
   "name": "python",
   "nbconvert_exporter": "python",
   "pygments_lexer": "ipython3",
   "version": "3.7.4"
  }
 },
 "nbformat": 4,
 "nbformat_minor": 2
}
