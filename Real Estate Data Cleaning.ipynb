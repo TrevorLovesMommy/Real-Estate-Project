{
 "cells": [
  {
   "cell_type": "code",
   "execution_count": 4,
   "metadata": {},
   "outputs": [],
   "source": [
    "import pandas as pd\n",
    "pd.options.display.float_format = '{:.2f}'.format #turn off scientific notation\n",
    "import numpy as np\n",
    "import matplotlib.pyplot as plt\n",
    "%matplotlib notebook"
   ]
  },
  {
   "cell_type": "markdown",
   "metadata": {},
   "source": [
    "## Read zillow Data"
   ]
  },
  {
   "cell_type": "code",
   "execution_count": 5,
   "metadata": {},
   "outputs": [
    {
     "data": {
      "text/html": [
       "<div>\n",
       "<style scoped>\n",
       "    .dataframe tbody tr th:only-of-type {\n",
       "        vertical-align: middle;\n",
       "    }\n",
       "\n",
       "    .dataframe tbody tr th {\n",
       "        vertical-align: top;\n",
       "    }\n",
       "\n",
       "    .dataframe thead th {\n",
       "        text-align: right;\n",
       "    }\n",
       "</style>\n",
       "<table border=\"1\" class=\"dataframe\">\n",
       "  <thead>\n",
       "    <tr style=\"text-align: right;\">\n",
       "      <th></th>\n",
       "      <th>RegionID</th>\n",
       "      <th>RegionName</th>\n",
       "      <th>State</th>\n",
       "      <th>Metro</th>\n",
       "      <th>StateCodeFIPS</th>\n",
       "      <th>MunicipalCodeFIPS</th>\n",
       "      <th>SizeRank</th>\n",
       "      <th>2008-01</th>\n",
       "      <th>2008-02</th>\n",
       "      <th>2008-03</th>\n",
       "      <th>...</th>\n",
       "      <th>2019-02</th>\n",
       "      <th>2019-03</th>\n",
       "      <th>2019-04</th>\n",
       "      <th>2019-05</th>\n",
       "      <th>2019-06</th>\n",
       "      <th>2019-07</th>\n",
       "      <th>2019-08</th>\n",
       "      <th>2019-09</th>\n",
       "      <th>2019-10</th>\n",
       "      <th>2019-11</th>\n",
       "    </tr>\n",
       "  </thead>\n",
       "  <tbody>\n",
       "    <tr>\n",
       "      <td>0</td>\n",
       "      <td>3101</td>\n",
       "      <td>Los Angeles County</td>\n",
       "      <td>CA</td>\n",
       "      <td>Los Angeles-Long Beach-Anaheim</td>\n",
       "      <td>6</td>\n",
       "      <td>37</td>\n",
       "      <td>1</td>\n",
       "      <td>nan</td>\n",
       "      <td>nan</td>\n",
       "      <td>nan</td>\n",
       "      <td>...</td>\n",
       "      <td>600754.33</td>\n",
       "      <td>599393.33</td>\n",
       "      <td>599503.33</td>\n",
       "      <td>600387.00</td>\n",
       "      <td>602727.33</td>\n",
       "      <td>600822.00</td>\n",
       "      <td>600501.67</td>\n",
       "      <td>601233.00</td>\n",
       "      <td>605862.00</td>\n",
       "      <td>609034.00</td>\n",
       "    </tr>\n",
       "    <tr>\n",
       "      <td>1</td>\n",
       "      <td>139</td>\n",
       "      <td>Cook County</td>\n",
       "      <td>IL</td>\n",
       "      <td>Chicago-Naperville-Elgin</td>\n",
       "      <td>17</td>\n",
       "      <td>31</td>\n",
       "      <td>2</td>\n",
       "      <td>nan</td>\n",
       "      <td>nan</td>\n",
       "      <td>nan</td>\n",
       "      <td>...</td>\n",
       "      <td>226143.33</td>\n",
       "      <td>227082.67</td>\n",
       "      <td>228167.00</td>\n",
       "      <td>228926.67</td>\n",
       "      <td>228869.67</td>\n",
       "      <td>228349.67</td>\n",
       "      <td>227408.00</td>\n",
       "      <td>226548.33</td>\n",
       "      <td>225984.67</td>\n",
       "      <td>225928.67</td>\n",
       "    </tr>\n",
       "    <tr>\n",
       "      <td>2</td>\n",
       "      <td>1090</td>\n",
       "      <td>Harris County</td>\n",
       "      <td>TX</td>\n",
       "      <td>Houston-The Woodlands-Sugar Land</td>\n",
       "      <td>48</td>\n",
       "      <td>201</td>\n",
       "      <td>3</td>\n",
       "      <td>124604.00</td>\n",
       "      <td>124348.50</td>\n",
       "      <td>124172.33</td>\n",
       "      <td>...</td>\n",
       "      <td>173528.00</td>\n",
       "      <td>173910.33</td>\n",
       "      <td>173899.00</td>\n",
       "      <td>173980.00</td>\n",
       "      <td>174518.00</td>\n",
       "      <td>175041.00</td>\n",
       "      <td>175728.00</td>\n",
       "      <td>176058.33</td>\n",
       "      <td>176914.00</td>\n",
       "      <td>177541.00</td>\n",
       "    </tr>\n",
       "    <tr>\n",
       "      <td>3</td>\n",
       "      <td>2402</td>\n",
       "      <td>Maricopa County</td>\n",
       "      <td>AZ</td>\n",
       "      <td>Phoenix-Mesa-Scottsdale</td>\n",
       "      <td>4</td>\n",
       "      <td>13</td>\n",
       "      <td>4</td>\n",
       "      <td>nan</td>\n",
       "      <td>nan</td>\n",
       "      <td>nan</td>\n",
       "      <td>...</td>\n",
       "      <td>260194.00</td>\n",
       "      <td>261705.00</td>\n",
       "      <td>262585.67</td>\n",
       "      <td>263689.00</td>\n",
       "      <td>264876.67</td>\n",
       "      <td>266422.33</td>\n",
       "      <td>268442.00</td>\n",
       "      <td>270188.67</td>\n",
       "      <td>272057.67</td>\n",
       "      <td>273468.67</td>\n",
       "    </tr>\n",
       "    <tr>\n",
       "      <td>4</td>\n",
       "      <td>2841</td>\n",
       "      <td>San Diego County</td>\n",
       "      <td>CA</td>\n",
       "      <td>San Diego-Carlsbad</td>\n",
       "      <td>6</td>\n",
       "      <td>73</td>\n",
       "      <td>5</td>\n",
       "      <td>415019.00</td>\n",
       "      <td>410783.00</td>\n",
       "      <td>406752.67</td>\n",
       "      <td>...</td>\n",
       "      <td>561999.67</td>\n",
       "      <td>561455.00</td>\n",
       "      <td>563480.33</td>\n",
       "      <td>564365.67</td>\n",
       "      <td>566461.00</td>\n",
       "      <td>568930.33</td>\n",
       "      <td>571215.67</td>\n",
       "      <td>571894.67</td>\n",
       "      <td>573083.00</td>\n",
       "      <td>575533.33</td>\n",
       "    </tr>\n",
       "  </tbody>\n",
       "</table>\n",
       "<p>5 rows × 150 columns</p>\n",
       "</div>"
      ],
      "text/plain": [
       "   RegionID          RegionName State                             Metro  \\\n",
       "0      3101  Los Angeles County    CA    Los Angeles-Long Beach-Anaheim   \n",
       "1       139         Cook County    IL          Chicago-Naperville-Elgin   \n",
       "2      1090       Harris County    TX  Houston-The Woodlands-Sugar Land   \n",
       "3      2402     Maricopa County    AZ           Phoenix-Mesa-Scottsdale   \n",
       "4      2841    San Diego County    CA                San Diego-Carlsbad   \n",
       "\n",
       "   StateCodeFIPS  MunicipalCodeFIPS  SizeRank   2008-01   2008-02   2008-03  \\\n",
       "0              6                 37         1       nan       nan       nan   \n",
       "1             17                 31         2       nan       nan       nan   \n",
       "2             48                201         3 124604.00 124348.50 124172.33   \n",
       "3              4                 13         4       nan       nan       nan   \n",
       "4              6                 73         5 415019.00 410783.00 406752.67   \n",
       "\n",
       "   ...   2019-02   2019-03   2019-04   2019-05   2019-06   2019-07   2019-08  \\\n",
       "0  ... 600754.33 599393.33 599503.33 600387.00 602727.33 600822.00 600501.67   \n",
       "1  ... 226143.33 227082.67 228167.00 228926.67 228869.67 228349.67 227408.00   \n",
       "2  ... 173528.00 173910.33 173899.00 173980.00 174518.00 175041.00 175728.00   \n",
       "3  ... 260194.00 261705.00 262585.67 263689.00 264876.67 266422.33 268442.00   \n",
       "4  ... 561999.67 561455.00 563480.33 564365.67 566461.00 568930.33 571215.67   \n",
       "\n",
       "    2019-09   2019-10   2019-11  \n",
       "0 601233.00 605862.00 609034.00  \n",
       "1 226548.33 225984.67 225928.67  \n",
       "2 176058.33 176914.00 177541.00  \n",
       "3 270188.67 272057.67 273468.67  \n",
       "4 571894.67 573083.00 575533.33  \n",
       "\n",
       "[5 rows x 150 columns]"
      ]
     },
     "execution_count": 5,
     "metadata": {},
     "output_type": "execute_result"
    }
   ],
   "source": [
    "#read Zillow 3 bedroom data by county into pandas dataframe \n",
    "#data from zillow.com/data\n",
    "#we decided to only look at 5 years of data from 2014 - 2018 and 4 counties - LA, SF, Fresno and Shasta\n",
    "file = \"resources/County_Zhvi_3bedroom.csv\" \n",
    "zillow_df = pd.read_csv(file, encoding = \"latin-1\") \n",
    "zillow_df.head()"
   ]
  },
  {
   "cell_type": "markdown",
   "metadata": {},
   "source": [
    "## Filter Zillow Data for all California Counties, 2018 and save output"
   ]
  },
  {
   "cell_type": "code",
   "execution_count": 17,
   "metadata": {},
   "outputs": [
    {
     "data": {
      "text/plain": [
       "(53, 2)"
      ]
     },
     "execution_count": 17,
     "metadata": {},
     "output_type": "execute_result"
    }
   ],
   "source": [
    "zillow_all_counties_df = zillow_df.loc[(zillow_df[\"State\"] == \"CA\")]\n",
    "\n",
    "#use .copy() to avoid SettingWithCopyWarning warning\n",
    "#save region column to new table\n",
    "#zillow_clean_all_counties_df= zillow_all_counties_df[[\"RegionName\"]].copy()\n",
    "\n",
    "\n",
    "#Zillow data is broken down by month.  We want to look at annual trends\n",
    "#Calc average yearly price for 2018\n",
    "\n",
    "\n",
    "\n",
    "#zillow_clean_all_counties_df[\"2018 Avg Price\"] = zillow_df.loc[:,\"2018-01\":\"2018-12\"].mean(axis=1)\n",
    "#zillow_clean_all_counties_df[\"State\"] = zillow_clean_all_counties_df.loc[:,\"State\"]\n",
    "#zillow_clean_all_counties_df.set_index(\"RegionName\", inplace = True)\n",
    "#zillow_clean_all_counties_df.to_csv(\"output files/zillow_clean_all_counties_df.csv\", index = False)\n",
    "zillow_clean_all_counties_df.shape\n",
    "\n"
   ]
  },
  {
   "cell_type": "markdown",
   "metadata": {},
   "source": [
    "## Filter Zillow Data for 4 counties and save output"
   ]
  },
  {
   "cell_type": "code",
   "execution_count": null,
   "metadata": {
    "scrolled": true
   },
   "outputs": [],
   "source": [
    "#keep all rows of the following counties:  Shasta County, Los Angeles County, San Francisco County, Fresno County\n",
    "\n",
    "zillow_df = zillow_df.loc[(zillow_df[\"RegionName\"] == \"Los Angeles County\") | \n",
    "                            (zillow_df[\"RegionName\"] == \"Fresno County\") |\n",
    "                            (zillow_df[\"RegionName\"] == \"San Francisco County\") |\n",
    "                            (zillow_df[\"RegionName\"] == \"Shasta County\"), :]\n",
    "\n",
    "#use .copy() to avoid SettingWithCopyWarning warning\n",
    "#save region column to new table\n",
    "zillow_clean_df= zillow_df[[\"RegionName\"]].copy()\n",
    "\n",
    "#Zillow data is broken down by month.  We want to look at annual trends\n",
    "#Calc average yearly price from 2014 - 2018 of\n",
    "zillow_clean_df[\"2014 Avg Price\"] = zillow_df.loc[:,\"2014-01\":\"2014-12\"].mean(axis=1)\n",
    "zillow_clean_df[\"2015 Avg Price\"] = zillow_df.loc[:,\"2015-01\":\"2015-12\"].mean(axis=1)\n",
    "zillow_clean_df[\"2016 Avg Price\"] = zillow_df.loc[:,\"2016-01\":\"2016-12\"].mean(axis=1)\n",
    "zillow_clean_df[\"2017 Avg Price\"] = zillow_df.loc[:,\"2017-01\":\"2017-12\"].mean(axis=1)\n",
    "zillow_clean_df[\"2018 Avg Price\"] = zillow_df.loc[:,\"2018-01\":\"2018-12\"].mean(axis=1)\n",
    "\n",
    "zillow_clean_df.to_csv(\"output files/zillow_clean_df.csv\", index = False)\n",
    "zillow_clean_df.head()"
   ]
  },
  {
   "cell_type": "code",
   "execution_count": null,
   "metadata": {},
   "outputs": [],
   "source": [
    "#reset index to Region and transpose dataframe\n",
    "zillow_clean_df.set_index(\"RegionName\", inplace = True)\n",
    "zillow_clean_df = zillow_clean_df.transpose()\n",
    "zillow_clean_df.to_csv(\"output files/zillow_clean_df.csv\")\n",
    "zillow_clean_df.head()"
   ]
  },
  {
   "cell_type": "markdown",
   "metadata": {},
   "source": [
    "## Income Data from 2014 - 2018"
   ]
  },
  {
   "cell_type": "code",
   "execution_count": null,
   "metadata": {},
   "outputs": [],
   "source": [
    "#Data from https://www.bea.gov/system/files/2019-11/lapi1119.pdf. \n",
    "#Data from https://www.bea.gov/system/files/2018-02/lapi1116.pdf\n",
    "#I'm having issues reading the excel version of data, so entering by hand  \n",
    "\n",
    "#create dictionary of income by county and make it a dataframe\n",
    "income_df = pd.DataFrame({\"RegionName\":[\"Los Angeles County\", \"Fresno County\", \"San Francisco County\", \"Shasta County\"],\n",
    "                         \"2014 Income\":[50730, 36448, 97498, 38410],\n",
    "                         \"2015 Income\":[53521, 38323, 103529, 40882],\n",
    "                         \"2016 Income\":[57127, 40327, 114697, 43412],\n",
    "                         \"2017 Income\":[59058, 41137, 121778, 44480],\n",
    "                         \"2018 Income\":[62224, 43084, 130696, 46582]\n",
    "                         })\n",
    "\n",
    "income_df.set_index(\"RegionName\", inplace=True)\n",
    "income_df = income_df.transpose()\n",
    "income_df.to_csv(\"output files/income_df.csv\")\n",
    "income_df.head()"
   ]
  },
  {
   "cell_type": "markdown",
   "metadata": {},
   "source": [
    "## Rental Data from 2014 - 2018"
   ]
  },
  {
   "cell_type": "code",
   "execution_count": null,
   "metadata": {},
   "outputs": [],
   "source": [
    "rentaldata_df = pd.read_excel('resources/County_MedianRentalPrice_3Bedroom.xlsx')\n",
    "rentaldata_df.columns = rentaldata_df.iloc[0]\n",
    "rentaldata_df.set_index('RegionName', inplace=True)\n",
    "rentaldata_df.head()"
   ]
  },
  {
   "cell_type": "code",
   "execution_count": null,
   "metadata": {},
   "outputs": [],
   "source": [
    "selectcounties_df = rentaldata_df.loc[ ['Los Angeles County' , 'San Francisco County', 'Fresno County', 'Shasta County'] , : ]\n",
    "col2014=selectcounties_df.loc[: , \"2014-01\":\"2014-12\"]\n",
    "selectcounties_df['Average 2014 Rentals'] = col2014.mean(axis=1)\n",
    "col2015=selectcounties_df.loc[: , \"2015-01\":\"2015-12\"]\n",
    "selectcounties_df['Average 2015 Rentals'] = col2015.mean(axis=1)\n",
    "col2016=selectcounties_df.loc[: , \"2016-01\":\"2016-12\"]\n",
    "selectcounties_df['Average 2016 Rentals'] = col2016.mean(axis=1)\n",
    "col2017=selectcounties_df.loc[: , \"2017-01\":\"2017-12\"]\n",
    "selectcounties_df['Average 2017 Rentals'] = col2017.mean(axis=1)\n",
    "col2018=selectcounties_df.loc[: , \"2018-01\":\"2018-12\"]\n",
    "selectcounties_df['Average 2018 Rentals'] = col2018.mean(axis=1)\n",
    "selected_counties_years_df=selectcounties_df.loc[:,[\"Average 2014 Rentals\", \"Average 2015 Rentals\", \"Average 2016 Rentals\", \"Average 2017 Rentals\", \"Average 2018 Rentals\"]]\n",
    "selected_counties_years_df_transposed=selected_counties_years_df.transpose()\n",
    "selected_counties_years_df_transposed\n",
    "selected_counties_years_df_transposed.to_csv(\"output files/rentals4counties.csv\")"
   ]
  },
  {
   "cell_type": "markdown",
   "metadata": {},
   "source": [
    "## Rental Data from 2014 - 2018"
   ]
  },
  {
   "cell_type": "code",
   "execution_count": null,
   "metadata": {},
   "outputs": [],
   "source": [
    "# Import csv Data File\n",
    "# Data from https://data.ca.gov/dataset/local-area-unemployment-statistics-laus-annual-average\n",
    "unemp_df = pd.read_csv(\"resources/Local_Area_Unemployment_Statistics__LAUS___Annual_Average copy.csv\")\n",
    "unemp_df"
   ]
  },
  {
   "cell_type": "code",
   "execution_count": null,
   "metadata": {},
   "outputs": [],
   "source": [
    "list(unemp_df.columns)"
   ]
  },
  {
   "cell_type": "code",
   "execution_count": null,
   "metadata": {},
   "outputs": [],
   "source": [
    "unemp_df = pd.DataFrame(unemp_df)\n",
    "unemp_df.tail()"
   ]
  },
  {
   "cell_type": "code",
   "execution_count": null,
   "metadata": {},
   "outputs": [],
   "source": [
    "#filter for 4 counties\n",
    "unemp_clean_df = unemp_df.loc[(unemp_df[\"Area Name\"] == \"Los Angeles County\") |\n",
    "                            (unemp_df[\"Area Name\"] == \"Fresno County\") |\n",
    "                            (unemp_df[\"Area Name\"] == \"San Francisco County\") |\n",
    "                            (unemp_df[\"Area Name\"] == \"Shasta County\"), :]\n",
    "unemp_clean_df.head()"
   ]
  },
  {
   "cell_type": "code",
   "execution_count": null,
   "metadata": {},
   "outputs": [],
   "source": [
    "#filter for 2013 - 2018\n",
    "unemp_new_df = unemp_clean_df.loc[(unemp_clean_df[\"Year\"] == 2013) |\n",
    "                            (unemp_clean_df[\"Year\"] == 2014) |\n",
    "                            (unemp_clean_df[\"Year\"] == 2015) |\n",
    "                            (unemp_clean_df[\"Year\"] == 2016) |\n",
    "                            (unemp_clean_df[\"Year\"] == 2017) |\n",
    "                            (unemp_clean_df[\"Year\"] == 2018), :]\n",
    "unemp_new_df.head()"
   ]
  },
  {
   "cell_type": "code",
   "execution_count": null,
   "metadata": {},
   "outputs": [],
   "source": [
    "#reset index and drop unnecessary columns\n",
    "unemp_newnew = unemp_new_df.reset_index()\n",
    "unemp_add=unemp_newnew.drop([\"index\", 'Seasonally Adjusted (Y N)',\"Status\",\"Unnamed: 10\",\"Area Type\",\"Period\"], axis = 1) \n",
    "unemp_add.head()"
   ]
  },
  {
   "cell_type": "code",
   "execution_count": null,
   "metadata": {},
   "outputs": [],
   "source": [
    "#calculate % change in labor force\n",
    "labor_f_chg=unemp_add.groupby(\"Area Name\")[\"Labor Force\"].pct_change()*100\n",
    "labor_chg_df = pd.DataFrame(labor_f_chg)\n",
    "labor_chg_df = labor_chg_df.rename(columns = {\"Labor Force\":\"Labor Force Change\"})\n",
    "labor_chg_df.head()"
   ]
  },
  {
   "cell_type": "code",
   "execution_count": null,
   "metadata": {},
   "outputs": [],
   "source": [
    "#add labor force change to the unemployemnt dataframe\n",
    "unemp_add[\"Labor Force Change\"] = labor_chg_df[\"Labor Force Change\"].values\n",
    "unemp_add.head()"
   ]
  },
  {
   "cell_type": "code",
   "execution_count": null,
   "metadata": {},
   "outputs": [],
   "source": [
    "#filter unemployemnt table for 2014 - 2018\n",
    "labor_df = unemp_add.loc[(unemp_add[\"Year\"] == 2014) |\n",
    "                            (unemp_add[\"Year\"] == 2015) |\n",
    "                            (unemp_add[\"Year\"] == 2016) |\n",
    "                            (unemp_add[\"Year\"] == 2017) |\n",
    "                            (unemp_add[\"Year\"] == 2018), :]\n",
    "labor_df.head()"
   ]
  },
  {
   "cell_type": "code",
   "execution_count": null,
   "metadata": {},
   "outputs": [],
   "source": [
    "labor_reform = labor_df.pivot (index = \"Year\" , columns = \"Area Name\", values =\"Unemployment Rate\")\n",
    "labor_reform.to_csv(\"output files/labor_reform.csv\")\n",
    "labor_reform"
   ]
  },
  {
   "cell_type": "code",
   "execution_count": null,
   "metadata": {},
   "outputs": [],
   "source": [
    "labor_change = labor_df.pivot (index = \"Year\" , columns = \"Area Name\", values =\"Labor Force Change\")\n",
    "labor_change.to_csv(\"output files/labor_change.csv\")\n",
    "labor_change"
   ]
  },
  {
   "cell_type": "code",
   "execution_count": null,
   "metadata": {},
   "outputs": [],
   "source": []
  },
  {
   "cell_type": "code",
   "execution_count": null,
   "metadata": {},
   "outputs": [],
   "source": []
  }
 ],
 "metadata": {
  "kernelspec": {
   "display_name": "Python 3",
   "language": "python",
   "name": "python3"
  },
  "language_info": {
   "codemirror_mode": {
    "name": "ipython",
    "version": 3
   },
   "file_extension": ".py",
   "mimetype": "text/x-python",
   "name": "python",
   "nbconvert_exporter": "python",
   "pygments_lexer": "ipython3",
   "version": "3.7.4"
  }
 },
 "nbformat": 4,
 "nbformat_minor": 2
}
